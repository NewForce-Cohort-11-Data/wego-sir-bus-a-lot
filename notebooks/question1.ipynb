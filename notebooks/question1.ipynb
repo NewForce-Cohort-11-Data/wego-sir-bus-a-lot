{
 "cells": [
  {
   "cell_type": "markdown",
   "id": "d4e1c82f-76bb-49a1-bd0f-0d831dffd57c",
   "metadata": {},
   "source": [
    "# Git (Main): WeGo Sir-Bus-A-Lot Data Analytics Group Project"
   ]
  },
  {
   "cell_type": "code",
   "execution_count": null,
   "id": "7c6c228f-9c1e-432b-9c00-320cd674d4f8",
   "metadata": {},
   "outputs": [],
   "source": [
    "import pandas as pd\n",
    "import matplotlib.pyplot as plt\n",
    "import seaborn as sns"
   ]
  },
  {
   "cell_type": "markdown",
   "id": "53591029-3571-4660-9c66-b00c444476a4",
   "metadata": {},
   "source": [
    "### Question 1: What is the overall on-time performance, and what does the overall distribution of adherence look like?"
   ]
  },
  {
   "cell_type": "code",
   "execution_count": null,
   "id": "4e2254a0-49f9-4802-90cc-c355d9339ece",
   "metadata": {},
   "outputs": [],
   "source": []
  }
 ],
 "metadata": {
  "kernelspec": {
   "display_name": "Python [conda env:base] *",
   "language": "python",
   "name": "conda-base-py"
  },
  "language_info": {
   "codemirror_mode": {
    "name": "ipython",
    "version": 3
   },
   "file_extension": ".py",
   "mimetype": "text/x-python",
   "name": "python",
   "nbconvert_exporter": "python",
   "pygments_lexer": "ipython3",
   "version": "3.13.5"
  }
 },
 "nbformat": 4,
 "nbformat_minor": 5
}
