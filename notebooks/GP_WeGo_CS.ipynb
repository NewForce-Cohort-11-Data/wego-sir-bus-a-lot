{
 "cells": [
  {
   "cell_type": "code",
   "execution_count": 74,
   "id": "572fcbe5-4c1a-4368-8c6a-2b5d0040a4db",
   "metadata": {},
   "outputs": [],
   "source": [
    "import pandas as pd\n",
    "import matplotlib.pyplot as plt\n",
    "import seaborn as sns"
   ]
  },
  {
   "cell_type": "code",
   "execution_count": 75,
   "id": "ea9d8885-9241-445b-bdd8-b29173d662a2",
   "metadata": {},
   "outputs": [
    {
     "name": "stdout",
     "output_type": "stream",
     "text": [
      "(350329, 30)\n"
     ]
    },
    {
     "data": {
      "text/html": [
       "<div>\n",
       "<style scoped>\n",
       "    .dataframe tbody tr th:only-of-type {\n",
       "        vertical-align: middle;\n",
       "    }\n",
       "\n",
       "    .dataframe tbody tr th {\n",
       "        vertical-align: top;\n",
       "    }\n",
       "\n",
       "    .dataframe thead th {\n",
       "        text-align: right;\n",
       "    }\n",
       "</style>\n",
       "<table border=\"1\" class=\"dataframe\">\n",
       "  <thead>\n",
       "    <tr style=\"text-align: right;\">\n",
       "      <th></th>\n",
       "      <th>CALENDAR_ID</th>\n",
       "      <th>SERVICE_ABBR</th>\n",
       "      <th>ADHERENCE_ID</th>\n",
       "      <th>DATE</th>\n",
       "      <th>ROUTE_ABBR</th>\n",
       "      <th>BLOCK_ABBR</th>\n",
       "      <th>OPERATOR</th>\n",
       "      <th>TRIP_ID</th>\n",
       "      <th>OVERLOAD_ID</th>\n",
       "      <th>ROUTE_DIRECTION_NAME</th>\n",
       "      <th>...</th>\n",
       "      <th>ACTUAL_HDWY</th>\n",
       "      <th>HDWY_DEV</th>\n",
       "      <th>ADJUSTED_EARLY_COUNT</th>\n",
       "      <th>ADJUSTED_LATE_COUNT</th>\n",
       "      <th>ADJUSTED_ONTIME_COUNT</th>\n",
       "      <th>STOP_CANCELLED</th>\n",
       "      <th>PREV_SCHED_STOP_CANCELLED</th>\n",
       "      <th>IS_RELIEF</th>\n",
       "      <th>DWELL_IN_MINS</th>\n",
       "      <th>SCHEDULED_LAYOVER_MINUTES</th>\n",
       "    </tr>\n",
       "  </thead>\n",
       "  <tbody>\n",
       "    <tr>\n",
       "      <th>0</th>\n",
       "      <td>120230801</td>\n",
       "      <td>1</td>\n",
       "      <td>99457890</td>\n",
       "      <td>2023-08-01</td>\n",
       "      <td>22</td>\n",
       "      <td>2200</td>\n",
       "      <td>1040</td>\n",
       "      <td>345104</td>\n",
       "      <td>0</td>\n",
       "      <td>TO DOWNTOWN</td>\n",
       "      <td>...</td>\n",
       "      <td>NaN</td>\n",
       "      <td>NaN</td>\n",
       "      <td>0</td>\n",
       "      <td>0</td>\n",
       "      <td>1</td>\n",
       "      <td>0</td>\n",
       "      <td>0.0</td>\n",
       "      <td>0</td>\n",
       "      <td>6.500000</td>\n",
       "      <td>NaN</td>\n",
       "    </tr>\n",
       "    <tr>\n",
       "      <th>1</th>\n",
       "      <td>120230801</td>\n",
       "      <td>1</td>\n",
       "      <td>99457891</td>\n",
       "      <td>2023-08-01</td>\n",
       "      <td>22</td>\n",
       "      <td>2200</td>\n",
       "      <td>1040</td>\n",
       "      <td>345104</td>\n",
       "      <td>0</td>\n",
       "      <td>TO DOWNTOWN</td>\n",
       "      <td>...</td>\n",
       "      <td>NaN</td>\n",
       "      <td>NaN</td>\n",
       "      <td>0</td>\n",
       "      <td>0</td>\n",
       "      <td>1</td>\n",
       "      <td>0</td>\n",
       "      <td>0.0</td>\n",
       "      <td>0</td>\n",
       "      <td>0.000000</td>\n",
       "      <td>NaN</td>\n",
       "    </tr>\n",
       "    <tr>\n",
       "      <th>2</th>\n",
       "      <td>120230801</td>\n",
       "      <td>1</td>\n",
       "      <td>99457892</td>\n",
       "      <td>2023-08-01</td>\n",
       "      <td>22</td>\n",
       "      <td>2200</td>\n",
       "      <td>1040</td>\n",
       "      <td>345104</td>\n",
       "      <td>0</td>\n",
       "      <td>TO DOWNTOWN</td>\n",
       "      <td>...</td>\n",
       "      <td>NaN</td>\n",
       "      <td>NaN</td>\n",
       "      <td>0</td>\n",
       "      <td>0</td>\n",
       "      <td>1</td>\n",
       "      <td>0</td>\n",
       "      <td>0.0</td>\n",
       "      <td>0</td>\n",
       "      <td>0.000000</td>\n",
       "      <td>NaN</td>\n",
       "    </tr>\n",
       "    <tr>\n",
       "      <th>3</th>\n",
       "      <td>120230801</td>\n",
       "      <td>1</td>\n",
       "      <td>99457893</td>\n",
       "      <td>2023-08-01</td>\n",
       "      <td>22</td>\n",
       "      <td>2200</td>\n",
       "      <td>1040</td>\n",
       "      <td>345104</td>\n",
       "      <td>0</td>\n",
       "      <td>TO DOWNTOWN</td>\n",
       "      <td>...</td>\n",
       "      <td>NaN</td>\n",
       "      <td>NaN</td>\n",
       "      <td>0</td>\n",
       "      <td>0</td>\n",
       "      <td>1</td>\n",
       "      <td>0</td>\n",
       "      <td>NaN</td>\n",
       "      <td>0</td>\n",
       "      <td>0.000000</td>\n",
       "      <td>NaN</td>\n",
       "    </tr>\n",
       "    <tr>\n",
       "      <th>4</th>\n",
       "      <td>120230801</td>\n",
       "      <td>1</td>\n",
       "      <td>99457894</td>\n",
       "      <td>2023-08-01</td>\n",
       "      <td>22</td>\n",
       "      <td>2200</td>\n",
       "      <td>1040</td>\n",
       "      <td>345105</td>\n",
       "      <td>0</td>\n",
       "      <td>FROM DOWNTOWN</td>\n",
       "      <td>...</td>\n",
       "      <td>NaN</td>\n",
       "      <td>NaN</td>\n",
       "      <td>0</td>\n",
       "      <td>0</td>\n",
       "      <td>1</td>\n",
       "      <td>0</td>\n",
       "      <td>0.0</td>\n",
       "      <td>0</td>\n",
       "      <td>12.866666</td>\n",
       "      <td>5.0</td>\n",
       "    </tr>\n",
       "  </tbody>\n",
       "</table>\n",
       "<p>5 rows × 30 columns</p>\n",
       "</div>"
      ],
      "text/plain": [
       "   CALENDAR_ID  SERVICE_ABBR  ADHERENCE_ID        DATE  ROUTE_ABBR  \\\n",
       "0    120230801             1      99457890  2023-08-01          22   \n",
       "1    120230801             1      99457891  2023-08-01          22   \n",
       "2    120230801             1      99457892  2023-08-01          22   \n",
       "3    120230801             1      99457893  2023-08-01          22   \n",
       "4    120230801             1      99457894  2023-08-01          22   \n",
       "\n",
       "   BLOCK_ABBR  OPERATOR  TRIP_ID  OVERLOAD_ID ROUTE_DIRECTION_NAME  ...  \\\n",
       "0        2200      1040   345104            0          TO DOWNTOWN  ...   \n",
       "1        2200      1040   345104            0          TO DOWNTOWN  ...   \n",
       "2        2200      1040   345104            0          TO DOWNTOWN  ...   \n",
       "3        2200      1040   345104            0          TO DOWNTOWN  ...   \n",
       "4        2200      1040   345105            0        FROM DOWNTOWN  ...   \n",
       "\n",
       "  ACTUAL_HDWY  HDWY_DEV  ADJUSTED_EARLY_COUNT  ADJUSTED_LATE_COUNT  \\\n",
       "0         NaN       NaN                     0                    0   \n",
       "1         NaN       NaN                     0                    0   \n",
       "2         NaN       NaN                     0                    0   \n",
       "3         NaN       NaN                     0                    0   \n",
       "4         NaN       NaN                     0                    0   \n",
       "\n",
       "   ADJUSTED_ONTIME_COUNT STOP_CANCELLED PREV_SCHED_STOP_CANCELLED IS_RELIEF  \\\n",
       "0                      1              0                       0.0         0   \n",
       "1                      1              0                       0.0         0   \n",
       "2                      1              0                       0.0         0   \n",
       "3                      1              0                       NaN         0   \n",
       "4                      1              0                       0.0         0   \n",
       "\n",
       "   DWELL_IN_MINS  SCHEDULED_LAYOVER_MINUTES  \n",
       "0       6.500000                        NaN  \n",
       "1       0.000000                        NaN  \n",
       "2       0.000000                        NaN  \n",
       "3       0.000000                        NaN  \n",
       "4      12.866666                        5.0  \n",
       "\n",
       "[5 rows x 30 columns]"
      ]
     },
     "execution_count": 75,
     "metadata": {},
     "output_type": "execute_result"
    }
   ],
   "source": [
    "wego = pd.read_csv(\"../data/Headway Data, 8-1-2023 to 9-30-2023.csv\")\n",
    "\n",
    "print(wego.shape)\n",
    "wego.head()"
   ]
  },
  {
   "cell_type": "code",
   "execution_count": 69,
   "id": "f71f1029-a25a-4a3c-85e6-661f6593eb75",
   "metadata": {},
   "outputs": [
    {
     "data": {
      "text/plain": [
       "(338861, 30)"
      ]
     },
     "execution_count": 69,
     "metadata": {},
     "output_type": "execute_result"
    }
   ],
   "source": [
    "wego_clean = wego.dropna(subset = ['ADHERENCE', 'ACTUAL_DEPARTURE_TIME', 'SCHEDULED_TIME'])\n",
    "wego_clean.shape"
   ]
  },
  {
   "cell_type": "code",
   "execution_count": 82,
   "id": "0235d18e-f664-4234-985f-255ba82d9584",
   "metadata": {},
   "outputs": [
    {
     "data": {
      "text/plain": [
       "CALENDAR_ID                       0\n",
       "SERVICE_ABBR                      0\n",
       "ADHERENCE_ID                      0\n",
       "DATE                              0\n",
       "ROUTE_ABBR                        0\n",
       "BLOCK_ABBR                        0\n",
       "OPERATOR                          0\n",
       "TRIP_ID                           0\n",
       "OVERLOAD_ID                       0\n",
       "ROUTE_DIRECTION_NAME              0\n",
       "TIME_POINT_ABBR                   0\n",
       "ROUTE_STOP_SEQUENCE              11\n",
       "TRIP_EDGE                         0\n",
       "LATITUDE                          0\n",
       "LONGITUDE                         0\n",
       "SCHEDULED_TIME                    0\n",
       "ACTUAL_ARRIVAL_TIME           11459\n",
       "ACTUAL_DEPARTURE_TIME         11468\n",
       "ADHERENCE                     11468\n",
       "SCHEDULED_HDWY                75591\n",
       "ACTUAL_HDWY                   84267\n",
       "HDWY_DEV                      84436\n",
       "ADJUSTED_EARLY_COUNT              0\n",
       "ADJUSTED_LATE_COUNT               0\n",
       "ADJUSTED_ONTIME_COUNT             0\n",
       "STOP_CANCELLED                    0\n",
       "PREV_SCHED_STOP_CANCELLED     70329\n",
       "IS_RELIEF                         0\n",
       "DWELL_IN_MINS                 11471\n",
       "SCHEDULED_LAYOVER_MINUTES    297227\n",
       "dtype: int64"
      ]
     },
     "execution_count": 82,
     "metadata": {},
     "output_type": "execute_result"
    }
   ],
   "source": [
    "wego.isna().sum()"
   ]
  },
  {
   "cell_type": "code",
   "execution_count": 73,
   "id": "ebf44117-9d12-4b5e-baa3-1a15bf9b7419",
   "metadata": {},
   "outputs": [
    {
     "data": {
      "text/plain": [
       "CALENDAR_ID                       0\n",
       "SERVICE_ABBR                      0\n",
       "ADHERENCE_ID                      0\n",
       "DATE                              0\n",
       "ROUTE_ABBR                        0\n",
       "BLOCK_ABBR                        0\n",
       "OPERATOR                          0\n",
       "TRIP_ID                           0\n",
       "OVERLOAD_ID                       0\n",
       "ROUTE_DIRECTION_NAME              0\n",
       "TIME_POINT_ABBR                   0\n",
       "ROUTE_STOP_SEQUENCE               5\n",
       "TRIP_EDGE                         0\n",
       "LATITUDE                          0\n",
       "LONGITUDE                         0\n",
       "SCHEDULED_TIME                    0\n",
       "ACTUAL_ARRIVAL_TIME               3\n",
       "ACTUAL_DEPARTURE_TIME             0\n",
       "ADHERENCE                         0\n",
       "SCHEDULED_HDWY                72749\n",
       "ACTUAL_HDWY                   72799\n",
       "HDWY_DEV                      72968\n",
       "ADJUSTED_EARLY_COUNT              0\n",
       "ADJUSTED_LATE_COUNT               0\n",
       "ADJUSTED_ONTIME_COUNT             0\n",
       "STOP_CANCELLED                    0\n",
       "PREV_SCHED_STOP_CANCELLED     67698\n",
       "IS_RELIEF                         0\n",
       "DWELL_IN_MINS                     3\n",
       "SCHEDULED_LAYOVER_MINUTES    285768\n",
       "dtype: int64"
      ]
     },
     "execution_count": 73,
     "metadata": {},
     "output_type": "execute_result"
    }
   ],
   "source": [
    "wego_clean.isna().sum()"
   ]
  },
  {
   "cell_type": "code",
   "execution_count": 23,
   "id": "5234e5ca-9ff4-4f31-ab56-9f2161c4a66a",
   "metadata": {},
   "outputs": [],
   "source": [
    "# Cleaning is unecessary as the three columns being looked at have the same length w/o nulls\n",
    "\n",
    "# wego_clean['SCHEDULED_TIME'] = pd.to_datetime(wego_clean['SCHEDULED_TIME'])\n",
    "# wego_clean['ACTUAL_DEPARTURE_TIME'] = pd.to_datetime(wego_clean['ACTUAL_DEPARTURE_TIME'])\n",
    "# wego_clean.info()"
   ]
  },
  {
   "cell_type": "code",
   "execution_count": 24,
   "id": "cd477980-4ad7-4662-8e16-7276d7f19da0",
   "metadata": {},
   "outputs": [],
   "source": [
    "# wego_clean['ADHERENCE'] = wego_clean['ADHERENCE'].astype(int)\n",
    "# wego_clean['ADHERENCE']"
   ]
  },
  {
   "cell_type": "code",
   "execution_count": null,
   "id": "f8d061c5-865a-4e9a-82c8-e2aa95682299",
   "metadata": {},
   "outputs": [],
   "source": [
    "# wego_clean.reset_index(drop=True, inplace=True)\n",
    "# wego_clean.head()"
   ]
  },
  {
   "cell_type": "code",
   "execution_count": null,
   "id": "e182c528-2f68-455f-80a5-a22009604b55",
   "metadata": {},
   "outputs": [],
   "source": [
    "# wego_clean.info()"
   ]
  },
  {
   "cell_type": "code",
   "execution_count": 90,
   "id": "0c0fad28-0cd6-406d-8366-82cffc0cbcb8",
   "metadata": {},
   "outputs": [
    {
     "data": {
      "text/plain": [
       "350329"
      ]
     },
     "execution_count": 90,
     "metadata": {},
     "output_type": "execute_result"
    }
   ],
   "source": [
    "len(wego['ADHERENCE'])"
   ]
  },
  {
   "cell_type": "markdown",
   "id": "6e1d8aa8-def3-48d3-bf88-5f7f1ce6426c",
   "metadata": {},
   "source": [
    "#### 1. What is the overall on-time performance, and what do the overall distribution of adherence look like?"
   ]
  },
  {
   "cell_type": "code",
   "execution_count": 93,
   "id": "d1aa3f04-8661-4291-96a9-34c79f040a94",
   "metadata": {},
   "outputs": [
    {
     "name": "stdout",
     "output_type": "stream",
     "text": [
      "On-Time Count: 270048\n",
      "Early Count: 9775\n",
      "Late Count: 59038\n",
      "Total Records 338861\n",
      "Overall On-Time Performance: 79.69%\n",
      "Overall Early Performance: 2.88%\n",
      "Overall Late Performance: 17.42%\n"
     ]
    }
   ],
   "source": [
    "# Logic: README explicitly recommends using ADJUSTED_ONTIME_COUNT, ADJUSTED_EARLY_COUNT, AND ADJUSTED_LATE_COUNT. A trip with trip_edge = 2 is technically counted \n",
    "# as on-time if early since it is the end of the trip. This would be counted as ADJUSTED_ONTIME_COUNT = 1. Utilizing the ADHERENCE column and setting thresholds of -6 and +1 will give\n",
    "# differenct percentages.\n",
    "\n",
    "# sum adjusted counts for ontime, early, and late\n",
    "ontime = wego['ADJUSTED_ONTIME_COUNT'].sum()\n",
    "early = wego['ADJUSTED_EARLY_COUNT'].sum()\n",
    "late = wego['ADJUSTED_LATE_COUNT'].sum()\n",
    "\n",
    "print(f\"On-Time Count: {ontime:}\")\n",
    "print(f\"Early Count: {early:}\")\n",
    "print(f\"Late Count: {late:}\")\n",
    "\n",
    "# total trips\n",
    "total = ontime + early + late\n",
    "print(f\"Total Records {total:}\")\n",
    "\n",
    "# ontime performance percentage\n",
    "ontime_performance = (ontime / total) * 100\n",
    "\n",
    "# early performance percentage\n",
    "early_performance = (early / total) * 100\n",
    "\n",
    "# late performance percentage\n",
    "late_performance = (late / total) * 100\n",
    "\n",
    "print(f\"Overall On-Time Performance: {ontime_performance:.2f}%\")\n",
    "print(f\"Overall Early Performance: {early_performance:.2f}%\")\n",
    "print(f\"Overall Late Performance: {late_performance:.2f}%\")"
   ]
  },
  {
   "cell_type": "code",
   "execution_count": 100,
   "id": "41fa3b7f-752c-4ba2-a7a8-b10908a94418",
   "metadata": {},
   "outputs": [
    {
     "data": {
      "text/plain": [
       "(338861, 30)"
      ]
     },
     "execution_count": 100,
     "metadata": {},
     "output_type": "execute_result"
    }
   ],
   "source": [
    "# wego = wego.dropna(subset = ['ADHERENCE'])\n",
    "# wego.shape"
   ]
  },
  {
   "cell_type": "code",
   "execution_count": 26,
   "id": "176fbd2c-c852-40e4-b8dd-1dbd1dffcaf1",
   "metadata": {},
   "outputs": [
    {
     "data": {
      "image/png": "[encoded data removed]",
      "text/plain": [
       "<Figure size 640x480 with 1 Axes>"
      ]
     },
     "metadata": {},
     "output_type": "display_data"
    }
   ],
   "source": [
    "pct = {\n",
    "    \"Early\": early_performance,\n",
    "    \"On-Time\": ontime_performance,\n",
    "    \"Late\": late_performance\n",
    "}\n",
    "\n",
    "labels, values = zip(*pct.items())\n",
    "\n",
    "plt.figure()\n",
    "plt.bar(labels, values)\n",
    "plt.ylabel(\"Performance Percentage\")\n",
    "plt.title(\"Adherence Distribution (Early / On-Time / Late)\")\n",
    "plt.ylim(0, 100)\n",
    "for i, v in enumerate(values):\n",
    "    plt.text(i, v + 1, f\"{v:.1f}%\", ha=\"center\")\n",
    "\n",
    "plt.savefig('adherence_distribution.png')\n",
    "\n",
    "plt.show()"
   ]
  },
  {
   "cell_type": "code",
   "execution_count": 27,
   "id": "02d8f7fc-d99f-4f9b-8658-0933ca77bb13",
   "metadata": {},
   "outputs": [
    {
     "data": {
      "image/png": "[encoded data removed]",
      "text/plain": [
       "<Figure size 640x480 with 1 Axes>"
      ]
     },
     "metadata": {},
     "output_type": "display_data"
    }
   ],
   "source": [
    "adherence_values = wego[\"ADHERENCE\"].dropna()\n",
    "filtered_adherence = adherence_values[(adherence_values > -30) & (adherence_values < 15)]\n",
    "\n",
    "plt.hist(filtered_adherence, bins=30, color = 'skyblue', edgecolor = 'black')\n",
    "plt.title(\"Adherence Distribution\")\n",
    "plt.xlabel(\"Adherence (minutes)\")\n",
    "plt.ylabel(\"Number of Records\")\n",
    "\n",
    "plt.axvline(x=1, color='green', linestyle='--', label='Early Threshold (+1 min)')\n",
    "plt.axvline(x=-5, color='red', linestyle='--', label='Late Threshold (-6 min)')\n",
    "plt.legend()\n",
    "\n",
    "plt.savefig('adherence_dist_histogram.png')\n",
    "\n",
    "plt.show()"
   ]
  },
  {
   "cell_type": "code",
   "execution_count": null,
   "id": "3d9bd20b-8e25-4971-80c4-7d7ddb4c223c",
   "metadata": {},
   "outputs": [],
   "source": [
    "adherence_route_mean = wego.groupby('ROUTE_ABBR')['ADHERENCE'].mean().reset_index()\n",
    "adherence_route_mean = pd.DataFrame(adherence_route_mean)\n",
    "adherence_route_mean"
   ]
  },
  {
   "cell_type": "code",
   "execution_count": null,
   "id": "e71b9891-b359-4c43-9cd6-77ab734e0ba7",
   "metadata": {},
   "outputs": [],
   "source": [
    "plt.figure(figsize=(8,5))\n",
    "plt.bar(adherence_route_mean['ROUTE_ABBR'].astype(str), adherence_route_mean['ADHERENCE'] , color='skyblue', edgecolor='black')\n",
    "plt.title('Average Adherence by Route')\n",
    "plt.xlabel('Route')\n",
    "plt.ylabel('Average Adherence (minutes)')\n",
    "plt.show()"
   ]
  },
  {
   "cell_type": "code",
   "execution_count": null,
   "id": "94c8301d-6654-4bf3-8d9e-6e7fdeea1dca",
   "metadata": {},
   "outputs": [],
   "source": [
    "wego['ADHERENCE'].describe()"
   ]
  },
  {
   "cell_type": "markdown",
   "id": "e6a5303e-3799-43ca-96fe-92e3ac54ed6f",
   "metadata": {},
   "source": [
    "#### 2. How does direction of travel, route, or location affect the on-time performance?"
   ]
  },
  {
   "cell_type": "code",
   "execution_count": null,
   "id": "1a423698-971e-4dbc-b383-5993c7e75904",
   "metadata": {},
   "outputs": [],
   "source": [
    "# Group by route and sum adjusted counts\n",
    "route_group = wego.groupby('ROUTE_ABBR').agg({\n",
    "    'ADJUSTED_ONTIME_COUNT': 'sum',\n",
    "    'ADJUSTED_LATE_COUNT': 'sum',\n",
    "    'ADJUSTED_EARLY_COUNT': 'sum'\n",
    "}) \n",
    "\n",
    "# Calculate total trips per route\n",
    "route_group['Total Trips'] = (\n",
    "    route_group['ADJUSTED_ONTIME_COUNT'] + \n",
    "    route_group['ADJUSTED_LATE_COUNT'] + \n",
    "    route_group['ADJUSTED_EARLY_COUNT']\n",
    ")\n",
    "\n",
    "# Calculate on-time percentage\n",
    "route_group['On-Time Pct'] = (\n",
    "    route_group['ADJUSTED_ONTIME_COUNT'] / route_group['Total Trips']\n",
    ") * 100\n",
    "\n",
    "# Show top and bottom routes by on-time performance\n",
    "route_group.sort_values('On-Time Pct', ascending=False).head(10).reset_index()"
   ]
  },
  {
   "cell_type": "code",
   "execution_count": 11,
   "id": "b254f53c-9ada-4297-98e1-40da540fd406",
   "metadata": {},
   "outputs": [
    {
     "data": {
      "text/plain": [
       "ROUTE_DIRECTION_NAME\n",
       "FROM DOWNTOWN    185793\n",
       "TO DOWNTOWN      164536\n",
       "Name: count, dtype: int64"
      ]
     },
     "execution_count": 11,
     "metadata": {},
     "output_type": "execute_result"
    }
   ],
   "source": [
    "wego['ROUTE_DIRECTION_NAME'].unique()\n",
    "wego['ROUTE_DIRECTION_NAME'].value_counts()"
   ]
  },
  {
   "cell_type": "code",
   "execution_count": 18,
   "id": "d65c549a-2f49-4ded-a732-0082a6d1c823",
   "metadata": {},
   "outputs": [
    {
     "data": {
      "text/html": [
       "<div>\n",
       "<style scoped>\n",
       "    .dataframe tbody tr th:only-of-type {\n",
       "        vertical-align: middle;\n",
       "    }\n",
       "\n",
       "    .dataframe tbody tr th {\n",
       "        vertical-align: top;\n",
       "    }\n",
       "\n",
       "    .dataframe thead th {\n",
       "        text-align: right;\n",
       "    }\n",
       "</style>\n",
       "<table border=\"1\" class=\"dataframe\">\n",
       "  <thead>\n",
       "    <tr style=\"text-align: right;\">\n",
       "      <th></th>\n",
       "      <th>ROUTE_DIRECTION_NAME</th>\n",
       "      <th>ADJUSTED_ONTIME_COUNT</th>\n",
       "      <th>ADJUSTED_LATE_COUNT</th>\n",
       "      <th>ADJUSTED_EARLY_COUNT</th>\n",
       "      <th>dir_total_trips</th>\n",
       "      <th>On-Time Pct</th>\n",
       "      <th>Early Pct</th>\n",
       "      <th>Late Pct</th>\n",
       "    </tr>\n",
       "  </thead>\n",
       "  <tbody>\n",
       "    <tr>\n",
       "      <th>0</th>\n",
       "      <td>TO DOWNTOWN</td>\n",
       "      <td>135634</td>\n",
       "      <td>19437</td>\n",
       "      <td>4484</td>\n",
       "      <td>159555</td>\n",
       "      <td>85.007678</td>\n",
       "      <td>2.810316</td>\n",
       "      <td>12.182006</td>\n",
       "    </tr>\n",
       "    <tr>\n",
       "      <th>1</th>\n",
       "      <td>FROM DOWNTOWN</td>\n",
       "      <td>134414</td>\n",
       "      <td>39601</td>\n",
       "      <td>5291</td>\n",
       "      <td>179306</td>\n",
       "      <td>74.963470</td>\n",
       "      <td>2.950822</td>\n",
       "      <td>22.085708</td>\n",
       "    </tr>\n",
       "  </tbody>\n",
       "</table>\n",
       "</div>"
      ],
      "text/plain": [
       "  ROUTE_DIRECTION_NAME  ADJUSTED_ONTIME_COUNT  ADJUSTED_LATE_COUNT  \\\n",
       "0          TO DOWNTOWN                 135634                19437   \n",
       "1        FROM DOWNTOWN                 134414                39601   \n",
       "\n",
       "   ADJUSTED_EARLY_COUNT  dir_total_trips  On-Time Pct  Early Pct   Late Pct  \n",
       "0                  4484           159555    85.007678   2.810316  12.182006  \n",
       "1                  5291           179306    74.963470   2.950822  22.085708  "
      ]
     },
     "execution_count": 18,
     "metadata": {},
     "output_type": "execute_result"
    }
   ],
   "source": [
    "# Group by direction and calculate adjusted on-time performance\n",
    "direction_group = wego.groupby('ROUTE_DIRECTION_NAME').agg({\n",
    "    'ADJUSTED_ONTIME_COUNT': 'sum',\n",
    "    'ADJUSTED_LATE_COUNT': 'sum',\n",
    "    'ADJUSTED_EARLY_COUNT': 'sum'\n",
    "})\n",
    "\n",
    "# calculate total trips per direction (to downtown / from downtown)\n",
    "direction_group['dir_total_trips'] = (\n",
    "    direction_group['ADJUSTED_ONTIME_COUNT'] + \n",
    "    direction_group['ADJUSTED_LATE_COUNT'] + \n",
    "    direction_group['ADJUSTED_EARLY_COUNT']\n",
    ")\n",
    "\n",
    "# Calculate percentage\n",
    "direction_group['On-Time Pct'] = (\n",
    "    direction_group['ADJUSTED_ONTIME_COUNT'] / direction_group['dir_total_trips']\n",
    ") * 100\n",
    "\n",
    "direction_group['Early Pct'] = (\n",
    "    direction_group['ADJUSTED_EARLY_COUNT'] / direction_group['dir_total_trips']\n",
    ") * 100\n",
    "\n",
    "direction_group['Late Pct'] = (\n",
    "    direction_group['ADJUSTED_LATE_COUNT'] / direction_group['dir_total_trips']\n",
    ") * 100\n",
    "   \n",
    "direction_group.sort_values('On-Time Pct', ascending=False).reset_index()"
   ]
  },
  {
   "cell_type": "code",
   "execution_count": null,
   "id": "ece47ad3-351d-49b8-9012-2ce918cf853e",
   "metadata": {},
   "outputs": [],
   "source": [
    "# by location\n",
    "location_group = wego.groupby('TIME_POINT_ABBR').agg({\n",
    "    'ADJUSTED_ONTIME_COUNT': 'sum',\n",
    "    'ADJUSTED_LATE_COUNT': 'sum',\n",
    "    'ADJUSTED_EARLY_COUNT': 'sum'\n",
    "})\n",
    "\n",
    "# Calculate total trips per location\n",
    "location_group['loc_total_trips'] = (\n",
    "    location_group['ADJUSTED_ONTIME_COUNT'] + \n",
    "    location_group['ADJUSTED_LATE_COUNT'] + \n",
    "    location_group['ADJUSTED_EARLY_COUNT']\n",
    ")\n",
    "\n",
    "location_group['On-Time Pct'] = (\n",
    "    location_group['ADJUSTED_ONTIME_COUNT'] / location_group['loc_total_trips']\n",
    ") * 100\n",
    "\n",
    "# Show locations with best and worst on-time performance\n",
    "location_group.sort_values('On-Time Pct', ascending=False).reset_index()"
   ]
  },
  {
   "cell_type": "code",
   "execution_count": null,
   "id": "dce6d23a-8867-4625-b6ea-a5097a2bff5a",
   "metadata": {},
   "outputs": [],
   "source": [
    "# top_direction = direction_group.sort_values('On-Time Pct', ascending=False).head(10).reset_index()\n",
    "\n",
    "# plt.figure(figsize=(12, 6))\n",
    "# sns.barplot(data=top_direction, x='ROUTE_DIRECTION_NAME', y='On-Time Pct')\n",
    "# plt.title('')\n",
    "# plt.ylabel('On-Time Percentage')\n",
    "# plt.xlabel('Direction')\n",
    "# plt.ylim(0, 100)\n",
    "# plt.grid(axis='y')\n",
    "# plt.tight_layout()\n",
    "# plt.show()"
   ]
  },
  {
   "cell_type": "code",
   "execution_count": null,
   "id": "5cb1af85-7292-45dc-8b89-c3301cb1bb1c",
   "metadata": {},
   "outputs": [],
   "source": [
    "top_routes = route_group.sort_values('On-Time Pct', ascending=False).head(10).reset_index()\n",
    "\n",
    "plt.figure(figsize=(12, 6))\n",
    "sns.barplot(data=top_routes, x='ROUTE_ABBR', y='On-Time Pct')\n",
    "plt.title('Top 10 Routes by On-Time Performance')\n",
    "plt.ylabel('On-Time Percentage')\n",
    "plt.xlabel('Route')\n",
    "plt.ylim(0, 100)\n",
    "plt.grid(axis='y')\n",
    "plt.tight_layout()\n",
    "\n",
    "plt.savefig('top_10_routes_ontime_perf.png')\n",
    "\n",
    "plt.show()"
   ]
  },
  {
   "cell_type": "code",
   "execution_count": null,
   "id": "5b2e333f-0cfd-4172-92cf-24b097b93a34",
   "metadata": {},
   "outputs": [],
   "source": [
    "# top_location = location_group.sort_values('On-Time Pct', ascending=False).head(10).reset_index()\n",
    "\n",
    "# plt.figure(figsize=(12, 6))\n",
    "# sns.barplot(data=top_location, x='TIME_POINT_ABBR', y='On-Time Pct')\n",
    "# plt.title('Top 10 Locations by On-Time Performance')\n",
    "# plt.ylabel('On-Time Percentage')\n",
    "# plt.xlabel('Route')\n",
    "# plt.ylim(0, 100)\n",
    "# plt.grid(axis='y')\n",
    "# plt.tight_layout()\n",
    "# plt.show()"
   ]
  },
  {
   "cell_type": "markdown",
   "id": "d7bf5176-a0b4-4034-aa6e-8765105efbc6",
   "metadata": {},
   "source": [
    "### 3. How does time of day or day of week affect on-time performance?"
   ]
  },
  {
   "cell_type": "code",
   "execution_count": null,
   "id": "3d4eca38-953a-4169-a94f-cda75f6b68f4",
   "metadata": {},
   "outputs": [],
   "source": [
    "wego['SCHEDULED_TIME'] = pd.to_datetime(wego['SCHEDULED_TIME'])\n",
    "wego['ACTUAL_DEPARTURE_TIME'] = pd.to_datetime(wego['ACTUAL_DEPARTURE_TIME'])\n",
    "\n",
    "wego['weekday'] = wego['SCHEDULED_TIME'].dt.day_name()\n",
    "wego['hour'] = wego['SCHEDULED_TIME'].dt.hour"
   ]
  },
  {
   "cell_type": "code",
   "execution_count": null,
   "id": "b28783de-952b-45d8-bb0f-f9af4698affb",
   "metadata": {},
   "outputs": [],
   "source": [
    "wego['total_trips'] = (\n",
    "    wego['ADJUSTED_EARLY_COUNT'] +\n",
    "    wego['ADJUSTED_LATE_COUNT'] +\n",
    "    wego['ADJUSTED_ONTIME_COUNT']\n",
    ")\n",
    "\n",
    "wego = wego[wego['total_trips'] > 0].copy()\n",
    "\n",
    "print(wego['total_trips'])"
   ]
  },
  {
   "cell_type": "code",
   "execution_count": null,
   "id": "84287b6f-bccf-45e8-88aa-4e7a2327fc6c",
   "metadata": {},
   "outputs": [],
   "source": [
    "wego['on_time_pct'] = (\n",
    "    wego['ADJUSTED_ONTIME_COUNT'] / wego['total_trips'] * 100\n",
    ")\n",
    "\n",
    "# 5. Group by hour and weekday\n",
    "hour_perf = wego.groupby('hour')['on_time_pct'].mean()\n",
    "\n",
    "weekday_order = ['Monday', 'Tuesday', 'Wednesday', 'Thursday', 'Friday', 'Saturday', 'Sunday']\n",
    "weekday_perf = wego.groupby('weekday')['on_time_pct'].mean().reindex(weekday_order)\n",
    "\n",
    "hour_perf"
   ]
  },
  {
   "cell_type": "code",
   "execution_count": null,
   "id": "644ba7b1-ab36-491b-b3aa-26ec44e46e18",
   "metadata": {},
   "outputs": [],
   "source": [
    "# Hourly plot\n",
    "plt.figure(figsize=(10, 5))\n",
    "hour_perf.plot(marker='o')\n",
    "plt.title('Average On-Time Percentage by Hour of Day')\n",
    "plt.xlabel('Hour')\n",
    "plt.ylabel('On-Time Percentage (%)')\n",
    "plt.grid(True)\n",
    "plt.xticks(range(0, 24))\n",
    "plt.show()\n",
    "\n",
    "# Weekly plot\n",
    "plt.figure(figsize=(10, 5))\n",
    "weekday_perf.plot(kind='bar')\n",
    "plt.title('Average On-Time Percentage by Day of Week')\n",
    "plt.xlabel('Day')\n",
    "plt.ylabel('On-Time Percentage (%)')\n",
    "plt.xticks(rotation=45)\n",
    "plt.grid(axis='y')\n",
    "plt.show()"
   ]
  },
  {
   "cell_type": "markdown",
   "id": "1c71ca67-dd44-47a7-afde-a878bf95a80b",
   "metadata": {},
   "source": [
    "### 5. Is there any relationship between lateness (ADHERENCE) and headway deviation? The headway deviation variable is contained in the HDWY_DEV column. See the notes under number 9 for a description of headway and headway deviation."
   ]
  },
  {
   "cell_type": "code",
   "execution_count": null,
   "id": "5042211d-d1c1-4530-acba-61e4ba06be5b",
   "metadata": {},
   "outputs": [],
   "source": [
    "#1. Take a look at ADHERENCE and HDWY_DEV\n",
    "wego['ADHERENCE'].isna().sum()"
   ]
  },
  {
   "cell_type": "code",
   "execution_count": null,
   "id": "7a1bf110-c855-417c-9f37-ef11b2290f3a",
   "metadata": {},
   "outputs": [],
   "source": [
    "wego['HDWY_DEV'].isna().sum()"
   ]
  },
  {
   "cell_type": "code",
   "execution_count": 83,
   "id": "f65ae799-3191-4909-8a0f-a6a82c3ddaf2",
   "metadata": {},
   "outputs": [
    {
     "data": {
      "text/html": [
       "<div>\n",
       "<style scoped>\n",
       "    .dataframe tbody tr th:only-of-type {\n",
       "        vertical-align: middle;\n",
       "    }\n",
       "\n",
       "    .dataframe tbody tr th {\n",
       "        vertical-align: top;\n",
       "    }\n",
       "\n",
       "    .dataframe thead th {\n",
       "        text-align: right;\n",
       "    }\n",
       "</style>\n",
       "<table border=\"1\" class=\"dataframe\">\n",
       "  <thead>\n",
       "    <tr style=\"text-align: right;\">\n",
       "      <th></th>\n",
       "      <th>ADHERENCE</th>\n",
       "      <th>HDWY_DEV</th>\n",
       "    </tr>\n",
       "  </thead>\n",
       "  <tbody>\n",
       "    <tr>\n",
       "      <th>0</th>\n",
       "      <td>-1.716666</td>\n",
       "      <td>2.666666</td>\n",
       "    </tr>\n",
       "    <tr>\n",
       "      <th>1</th>\n",
       "      <td>-1.916666</td>\n",
       "      <td>1.966666</td>\n",
       "    </tr>\n",
       "    <tr>\n",
       "      <th>2</th>\n",
       "      <td>-0.183333</td>\n",
       "      <td>-0.483334</td>\n",
       "    </tr>\n",
       "    <tr>\n",
       "      <th>3</th>\n",
       "      <td>-1.316666</td>\n",
       "      <td>-2.166667</td>\n",
       "    </tr>\n",
       "    <tr>\n",
       "      <th>4</th>\n",
       "      <td>1.500000</td>\n",
       "      <td>-3.883334</td>\n",
       "    </tr>\n",
       "    <tr>\n",
       "      <th>...</th>\n",
       "      <td>...</td>\n",
       "      <td>...</td>\n",
       "    </tr>\n",
       "    <tr>\n",
       "      <th>265888</th>\n",
       "      <td>-5.900000</td>\n",
       "      <td>6.716666</td>\n",
       "    </tr>\n",
       "    <tr>\n",
       "      <th>265889</th>\n",
       "      <td>-8.616666</td>\n",
       "      <td>4.916666</td>\n",
       "    </tr>\n",
       "    <tr>\n",
       "      <th>265890</th>\n",
       "      <td>-8.433333</td>\n",
       "      <td>5.266666</td>\n",
       "    </tr>\n",
       "    <tr>\n",
       "      <th>265891</th>\n",
       "      <td>-4.316666</td>\n",
       "      <td>1.866666</td>\n",
       "    </tr>\n",
       "    <tr>\n",
       "      <th>265892</th>\n",
       "      <td>-22.083333</td>\n",
       "      <td>17.500000</td>\n",
       "    </tr>\n",
       "  </tbody>\n",
       "</table>\n",
       "<p>265893 rows × 2 columns</p>\n",
       "</div>"
      ],
      "text/plain": [
       "        ADHERENCE   HDWY_DEV\n",
       "0       -1.716666   2.666666\n",
       "1       -1.916666   1.966666\n",
       "2       -0.183333  -0.483334\n",
       "3       -1.316666  -2.166667\n",
       "4        1.500000  -3.883334\n",
       "...           ...        ...\n",
       "265888  -5.900000   6.716666\n",
       "265889  -8.616666   4.916666\n",
       "265890  -8.433333   5.266666\n",
       "265891  -4.316666   1.866666\n",
       "265892 -22.083333  17.500000\n",
       "\n",
       "[265893 rows x 2 columns]"
      ]
     },
     "execution_count": 83,
     "metadata": {},
     "output_type": "execute_result"
    }
   ],
   "source": [
    "# 2. Drop NA, create correlation variable\n",
    "wego_corr = wego[['ADHERENCE', 'HDWY_DEV']].dropna().reset_index(drop=True)\n",
    "wego_corr"
   ]
  },
  {
   "cell_type": "code",
   "execution_count": 84,
   "id": "ce4a521d-6b7a-46a2-8da2-e01be44b29a1",
   "metadata": {},
   "outputs": [],
   "source": [
    "#3. Correlation\n",
    "wego_adhdev_corr = wego_corr['ADHERENCE'].corr(wego_corr['HDWY_DEV'])"
   ]
  },
  {
   "cell_type": "code",
   "execution_count": 85,
   "id": "bd6ce13a-8a77-414e-994b-b6b50cb225d2",
   "metadata": {},
   "outputs": [
    {
     "name": "stdout",
     "output_type": "stream",
     "text": [
      "Correlation between ADHERENCE and HDWY_DEV: -0.21\n"
     ]
    }
   ],
   "source": [
    "print(f'Correlation between ADHERENCE and HDWY_DEV: {wego_adhdev_corr:.2f}')"
   ]
  },
  {
   "cell_type": "code",
   "execution_count": 86,
   "id": "086469c2-1e29-49af-bf51-d947477b9cd3",
   "metadata": {},
   "outputs": [
    {
     "name": "stdout",
     "output_type": "stream",
     "text": [
      "Pearson Correlation Coefficient: -0.207\n",
      "P-value: 0.000\n"
     ]
    }
   ],
   "source": [
    "# pearson correlation, r-value p-value\n",
    "from scipy import stats\n",
    "pearson_corr, p_value = stats.pearsonr(wego_corr['ADHERENCE'], wego_corr['HDWY_DEV'])\n",
    "\n",
    "print(f\"Pearson Correlation Coefficient: {pearson_corr:.3f}\")\n",
    "print(f\"P-value: {p_value:.3f}\")"
   ]
  },
  {
   "cell_type": "code",
   "execution_count": 88,
   "id": "232a2152-4655-4051-a65e-0435a23377d9",
   "metadata": {},
   "outputs": [
    {
     "data": {
      "image/png": "[encoded data removed]",
      "text/plain": [
       "<Figure size 800x600 with 1 Axes>"
      ]
     },
     "metadata": {},
     "output_type": "display_data"
    }
   ],
   "source": [
    "# 4. Scatterplot\n",
    "plt.figure(figsize=(8, 6))\n",
    "ax = sns.scatterplot(data=wego_corr, x='ADHERENCE', y='HDWY_DEV', alpha=0.3)\n",
    "plt.title('Correlation Between ADHERENCE (Lateness) and HDWY_DEV (Headway Deviation)')\n",
    "plt.xlabel('Adherence (minutes)')\n",
    "plt.ylabel('Headway Deviation (minutes)')\n",
    "plt.axhline(0, color='gray', linestyle='--', linewidth=1)\n",
    "plt.axvline(0, color='gray', linestyle='--', linewidth=1)\n",
    "plt.grid(True)\n",
    "\n",
    "\n",
    "plt.text(0.05, 0.95, f'r = {pearson_corr:.2f}\\np = {p_value:.3f}', transform=ax.transAxes,\n",
    "         fontsize=12, verticalalignment='top', horizontalalignment = 'left', bbox=dict(boxstyle='round,pad=0.2', fc='skyblue', alpha=0.7))\n",
    "\n",
    "# plt.savefig('corr_adherence_hdwydev.png')\n",
    "\n",
    "plt.show()\n",
    "\n",
    "## Interpretation: Most data points are clustered near the origin, suggesting that most buses are close to being on time and have low headway deviation. There are some outliers with extreme lateness and high deviation.\n",
    "## This suggests that worse adherence (lateness) is associated with more irregular spacing between buses, which could impact service reliability. However, the correlation (-0.21) is weak, so other factors may also\n",
    "## be influencing headway deviation."
   ]
  },
  {
   "cell_type": "code",
   "execution_count": null,
   "id": "7219606c-c40f-48a1-8d1b-110d7fc6a321",
   "metadata": {},
   "outputs": [],
   "source": [
    "# Scatter plot with regression line. Doesn't look all that great.\n",
    "\n",
    "# sns.set(style=\"whitegrid\")\n",
    "# sns.lmplot(\n",
    "#     x=\"ADHERENCE\",\n",
    "#     y=\"HDWY_DEV\",\n",
    "#     data=wego_corr,\n",
    "#     scatter_kws={\"alpha\": 0.3},\n",
    "#     height=5,\n",
    "#     aspect=1.5,\n",
    "#     line_kws={\"color\": \"red\"}\n",
    "# )\n",
    "# plt.title(\"Linear Trend: Adherence vs. Headway Deviation\")\n",
    "# plt.xlabel(\"Adherence (minutes)\")\n",
    "# plt.ylabel(\"Headway Deviation (minutes)\")\n",
    "# plt.tight_layout()\n",
    "# plt.show()"
   ]
  },
  {
   "cell_type": "markdown",
   "id": "6797d17b-2b0c-41c2-b240-8d60b11c15e3",
   "metadata": {},
   "source": [
    "### Question 5: Setting PREV_SCHED_STOP_CANCELLED == 0 as PREV_SCHED_STOP_CANCELLED: flags whether the previous timepoint crossing was cancelled or waived. Useful for excluding records where the headway values are extremely high because the bus is just coming off a detour. Does not drastically change the correlation. Will likely stick with the original analysis and scatterplot."
   ]
  },
  {
   "cell_type": "code",
   "execution_count": null,
   "id": "7956b05e-909b-4436-97b4-6fb44272c506",
   "metadata": {},
   "outputs": [],
   "source": [
    "wego_corr_2 = wego[['ADHERENCE', 'HDWY_DEV', 'PREV_SCHED_STOP_CANCELLED']].dropna().reset_index(drop=True)\n",
    "wego_corr_2.shape"
   ]
  },
  {
   "cell_type": "code",
   "execution_count": null,
   "id": "05299af0-ad85-4a34-b04a-8e8431d4936a",
   "metadata": {},
   "outputs": [],
   "source": [
    "# wego_corr_2_clean = wego_corr_2[wego_corr_2['PREV_SCHED_STOP_CANCELLED'] == 0]\n",
    "# wego_corr_2_clean.shape"
   ]
  },
  {
   "cell_type": "code",
   "execution_count": null,
   "id": "73a9e86c-93b5-4f6d-8737-64e4d184dcc9",
   "metadata": {},
   "outputs": [],
   "source": [
    "# wego_corr_2_pearson = wego_corr_2_clean['ADHERENCE'].corr(wego_corr_2_clean['HDWY_DEV'], method = 'pearson')\n",
    "# print(wego_corr_2_pearson)\n",
    "\n",
    "# wego_corr_2_spearman = wego_corr_2_clean['ADHERENCE'].corr(wego_corr_2_clean['HDWY_DEV'], method = 'spearman')\n",
    "# print(wego_corr_2_spearman)\n",
    "\n",
    "# pearson_corr, p_value = stats.pearsonr(wego_corr_2_clean['ADHERENCE'], wego_corr_2_clean['HDWY_DEV'])\n",
    "\n",
    "# print(f\"Pearson Correlation Coefficient: {pearson_corr:.3f}\")\n",
    "# print(f\"P-value: {p_value:.3f}\")"
   ]
  },
  {
   "cell_type": "code",
   "execution_count": null,
   "id": "2f5ffb2b-fcfa-4b8e-b33a-8f44a00a4b62",
   "metadata": {},
   "outputs": [],
   "source": [
    "# # plt.figure(figsize=(8, 6))\n",
    "# ax = sns.scatterplot(data=wego_corr_2_clean, x='ADHERENCE', y='HDWY_DEV', alpha=0.5)\n",
    "# plt.title('Correlation Between ADHERENCE (Lateness) and HDWY_DEV (Headway Deviation)')\n",
    "# plt.xlabel('Adherence (minutes)')\n",
    "# plt.ylabel('Headway Deviation (minutes)')\n",
    "# plt.axhline(0, color='black', linestyle='--', linewidth=1)\n",
    "# plt.axvline(0, color='black', linestyle='--', linewidth=1)\n",
    "# plt.grid(True)\n",
    "\n",
    "\n",
    "# plt.text(0.05, 0.95, f'r = {pearson_corr:.2f}\\np = {p_value:.3f}', transform=ax.transAxes,\n",
    "#          fontsize=12, verticalalignment='top', horizontalalignment = 'left', bbox=dict(boxstyle='round,pad=0.2', fc='skyblue', alpha=0.7))\n",
    "\n",
    "# # # plt.savefig('corr_adherence_hdwydev.png')\n",
    "\n",
    "# plt.show()"
   ]
  },
  {
   "cell_type": "markdown",
   "id": "181838f2-c056-40d4-ac65-adb59cabbf07",
   "metadata": {},
   "source": [
    "### 8. What is the relationship between distance or time traveled since the start of a given trip and the adherence value? Does on-time performance become less stable the further along the route the bus has traveled?"
   ]
  },
  {
   "cell_type": "code",
   "execution_count": null,
   "id": "9cefb719-c1d3-46e5-8d93-7addb5312907",
   "metadata": {},
   "outputs": [],
   "source": []
  },
  {
   "cell_type": "code",
   "execution_count": 20,
   "id": "869bbaca-1959-45d5-8d28-1a1a14f3c372",
   "metadata": {},
   "outputs": [],
   "source": [
    "# 1. Drop NA for ADHERENCE and ROUTE_STOP_SEQUENCE\n",
    "wego_filter = wego[['ADHERENCE', 'ROUTE_STOP_SEQUENCE']].dropna()"
   ]
  },
  {
   "cell_type": "code",
   "execution_count": 21,
   "id": "b5979893-734a-4a71-b762-3edea9959f57",
   "metadata": {},
   "outputs": [],
   "source": [
    "# 2. Groupby ROUTE_STOP_SEQUENCE, calculate mean and standard deviation of adherence\n",
    "adherence_stats = wego_filter.groupby('ROUTE_STOP_SEQUENCE')['ADHERENCE'].agg(['mean', 'std']).reset_index()"
   ]
  },
  {
   "cell_type": "code",
   "execution_count": 22,
   "id": "e01bf019-cb65-477e-be4d-6f2fa2be5c26",
   "metadata": {},
   "outputs": [
    {
     "data": {
      "image/png": "[encoded data removed]",
      "text/plain": [
       "<Figure size 1200x600 with 1 Axes>"
      ]
     },
     "metadata": {},
     "output_type": "display_data"
    }
   ],
   "source": [
    "# Plot mean adherence with standard deviation\n",
    "plt.figure(figsize=(12, 6))\n",
    "plt.errorbar(\n",
    "    adherence_stats['ROUTE_STOP_SEQUENCE'],\n",
    "    adherence_stats['mean'],\n",
    "    yerr=adherence_stats['std'],  # assuming 'std' column contains standard deviation\n",
    "    fmt='o-',                # line with circle markers\n",
    "    ecolor='gray',           # color of error bars\n",
    "    capsize=5                # adds caps to error bars\n",
    ")\n",
    "plt.title('Mean Adherence by Route Stop Sequence')\n",
    "plt.xlabel('Route Stop Sequence')\n",
    "plt.ylabel('Mean Adherence (minutes)')\n",
    "plt.grid(True)\n",
    "plt.tight_layout()\n",
    "plt.show()\n"
   ]
  },
  {
   "cell_type": "code",
   "execution_count": 44,
   "id": "8f04cd3a-ba96-4685-9c20-b4649934dbf8",
   "metadata": {},
   "outputs": [],
   "source": [
    "wego['SCHEDULED_TIME'] = pd.to_datetime(wego['SCHEDULED_TIME'])\n",
    "wego['ACTUAL_ARRIVAL_TIME'] = pd.to_datetime(wego['ACTUAL_ARRIVAL_TIME'])\n",
    "wego['ACTUAL_DEPARTURE_TIME'] = pd.to_datetime(wego['ACTUAL_DEPARTURE_TIME'])"
   ]
  },
  {
   "cell_type": "code",
   "execution_count": null,
   "id": "33fe178d-ab1b-45a2-bddb-5a769804259f",
   "metadata": {},
   "outputs": [],
   "source": [
    "wego['ST_HOUR']"
   ]
  },
  {
   "cell_type": "code",
   "execution_count": 45,
   "id": "7a4af222-ea84-4722-8ae7-6acb134241ca",
   "metadata": {},
   "outputs": [],
   "source": [
    "wego.sort_values(by = ['TRIP_ID', 'SCHEDULED_TIME'], inplace = True)"
   ]
  },
  {
   "cell_type": "code",
   "execution_count": 47,
   "id": "40f24811-272f-43b0-8da6-a6991d12a35f",
   "metadata": {},
   "outputs": [
    {
     "name": "stdout",
     "output_type": "stream",
     "text": [
      "<class 'pandas.core.frame.DataFrame'>\n",
      "Index: 350329 entries, 0 to 346170\n",
      "Data columns (total 31 columns):\n",
      " #   Column                     Non-Null Count   Dtype         \n",
      "---  ------                     --------------   -----         \n",
      " 0   CALENDAR_ID                350329 non-null  int64         \n",
      " 1   SERVICE_ABBR               350329 non-null  int64         \n",
      " 2   ADHERENCE_ID               350329 non-null  int64         \n",
      " 3   DATE                       350329 non-null  object        \n",
      " 4   ROUTE_ABBR                 350329 non-null  int64         \n",
      " 5   BLOCK_ABBR                 350329 non-null  int64         \n",
      " 6   OPERATOR                   350329 non-null  int64         \n",
      " 7   TRIP_ID                    350329 non-null  int64         \n",
      " 8   OVERLOAD_ID                350329 non-null  int64         \n",
      " 9   ROUTE_DIRECTION_NAME       350329 non-null  object        \n",
      " 10  TIME_POINT_ABBR            350329 non-null  object        \n",
      " 11  ROUTE_STOP_SEQUENCE        350318 non-null  float64       \n",
      " 12  TRIP_EDGE                  350329 non-null  int64         \n",
      " 13  LATITUDE                   350329 non-null  float64       \n",
      " 14  LONGITUDE                  350329 non-null  float64       \n",
      " 15  SCHEDULED_TIME             350329 non-null  datetime64[ns]\n",
      " 16  ACTUAL_ARRIVAL_TIME        338870 non-null  datetime64[ns]\n",
      " 17  ACTUAL_DEPARTURE_TIME      338861 non-null  datetime64[ns]\n",
      " 18  ADHERENCE                  338861 non-null  float64       \n",
      " 19  SCHEDULED_HDWY             274738 non-null  float64       \n",
      " 20  ACTUAL_HDWY                266062 non-null  float64       \n",
      " 21  HDWY_DEV                   265893 non-null  float64       \n",
      " 22  ADJUSTED_EARLY_COUNT       350329 non-null  int64         \n",
      " 23  ADJUSTED_LATE_COUNT        350329 non-null  int64         \n",
      " 24  ADJUSTED_ONTIME_COUNT      350329 non-null  int64         \n",
      " 25  STOP_CANCELLED             350329 non-null  int64         \n",
      " 26  PREV_SCHED_STOP_CANCELLED  280000 non-null  float64       \n",
      " 27  IS_RELIEF                  350329 non-null  int64         \n",
      " 28  DWELL_IN_MINS              338858 non-null  float64       \n",
      " 29  SCHEDULED_LAYOVER_MINUTES  53102 non-null   float64       \n",
      " 30  minutes_since_start        350329 non-null  float64       \n",
      "dtypes: datetime64[ns](3), float64(11), int64(14), object(3)\n",
      "memory usage: 85.5+ MB\n"
     ]
    }
   ],
   "source": [
    "wego.info()"
   ]
  },
  {
   "cell_type": "code",
   "execution_count": 52,
   "id": "8aa700c9-eb39-4e80-908b-b8f141d2358c",
   "metadata": {},
   "outputs": [
    {
     "name": "stdout",
     "output_type": "stream",
     "text": [
      "        ROUTE_ABBR  ROUTE_STOP_SEQUENCE  distance_km\n",
      "0                3                  2.0          NaN\n",
      "1                3                  2.0     0.000000\n",
      "2                3                  2.0     0.000000\n",
      "3                3                  2.0     0.000000\n",
      "4                3                  2.0     0.000000\n",
      "...            ...                  ...          ...\n",
      "350324          56                  NaN     0.000000\n",
      "350325          56                  NaN     0.000000\n",
      "350326          56                  NaN    16.729992\n",
      "350327          56                  NaN     0.000000\n",
      "350328          56                  NaN    16.729992\n",
      "\n",
      "[350329 rows x 3 columns]\n"
     ]
    },
    {
     "ename": "AttributeError",
     "evalue": "'NoneType' object has no attribute 'head'",
     "output_type": "error",
     "traceback": [
      "\u001b[1;31m---------------------------------------------------------------------------\u001b[0m",
      "\u001b[1;31mAttributeError\u001b[0m                            Traceback (most recent call last)",
      "Cell \u001b[1;32mIn[52], line 32\u001b[0m\n\u001b[0;32m     29\u001b[0m wego_stats_sorted\u001b[38;5;241m.\u001b[39mreset_index(drop\u001b[38;5;241m=\u001b[39m\u001b[38;5;28;01mTrue\u001b[39;00m, inplace\u001b[38;5;241m=\u001b[39m\u001b[38;5;28;01mTrue\u001b[39;00m)\n\u001b[0;32m     31\u001b[0m \u001b[38;5;66;03m# Preview result\u001b[39;00m\n\u001b[1;32m---> 32\u001b[0m \u001b[38;5;28mprint\u001b[39m(wego_stats_sorted[[\u001b[38;5;124m'\u001b[39m\u001b[38;5;124mROUTE_ABBR\u001b[39m\u001b[38;5;124m'\u001b[39m, \u001b[38;5;124m'\u001b[39m\u001b[38;5;124mROUTE_STOP_SEQUENCE\u001b[39m\u001b[38;5;124m'\u001b[39m, \u001b[38;5;124m'\u001b[39m\u001b[38;5;124mdistance_km\u001b[39m\u001b[38;5;124m'\u001b[39m]])\u001b[38;5;241m.\u001b[39mhead(\u001b[38;5;241m20\u001b[39m)\n",
      "\u001b[1;31mAttributeError\u001b[0m: 'NoneType' object has no attribute 'head'"
     ]
    }
   ],
   "source": [
    "import numpy as np\n",
    "\n",
    "# Haversine function to calculate distance between two lat/lon points\n",
    "def haversine(lat1, lon1, lat2, lon2):\n",
    "    R = 6371  # Earth radius in kilometers\n",
    "    phi1 = np.radians(lat1)\n",
    "    phi2 = np.radians(lat2)\n",
    "    delta_phi = np.radians(lat2 - lat1)\n",
    "    delta_lambda = np.radians(lon2 - lon1)\n",
    "\n",
    "    a = np.sin(delta_phi / 2.0)**2 + \\\n",
    "        np.cos(phi1) * np.cos(phi2) * np.sin(delta_lambda / 2.0)**2\n",
    "    c = 2 * np.arctan2(np.sqrt(a), np.sqrt(1 - a))\n",
    "\n",
    "    return R * c  # Distance in kilometers\n",
    "\n",
    "# Sort your data by route and stop sequence\n",
    "wego_stats_sorted = wego.sort_values(by=['ROUTE_ABBR', 'ROUTE_STOP_SEQUENCE'])\n",
    "\n",
    "# Calculate distance between consecutive stops\n",
    "wego_stats_sorted['distance_km'] = haversine(\n",
    "    wego_stats_sorted['LATITUDE'].shift(),\n",
    "    wego_stats_sorted['LONGITUDE'].shift(),\n",
    "    wego_stats_sorted['LATITUDE'],\n",
    "    wego_stats_sorted['LONGITUDE']\n",
    ")\n",
    "\n",
    "# Optional: Reset index if needed\n",
    "wego_stats_sorted.reset_index(drop=True, inplace=True)\n",
    "\n",
    "# Preview result\n",
    "print(wego_stats_sorted[['ROUTE_ABBR', 'ROUTE_STOP_SEQUENCE', 'distance_km']]).head(20)\n"
   ]
  },
  {
   "cell_type": "code",
   "execution_count": null,
   "id": "2cbc6a66-5ce9-4333-8bbc-38952e398b90",
   "metadata": {},
   "outputs": [],
   "source": []
  }
 ],
 "metadata": {
  "kernelspec": {
   "display_name": "Python [conda env:base] *",
   "language": "python",
   "name": "conda-base-py"
  },
  "language_info": {
   "codemirror_mode": {
    "name": "ipython",
    "version": 3
   },
   "file_extension": ".py",
   "mimetype": "text/x-python",
   "name": "python",
   "nbconvert_exporter": "python",
   "pygments_lexer": "ipython3",
   "version": "3.13.5"
  }
 },
 "nbformat": 4,
 "nbformat_minor": 5
}
