{
 "cells": [
  {
   "cell_type": "markdown",
   "id": "96f6be61-a722-469b-9373-33ff86b9f978",
   "metadata": {},
   "source": [
    "# Git (Main): WeGo Sir-Bus-A-Lot Data Analytics Group Project"
   ]
  },
  {
   "cell_type": "code",
   "execution_count": null,
   "id": "bcae73b5-98e2-4649-992f-a81b543f5f07",
   "metadata": {},
   "outputs": [],
   "source": [
    "import pandas as pd\n",
    "import matplotlib.pyplot as plt\n",
    "import seaborn as sns"
   ]
  },
  {
   "cell_type": "markdown",
   "id": "f37b0532-a95a-41ed-97d7-d2bd76bf4f00",
   "metadata": {},
   "source": [
    "### Question 5: Is there any relationship between lateness (ADHERENCE) and headway deviation? The headway deviation variable is contained in the HDWY_DEV column. See the notes under number 9 for a description of headway and headway deviation."
   ]
  },
  {
   "cell_type": "code",
   "execution_count": null,
   "id": "5724caa4-d0f3-4885-b3e6-4ff901289945",
   "metadata": {},
   "outputs": [],
   "source": []
  }
 ],
 "metadata": {
  "kernelspec": {
   "display_name": "Python [conda env:base] *",
   "language": "python",
   "name": "conda-base-py"
  },
  "language_info": {
   "codemirror_mode": {
    "name": "ipython",
    "version": 3
   },
   "file_extension": ".py",
   "mimetype": "text/x-python",
   "name": "python",
   "nbconvert_exporter": "python",
   "pygments_lexer": "ipython3",
   "version": "3.13.5"
  }
 },
 "nbformat": 4,
 "nbformat_minor": 5
}
