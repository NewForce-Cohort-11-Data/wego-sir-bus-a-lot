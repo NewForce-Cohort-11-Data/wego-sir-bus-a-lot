{
 "cells": [
  {
   "cell_type": "markdown",
   "id": "06e2a215-ddfd-4c97-b14d-27737385713c",
   "metadata": {},
   "source": [
    "# Git (Main): WeGo Sir-Bus-A-Lot Data Analytics Group Project"
   ]
  },
  {
   "cell_type": "code",
   "execution_count": null,
   "id": "3175a430-5de4-4d0a-8a7d-9230cf4dd85e",
   "metadata": {},
   "outputs": [],
   "source": [
    "import pandas as pd\n",
    "import matplotlib.pyplot as plt\n",
    "import seaborn as sns"
   ]
  },
  {
   "cell_type": "markdown",
   "id": "1512bb7b-239c-4c55-a16e-526cf33bcfbb",
   "metadata": {},
   "source": [
    "### Question 3: How does time of day or day of week affect on-time performance?"
   ]
  },
  {
   "cell_type": "code",
   "execution_count": null,
   "id": "2cb3132d-7c35-41f0-97be-fdbac127d715",
   "metadata": {},
   "outputs": [],
   "source": []
  }
 ],
 "metadata": {
  "kernelspec": {
   "display_name": "Python [conda env:base] *",
   "language": "python",
   "name": "conda-base-py"
  },
  "language_info": {
   "codemirror_mode": {
    "name": "ipython",
    "version": 3
   },
   "file_extension": ".py",
   "mimetype": "text/x-python",
   "name": "python",
   "nbconvert_exporter": "python",
   "pygments_lexer": "ipython3",
   "version": "3.13.5"
  }
 },
 "nbformat": 4,
 "nbformat_minor": 5
}
