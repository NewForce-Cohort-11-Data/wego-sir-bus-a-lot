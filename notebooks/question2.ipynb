{
 "cells": [
  {
   "cell_type": "markdown",
   "id": "0a4dbfbb-3a2b-409f-9740-4228c90ae399",
   "metadata": {},
   "source": [
    "# Git (Main): WeGo Sir-Bus-A-Lot Data Analytics Group Project"
   ]
  },
  {
   "cell_type": "code",
   "execution_count": 1,
   "id": "ea6c1021-3648-43dd-b8fc-452827264646",
   "metadata": {},
   "outputs": [],
   "source": [
    "import pandas as pd\n",
    "import matplotlib.pyplot as plt\n",
    "import seaborn as sns"
   ]
  },
  {
   "cell_type": "markdown",
   "id": "f27f72a7-524e-406b-9185-dcb06e75eb51",
   "metadata": {},
   "source": [
    "### Question 2: How does direction of travel, route, or location affect the on-time performance?"
   ]
  },
  {
   "cell_type": "code",
   "execution_count": null,
   "id": "ba11369f-63dd-431a-83d0-97bfe80cd222",
   "metadata": {},
   "outputs": [],
   "source": []
  }
 ],
 "metadata": {
  "kernelspec": {
   "display_name": "Python [conda env:base] *",
   "language": "python",
   "name": "conda-base-py"
  },
  "language_info": {
   "codemirror_mode": {
    "name": "ipython",
    "version": 3
   },
   "file_extension": ".py",
   "mimetype": "text/x-python",
   "name": "python",
   "nbconvert_exporter": "python",
   "pygments_lexer": "ipython3",
   "version": "3.13.5"
  }
 },
 "nbformat": 4,
 "nbformat_minor": 5
}
