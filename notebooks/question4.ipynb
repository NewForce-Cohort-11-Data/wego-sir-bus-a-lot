{
 "cells": [
  {
   "cell_type": "markdown",
   "id": "47bae132-1627-4815-8a3f-f87db74558f4",
   "metadata": {},
   "source": [
    "# Git (Main): WeGo Sir-Bus-A-Lot Data Analytics Group Project"
   ]
  },
  {
   "cell_type": "code",
   "execution_count": 1,
   "id": "9501ea5c-49ea-4828-9d06-7e32e780a90b",
   "metadata": {},
   "outputs": [],
   "source": [
    "import pandas as pd\n",
    "import matplotlib.pyplot as plt\n",
    "import seaborn as sns"
   ]
  },
  {
   "cell_type": "markdown",
   "id": "83cfc353-14e9-4399-b6de-f40b706bee55",
   "metadata": {},
   "source": [
    "### Question 4: How much of a factor does the driver have on on-time performance? The driver is indicated by the OPERATOR variable."
   ]
  },
  {
   "cell_type": "code",
   "execution_count": null,
   "id": "975a2a56-1c15-4f24-b793-708070bd5a2d",
   "metadata": {},
   "outputs": [],
   "source": []
  }
 ],
 "metadata": {
  "kernelspec": {
   "display_name": "Python [conda env:base] *",
   "language": "python",
   "name": "conda-base-py"
  },
  "language_info": {
   "codemirror_mode": {
    "name": "ipython",
    "version": 3
   },
   "file_extension": ".py",
   "mimetype": "text/x-python",
   "name": "python",
   "nbconvert_exporter": "python",
   "pygments_lexer": "ipython3",
   "version": "3.13.5"
  }
 },
 "nbformat": 4,
 "nbformat_minor": 5
}
