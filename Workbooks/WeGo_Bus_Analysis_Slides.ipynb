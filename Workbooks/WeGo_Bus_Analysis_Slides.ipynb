{
 "cells": [
  {
   "cell_type": "code",
   "execution_count": 1,
   "id": "58e06c4c",
   "metadata": {},
   "outputs": [
    {
     "ename": "NameError",
     "evalue": "name 'LinearSegmentedColormap' is not defined",
     "output_type": "error",
     "traceback": [
      "\u001b[31m---------------------------------------------------------------------------\u001b[39m",
      "\u001b[31mNameError\u001b[39m                                 Traceback (most recent call last)",
      "\u001b[36mCell\u001b[39m\u001b[36m \u001b[39m\u001b[32mIn[1]\u001b[39m\u001b[32m, line 23\u001b[39m\n\u001b[32m     11\u001b[39m PLOTLY_CONTINUOUS = [\n\u001b[32m     12\u001b[39m     [\u001b[32m0.0\u001b[39m, WEGO_COLORS[\u001b[33m'\u001b[39m\u001b[33mpurple\u001b[39m\u001b[33m'\u001b[39m]],\n\u001b[32m     13\u001b[39m     [\u001b[32m0.5\u001b[39m, WEGO_COLORS[\u001b[33m'\u001b[39m\u001b[33morange\u001b[39m\u001b[33m'\u001b[39m]],\n\u001b[32m     14\u001b[39m     [\u001b[32m1.0\u001b[39m, WEGO_COLORS[\u001b[33m'\u001b[39m\u001b[33mgreen\u001b[39m\u001b[33m'\u001b[39m]]\n\u001b[32m     15\u001b[39m ]\n\u001b[32m     17\u001b[39m PLOTLY_SEQUENTIAL = [\n\u001b[32m     18\u001b[39m     [\u001b[32m0.0\u001b[39m, WEGO_COLORS[\u001b[33m'\u001b[39m\u001b[33mpurple\u001b[39m\u001b[33m'\u001b[39m]],\n\u001b[32m     19\u001b[39m     [\u001b[32m0.4\u001b[39m, WEGO_COLORS[\u001b[33m'\u001b[39m\u001b[33mnavy\u001b[39m\u001b[33m'\u001b[39m]],\n\u001b[32m     20\u001b[39m     [\u001b[32m1.0\u001b[39m, WEGO_COLORS[\u001b[33m'\u001b[39m\u001b[33mgreen\u001b[39m\u001b[33m'\u001b[39m]]\n\u001b[32m     21\u001b[39m ]\n\u001b[32m---> \u001b[39m\u001b[32m23\u001b[39m WEGO_HEATMAP_CMAP = \u001b[43mLinearSegmentedColormap\u001b[49m.from_list(\n\u001b[32m     24\u001b[39m     \u001b[33m'\u001b[39m\u001b[33mwego_heatmap\u001b[39m\u001b[33m'\u001b[39m,\n\u001b[32m     25\u001b[39m     [WEGO_COLORS[\u001b[33m'\u001b[39m\u001b[33mpurple\u001b[39m\u001b[33m'\u001b[39m], WEGO_COLORS[\u001b[33m'\u001b[39m\u001b[33mnavy\u001b[39m\u001b[33m'\u001b[39m], WEGO_COLORS[\u001b[33m'\u001b[39m\u001b[33mgreen\u001b[39m\u001b[33m'\u001b[39m]]\n\u001b[32m     26\u001b[39m )\n\u001b[32m     28\u001b[39m sns.set_palette([WEGO_COLORS[\u001b[33m'\u001b[39m\u001b[33mgreen\u001b[39m\u001b[33m'\u001b[39m], WEGO_COLORS[\u001b[33m'\u001b[39m\u001b[33morange\u001b[39m\u001b[33m'\u001b[39m], WEGO_COLORS[\u001b[33m'\u001b[39m\u001b[33mpurple\u001b[39m\u001b[33m'\u001b[39m]])\n\u001b[32m     29\u001b[39m plt.rcParams[\u001b[33m'\u001b[39m\u001b[33maxes.titlecolor\u001b[39m\u001b[33m'\u001b[39m] = WEGO_COLORS[\u001b[33m'\u001b[39m\u001b[33mnavy\u001b[39m\u001b[33m'\u001b[39m]\n",
      "\u001b[31mNameError\u001b[39m: name 'LinearSegmentedColormap' is not defined"
     ]
    }
   ],
   "source": [
    "# Global color palette configuration for the notebook\n",
    "WEGO_COLORS = {\n",
    "    'navy': '#14213D',        # deep navy blue\n",
    "    'purple': '#5E4AE3',      # rich purple accent\n",
    "    'green': '#39FF14',       # terminal-inspired neon green\n",
    "    'orange': '#E76F51',      # burnt orange accent\n",
    "    'charcoal': '#1E1E24',    # dark neutral for backgrounds\n",
    "    'slate': '#6C757D'        # muted text accent\n",
    "}\n",
    "\n",
    "PLOTLY_CONTINUOUS = [\n",
    "    [0.0, WEGO_COLORS['purple']],\n",
    "    [0.5, WEGO_COLORS['orange']],\n",
    "    [1.0, WEGO_COLORS['green']]\n",
    "]\n",
    "\n",
    "PLOTLY_SEQUENTIAL = [\n",
    "    [0.0, WEGO_COLORS['purple']],\n",
    "    [0.4, WEGO_COLORS['navy']],\n",
    "    [1.0, WEGO_COLORS['green']]\n",
    "]\n",
    "\n",
    "WEGO_HEATMAP_CMAP = LinearSegmentedColormap.from_list(\n",
    "    'wego_heatmap',\n",
    "    [WEGO_COLORS['purple'], WEGO_COLORS['navy'], WEGO_COLORS['green']]\n",
    ")\n",
    "\n",
    "sns.set_palette([WEGO_COLORS['green'], WEGO_COLORS['orange'], WEGO_COLORS['purple']])\n",
    "plt.rcParams['axes.titlecolor'] = WEGO_COLORS['navy']\n",
    "plt.rcParams['axes.labelcolor'] = WEGO_COLORS['slate']\n",
    "plt.rcParams['text.color'] = WEGO_COLORS['slate']"
   ]
  },
  {
   "cell_type": "code",
   "execution_count": null,
   "id": "b302e9cb",
   "metadata": {},
   "outputs": [
    {
     "name": "stdout",
     "output_type": "stream",
     "text": [
      "Loaded dataset with shape: (350329, 30)\n",
      "\n",
      "=== Overall Performance ===\n",
      "On-Time: 79.69%\n",
      "Early: 2.88%\n",
      "Late: 17.42%\n"
     ]
    }
   ],
   "source": [
    "# Run all cells to display visualizations (without saving)\n",
    "# This will show all the figures inline in the notebook\n",
    "\n",
    "import os\n",
    "import pandas as pd\n",
    "import numpy as np\n",
    "import matplotlib.pyplot as plt\n",
    "import seaborn as sns\n",
    "import plotly.express as px\n",
    "import plotly.graph_objects as go\n",
    "from plotly.subplots import make_subplots\n",
    "\n",
    "# Create output directories\n",
    "os.makedirs('output/tables', exist_ok=True)\n",
    "os.makedirs('output/images', exist_ok=True)\n",
    "os.makedirs('output/pdf', exist_ok=True)\n",
    "\n",
    "pd.set_option('display.max_columns', None)\n",
    "sns.set_theme(style='whitegrid')\n",
    "\n",
    "# Load data\n",
    "wego = pd.read_csv('data/Headway Data, 8-1-2023 to 9-30-2023.csv')\n",
    "print(f\"Loaded dataset with shape: {wego.shape}\")\n",
    "\n",
    "# Calculate overall performance\n",
    "ontime = wego['ADJUSTED_ONTIME_COUNT'].sum()\n",
    "early = wego['ADJUSTED_EARLY_COUNT'].sum()\n",
    "late = wego['ADJUSTED_LATE_COUNT'].sum()\n",
    "total = ontime + early + late\n",
    "\n",
    "print(f\"\\n=== Overall Performance ===\")\n",
    "print(f\"On-Time: {(ontime/total)*100:.2f}%\")\n",
    "print(f\"Early: {(early/total)*100:.2f}%\")\n",
    "print(f\"Late: {(late/total)*100:.2f}%\")"
   ]
  },
  {
   "cell_type": "code",
   "execution_count": null,
   "id": "d42f88da",
   "metadata": {},
   "outputs": [
    {
     "data": {
      "application/vnd.plotly.v1+json": {
       "config": {
        "plotlyServerURL": "https://plot.ly"
       },
       "data": [
        {
         "delta": {
          "decreasing": {
           "color": "#E76F51"
          },
          "increasing": {
           "color": "#39FF14"
          },
          "reference": 80,
          "suffix": "%"
         },
         "gauge": {
          "axis": {
           "range": [
            0,
            100
           ],
           "tickcolor": "#6C757D"
          },
          "bar": {
           "color": "#39FF14"
          },
          "steps": [
           {
            "color": "#5E4AE3",
            "range": [
             0,
             70
            ]
           },
           {
            "color": "#E76F51",
            "range": [
             70,
             80
            ]
           },
           {
            "color": "#39FF14",
            "range": [
             80,
             100
            ]
           }
          ],
          "threshold": {
           "line": {
            "color": "#14213D",
            "width": 4
           },
           "thickness": 0.75,
           "value": 80
          }
         },
         "mode": "gauge+number+delta",
         "title": {
          "font": {
           "color": "#14213D"
          },
          "text": "System On-Time Performance (%)"
         },
         "type": "indicator",
         "value": 79.69285341187094
        }
       ],
       "layout": {
        "font": {
         "color": "#6C757D",
         "size": 14
        },
        "height": 500,
        "margin": {
         "b": 20,
         "l": 20,
         "r": 20,
         "t": 50
        },
        "paper_bgcolor": "white",
        "template": {
         "data": {
          "bar": [
           {
            "error_x": {
             "color": "#2a3f5f"
            },
            "error_y": {
             "color": "#2a3f5f"
            },
            "marker": {
             "line": {
              "color": "#E5ECF6",
              "width": 0.5
             },
             "pattern": {
              "fillmode": "overlay",
              "size": 10,
              "solidity": 0.2
             }
            },
            "type": "bar"
           }
          ],
          "barpolar": [
           {
            "marker": {
             "line": {
              "color": "#E5ECF6",
              "width": 0.5
             },
             "pattern": {
              "fillmode": "overlay",
              "size": 10,
              "solidity": 0.2
             }
            },
            "type": "barpolar"
           }
          ],
          "carpet": [
           {
            "aaxis": {
             "endlinecolor": "#2a3f5f",
             "gridcolor": "white",
             "linecolor": "white",
             "minorgridcolor": "white",
             "startlinecolor": "#2a3f5f"
            },
            "baxis": {
             "endlinecolor": "#2a3f5f",
             "gridcolor": "white",
             "linecolor": "white",
             "minorgridcolor": "white",
             "startlinecolor": "#2a3f5f"
            },
            "type": "carpet"
           }
          ],
          "choropleth": [
           {
            "colorbar": {
             "outlinewidth": 0,
             "ticks": ""
            },
            "type": "choropleth"
           }
          ],
          "contour": [
           {
            "colorbar": {
             "outlinewidth": 0,
             "ticks": ""
            },
            "colorscale": [
             [
              0,
              "#0d0887"
             ],
             [
              0.1111111111111111,
              "#46039f"
             ],
             [
              0.2222222222222222,
              "#7201a8"
             ],
             [
              0.3333333333333333,
              "#9c179e"
             ],
             [
              0.4444444444444444,
              "#bd3786"
             ],
             [
              0.5555555555555556,
              "#d8576b"
             ],
             [
              0.6666666666666666,
              "#ed7953"
             ],
             [
              0.7777777777777778,
              "#fb9f3a"
             ],
             [
              0.8888888888888888,
              "#fdca26"
             ],
             [
              1,
              "#f0f921"
             ]
            ],
            "type": "contour"
           }
          ],
          "contourcarpet": [
           {
            "colorbar": {
             "outlinewidth": 0,
             "ticks": ""
            },
            "type": "contourcarpet"
           }
          ],
          "heatmap": [
           {
            "colorbar": {
             "outlinewidth": 0,
             "ticks": ""
            },
            "colorscale": [
             [
              0,
              "#0d0887"
             ],
             [
              0.1111111111111111,
              "#46039f"
             ],
             [
              0.2222222222222222,
              "#7201a8"
             ],
             [
              0.3333333333333333,
              "#9c179e"
             ],
             [
              0.4444444444444444,
              "#bd3786"
             ],
             [
              0.5555555555555556,
              "#d8576b"
             ],
             [
              0.6666666666666666,
              "#ed7953"
             ],
             [
              0.7777777777777778,
              "#fb9f3a"
             ],
             [
              0.8888888888888888,
              "#fdca26"
             ],
             [
              1,
              "#f0f921"
             ]
            ],
            "type": "heatmap"
           }
          ],
          "heatmapgl": [
           {
            "colorbar": {
             "outlinewidth": 0,
             "ticks": ""
            },
            "colorscale": [
             [
              0,
              "#0d0887"
             ],
             [
              0.1111111111111111,
              "#46039f"
             ],
             [
              0.2222222222222222,
              "#7201a8"
             ],
             [
              0.3333333333333333,
              "#9c179e"
             ],
             [
              0.4444444444444444,
              "#bd3786"
             ],
             [
              0.5555555555555556,
              "#d8576b"
             ],
             [
              0.6666666666666666,
              "#ed7953"
             ],
             [
              0.7777777777777778,
              "#fb9f3a"
             ],
             [
              0.8888888888888888,
              "#fdca26"
             ],
             [
              1,
              "#f0f921"
             ]
            ],
            "type": "heatmapgl"
           }
          ],
          "histogram": [
           {
            "marker": {
             "pattern": {
              "fillmode": "overlay",
              "size": 10,
              "solidity": 0.2
             }
            },
            "type": "histogram"
           }
          ],
          "histogram2d": [
           {
            "colorbar": {
             "outlinewidth": 0,
             "ticks": ""
            },
            "colorscale": [
             [
              0,
              "#0d0887"
             ],
             [
              0.1111111111111111,
              "#46039f"
             ],
             [
              0.2222222222222222,
              "#7201a8"
             ],
             [
              0.3333333333333333,
              "#9c179e"
             ],
             [
              0.4444444444444444,
              "#bd3786"
             ],
             [
              0.5555555555555556,
              "#d8576b"
             ],
             [
              0.6666666666666666,
              "#ed7953"
             ],
             [
              0.7777777777777778,
              "#fb9f3a"
             ],
             [
              0.8888888888888888,
              "#fdca26"
             ],
             [
              1,
              "#f0f921"
             ]
            ],
            "type": "histogram2d"
           }
          ],
          "histogram2dcontour": [
           {
            "colorbar": {
             "outlinewidth": 0,
             "ticks": ""
            },
            "colorscale": [
             [
              0,
              "#0d0887"
             ],
             [
              0.1111111111111111,
              "#46039f"
             ],
             [
              0.2222222222222222,
              "#7201a8"
             ],
             [
              0.3333333333333333,
              "#9c179e"
             ],
             [
              0.4444444444444444,
              "#bd3786"
             ],
             [
              0.5555555555555556,
              "#d8576b"
             ],
             [
              0.6666666666666666,
              "#ed7953"
             ],
             [
              0.7777777777777778,
              "#fb9f3a"
             ],
             [
              0.8888888888888888,
              "#fdca26"
             ],
             [
              1,
              "#f0f921"
             ]
            ],
            "type": "histogram2dcontour"
           }
          ],
          "mesh3d": [
           {
            "colorbar": {
             "outlinewidth": 0,
             "ticks": ""
            },
            "type": "mesh3d"
           }
          ],
          "parcoords": [
           {
            "line": {
             "colorbar": {
              "outlinewidth": 0,
              "ticks": ""
             }
            },
            "type": "parcoords"
           }
          ],
          "pie": [
           {
            "automargin": true,
            "type": "pie"
           }
          ],
          "scatter": [
           {
            "fillpattern": {
             "fillmode": "overlay",
             "size": 10,
             "solidity": 0.2
            },
            "type": "scatter"
           }
          ],
          "scatter3d": [
           {
            "line": {
             "colorbar": {
              "outlinewidth": 0,
              "ticks": ""
             }
            },
            "marker": {
             "colorbar": {
              "outlinewidth": 0,
              "ticks": ""
             }
            },
            "type": "scatter3d"
           }
          ],
          "scattercarpet": [
           {
            "marker": {
             "colorbar": {
              "outlinewidth": 0,
              "ticks": ""
             }
            },
            "type": "scattercarpet"
           }
          ],
          "scattergeo": [
           {
            "marker": {
             "colorbar": {
              "outlinewidth": 0,
              "ticks": ""
             }
            },
            "type": "scattergeo"
           }
          ],
          "scattergl": [
           {
            "marker": {
             "colorbar": {
              "outlinewidth": 0,
              "ticks": ""
             }
            },
            "type": "scattergl"
           }
          ],
          "scattermapbox": [
           {
            "marker": {
             "colorbar": {
              "outlinewidth": 0,
              "ticks": ""
             }
            },
            "type": "scattermapbox"
           }
          ],
          "scatterpolar": [
           {
            "marker": {
             "colorbar": {
              "outlinewidth": 0,
              "ticks": ""
             }
            },
            "type": "scatterpolar"
           }
          ],
          "scatterpolargl": [
           {
            "marker": {
             "colorbar": {
              "outlinewidth": 0,
              "ticks": ""
             }
            },
            "type": "scatterpolargl"
           }
          ],
          "scatterternary": [
           {
            "marker": {
             "colorbar": {
              "outlinewidth": 0,
              "ticks": ""
             }
            },
            "type": "scatterternary"
           }
          ],
          "surface": [
           {
            "colorbar": {
             "outlinewidth": 0,
             "ticks": ""
            },
            "colorscale": [
             [
              0,
              "#0d0887"
             ],
             [
              0.1111111111111111,
              "#46039f"
             ],
             [
              0.2222222222222222,
              "#7201a8"
             ],
             [
              0.3333333333333333,
              "#9c179e"
             ],
             [
              0.4444444444444444,
              "#bd3786"
             ],
             [
              0.5555555555555556,
              "#d8576b"
             ],
             [
              0.6666666666666666,
              "#ed7953"
             ],
             [
              0.7777777777777778,
              "#fb9f3a"
             ],
             [
              0.8888888888888888,
              "#fdca26"
             ],
             [
              1,
              "#f0f921"
             ]
            ],
            "type": "surface"
           }
          ],
          "table": [
           {
            "cells": {
             "fill": {
              "color": "#EBF0F8"
             },
             "line": {
              "color": "white"
             }
            },
            "header": {
             "fill": {
              "color": "#C8D4E3"
             },
             "line": {
              "color": "white"
             }
            },
            "type": "table"
           }
          ]
         },
         "layout": {
          "annotationdefaults": {
           "arrowcolor": "#2a3f5f",
           "arrowhead": 0,
           "arrowwidth": 1
          },
          "autotypenumbers": "strict",
          "coloraxis": {
           "colorbar": {
            "outlinewidth": 0,
            "ticks": ""
           }
          },
          "colorscale": {
           "diverging": [
            [
             0,
             "#8e0152"
            ],
            [
             0.1,
             "#c51b7d"
            ],
            [
             0.2,
             "#de77ae"
            ],
            [
             0.3,
             "#f1b6da"
            ],
            [
             0.4,
             "#fde0ef"
            ],
            [
             0.5,
             "#f7f7f7"
            ],
            [
             0.6,
             "#e6f5d0"
            ],
            [
             0.7,
             "#b8e186"
            ],
            [
             0.8,
             "#7fbc41"
            ],
            [
             0.9,
             "#4d9221"
            ],
            [
             1,
             "#276419"
            ]
           ],
           "sequential": [
            [
             0,
             "#0d0887"
            ],
            [
             0.1111111111111111,
             "#46039f"
            ],
            [
             0.2222222222222222,
             "#7201a8"
            ],
            [
             0.3333333333333333,
             "#9c179e"
            ],
            [
             0.4444444444444444,
             "#bd3786"
            ],
            [
             0.5555555555555556,
             "#d8576b"
            ],
            [
             0.6666666666666666,
             "#ed7953"
            ],
            [
             0.7777777777777778,
             "#fb9f3a"
            ],
            [
             0.8888888888888888,
             "#fdca26"
            ],
            [
             1,
             "#f0f921"
            ]
           ],
           "sequentialminus": [
            [
             0,
             "#0d0887"
            ],
            [
             0.1111111111111111,
             "#46039f"
            ],
            [
             0.2222222222222222,
             "#7201a8"
            ],
            [
             0.3333333333333333,
             "#9c179e"
            ],
            [
             0.4444444444444444,
             "#bd3786"
            ],
            [
             0.5555555555555556,
             "#d8576b"
            ],
            [
             0.6666666666666666,
             "#ed7953"
            ],
            [
             0.7777777777777778,
             "#fb9f3a"
            ],
            [
             0.8888888888888888,
             "#fdca26"
            ],
            [
             1,
             "#f0f921"
            ]
           ]
          },
          "colorway": [
           "#636efa",
           "#EF553B",
           "#00cc96",
           "#ab63fa",
           "#FFA15A",
           "#19d3f3",
           "#FF6692",
           "#B6E880",
           "#FF97FF",
           "#FECB52"
          ],
          "font": {
           "color": "#2a3f5f"
          },
          "geo": {
           "bgcolor": "white",
           "lakecolor": "white",
           "landcolor": "#E5ECF6",
           "showlakes": true,
           "showland": true,
           "subunitcolor": "white"
          },
          "hoverlabel": {
           "align": "left"
          },
          "hovermode": "closest",
          "mapbox": {
           "style": "light"
          },
          "paper_bgcolor": "white",
          "plot_bgcolor": "#E5ECF6",
          "polar": {
           "angularaxis": {
            "gridcolor": "white",
            "linecolor": "white",
            "ticks": ""
           },
           "bgcolor": "#E5ECF6",
           "radialaxis": {
            "gridcolor": "white",
            "linecolor": "white",
            "ticks": ""
           }
          },
          "scene": {
           "xaxis": {
            "backgroundcolor": "#E5ECF6",
            "gridcolor": "white",
            "gridwidth": 2,
            "linecolor": "white",
            "showbackground": true,
            "ticks": "",
            "zerolinecolor": "white"
           },
           "yaxis": {
            "backgroundcolor": "#E5ECF6",
            "gridcolor": "white",
            "gridwidth": 2,
            "linecolor": "white",
            "showbackground": true,
            "ticks": "",
            "zerolinecolor": "white"
           },
           "zaxis": {
            "backgroundcolor": "#E5ECF6",
            "gridcolor": "white",
            "gridwidth": 2,
            "linecolor": "white",
            "showbackground": true,
            "ticks": "",
            "zerolinecolor": "white"
           }
          },
          "shapedefaults": {
           "line": {
            "color": "#2a3f5f"
           }
          },
          "ternary": {
           "aaxis": {
            "gridcolor": "white",
            "linecolor": "white",
            "ticks": ""
           },
           "baxis": {
            "gridcolor": "white",
            "linecolor": "white",
            "ticks": ""
           },
           "bgcolor": "#E5ECF6",
           "caxis": {
            "gridcolor": "white",
            "linecolor": "white",
            "ticks": ""
           }
          },
          "title": {
           "x": 0.05
          },
          "xaxis": {
           "automargin": true,
           "gridcolor": "white",
           "linecolor": "white",
           "ticks": "",
           "title": {
            "standoff": 15
           },
           "zerolinecolor": "white",
           "zerolinewidth": 2
          },
          "yaxis": {
           "automargin": true,
           "gridcolor": "white",
           "linecolor": "white",
           "ticks": "",
           "title": {
            "standoff": 15
           },
           "zerolinecolor": "white",
           "zerolinewidth": 2
          }
         }
        },
        "title": {
         "text": "Slide 2: Overall Performance Gauge"
        },
        "width": 600
       }
      }
     },
     "metadata": {},
     "output_type": "display_data"
    }
   ],
   "source": [
    "# 1. GAUGE CHART - Overall Performance\n",
    "fig = go.Figure(go.Indicator(\n",
    "    mode=\"gauge+number+delta\",\n",
    "    value=(ontime/total)*100,\n",
    "    delta={'reference': 80, 'suffix': '%', 'increasing': {'color': WEGO_COLORS['green']}, 'decreasing': {'color': WEGO_COLORS['orange']}},\n",
    "    title={'text': \"System On-Time Performance (%)\", 'font': {'color': WEGO_COLORS['navy']}},\n",
    "    gauge={\n",
    "        'axis': {'range': [0, 100], 'tickcolor': WEGO_COLORS['slate']},\n",
    "        'bar': {'color': WEGO_COLORS['green']},\n",
    "        'steps': [\n",
    "            {'range': [0, 70], 'color': WEGO_COLORS['purple']},\n",
    "            {'range': [70, 80], 'color': WEGO_COLORS['orange']},\n",
    "            {'range': [80, 100], 'color': WEGO_COLORS['green']}\n",
    "        ],\n",
    "        'threshold': {\n",
    "            'line': {'color': WEGO_COLORS['navy'], 'width': 4},\n",
    "            'thickness': 0.75,\n",
    "            'value': 80\n",
    "        }\n",
    "    }\n",
    "))\n",
    "fig.update_layout(\n",
    "    height=500,\n",
    "    width=600,\n",
    "    margin={'t': 50, 'b': 20, 'l': 20, 'r': 20},\n",
    "    font={'size': 14, 'color': WEGO_COLORS['slate']},\n",
    "    title=\"Slide 2: Overall Performance Gauge\",\n",
    "    paper_bgcolor='white'\n",
    ")\n",
    "fig.show()"
   ]
  },
  {
   "cell_type": "code",
   "execution_count": null,
   "id": "e620c333",
   "metadata": {},
   "outputs": [
    {
     "data": {
      "application/vnd.plotly.v1+json": {
       "config": {
        "plotlyServerURL": "https://plot.ly"
       },
       "data": [
        {
         "branchvalues": "total",
         "customdata": [
          [
           88.5737772297575
          ],
          [
           75.09433962264151
          ],
          [
           85.400390625
          ],
          [
           76.08695652173914
          ],
          [
           54.67171717171717
          ],
          [
           96.14873837981408
          ],
          [
           97.05882352941177
          ],
          [
           82.53968253968253
          ],
          [
           84.29613011777903
          ],
          [
           72.02436738519212
          ],
          [
           96.37163276525563
          ],
          [
           83.10344827586206
          ],
          [
           77.911227154047
          ],
          [
           82.89473684210526
          ],
          [
           87.65060240963855
          ],
          [
           95.76271186440678
          ],
          [
           89.61560527825588
          ],
          [
           95.42857142857143
          ],
          [
           90.8041697691735
          ],
          [
           90.57936881771079
          ],
          [
           79.88372093023256
          ],
          [
           85.40223761321258
          ],
          [
           63.07837582625118
          ],
          [
           89.86856516977
          ],
          [
           78.65720524017468
          ],
          [
           72.04354280059377
          ],
          [
           88.0279232111693
          ],
          [
           93.71069182389937
          ],
          [
           87.99720865317515
          ],
          [
           90.71661237785014
          ],
          [
           56.349675132900174
          ],
          [
           59.56072351421189
          ],
          [
           83.04186539480658
          ],
          [
           90.12345679012346
          ],
          [
           88.85464817668208
          ],
          [
           76.97115384615385
          ],
          [
           88.20713664055701
          ],
          [
           76.3677382966723
          ],
          [
           97.04545454545455
          ],
          [
           83.72413793103448
          ],
          [
           75.36852116024727
          ],
          [
           95.29346622369879
          ],
          [
           76.40036730945822
          ],
          [
           74.03050108932462
          ],
          [
           91.85091598231206
          ],
          [
           84.66711499663752
          ],
          [
           90.16933207902163
          ],
          [
           98.32833261894557
          ],
          [
           84.73389355742297
          ],
          [
           82.34314269850086
          ],
          [
           79.37853107344633
          ],
          [
           48.55384615384615
          ],
          [
           87.7511961722488
          ],
          [
           83.01707779886148
          ],
          [
           74.09925220938138
          ],
          [
           86.16766467065868
          ],
          [
           86.26136907611297
          ],
          [
           96.02154993783671
          ],
          [
           83.66431774503523
          ],
          [
           89.3914916532041
          ],
          [
           79.19837645865043
          ],
          [
           73.45513164965072
          ],
          [
           85.6655290102389
          ],
          [
           92.82945736434108
          ],
          [
           74.95952509444145
          ],
          [
           83.38226658837345
          ],
          [
           77.30964467005076
          ],
          [
           58.44229675952246
          ],
          [
           92.82533399307273
          ],
          [
           54.41949354992833
          ],
          [
           76.41810070108349
          ],
          [
           87.7091377091377
          ],
          [
           80.25144054478784
          ],
          [
           85.60311284046692
          ],
          [
           79.55499580184718
          ],
          [
           94.01408450704226
          ],
          [
           80.08270158511371
          ],
          [
           82.45681381957773
          ],
          [
           77.731673582296
          ],
          [
           93.06987399770905
          ],
          [
           84.02634829147797
          ],
          [
           85.26023043305523
          ],
          [
           72.89073305670816
          ],
          [
           79.62515114873035
          ],
          [
           77.0627919045148
          ],
          [
           79.81882234524409
          ],
          [
           75.99441730635031
          ],
          [
           77.22943722943722
          ],
          [
           82.00707338638374
          ],
          [
           77.7542372881356
          ],
          [
           69.9607329842932
          ],
          [
           80.39126478616924
          ],
          [
           78.30028328611898
          ],
          [
           73.24561403508771
          ],
          [
           75.8732212160414
          ],
          [
           83.06951135581555
          ],
          [
           71.61257083977331
          ],
          [
           73.61722956436613
          ],
          [
           59.04509283819629
          ],
          [
           74.7843734145104
          ]
         ],
         "domain": {
          "x": [
           0,
           1
          ],
          "y": [
           0,
           1
          ]
         },
         "hovertemplate": "labels=%{label}<br>Total=%{value}<br>parent=%{parent}<br>id=%{id}<br>OnTime_Pct=%{color}<extra></extra>",
         "ids": [
          "304",
          "326",
          "329",
          "332",
          "357",
          "379",
          "409",
          "414",
          "517",
          "520",
          "522",
          "559",
          "659",
          "778",
          "785",
          "1040",
          "1052",
          "1133",
          "1147",
          "1170",
          "1177",
          "1190",
          "1204",
          "1208",
          "1222",
          "1237",
          "1266",
          "1305",
          "1330",
          "1343",
          "1352",
          "1359",
          "1361",
          "1368",
          "1372",
          "1401",
          "1410",
          "1500",
          "1566",
          "1582",
          "1590",
          "1617",
          "1623",
          "1650",
          "1682",
          "1717",
          "1761",
          "1762",
          "1763",
          "1788",
          "1792",
          "1800",
          "1823",
          "1824",
          "1842",
          "1893",
          "1914",
          "1927",
          "1948",
          "1992",
          "2001",
          "2012",
          "2040",
          "2041",
          "2053",
          "2055",
          "2062",
          "2082",
          "2088",
          "2109",
          "2112",
          "2161",
          "2164",
          "2200",
          "2246",
          "2321",
          "2324",
          "2352",
          "2371",
          "2374",
          "2399",
          "2424",
          "2500",
          "2567",
          "2630",
          "2638",
          "2689",
          "2706",
          "2733",
          "2760",
          "2765",
          "2780",
          "2793",
          "2832",
          "2963",
          "2967",
          "2990",
          "3031",
          "3064",
          "3090"
         ],
         "labels": [
          "304",
          "326",
          "329",
          "332",
          "357",
          "379",
          "409",
          "414",
          "517",
          "520",
          "522",
          "559",
          "659",
          "778",
          "785",
          "1040",
          "1052",
          "1133",
          "1147",
          "1170",
          "1177",
          "1190",
          "1204",
          "1208",
          "1222",
          "1237",
          "1266",
          "1305",
          "1330",
          "1343",
          "1352",
          "1359",
          "1361",
          "1368",
          "1372",
          "1401",
          "1410",
          "1500",
          "1566",
          "1582",
          "1590",
          "1617",
          "1623",
          "1650",
          "1682",
          "1717",
          "1761",
          "1762",
          "1763",
          "1788",
          "1792",
          "1800",
          "1823",
          "1824",
          "1842",
          "1893",
          "1914",
          "1927",
          "1948",
          "1992",
          "2001",
          "2012",
          "2040",
          "2041",
          "2053",
          "2055",
          "2062",
          "2082",
          "2088",
          "2109",
          "2112",
          "2161",
          "2164",
          "2200",
          "2246",
          "2321",
          "2324",
          "2352",
          "2371",
          "2374",
          "2399",
          "2424",
          "2500",
          "2567",
          "2630",
          "2638",
          "2689",
          "2706",
          "2733",
          "2760",
          "2765",
          "2780",
          "2793",
          "2832",
          "2963",
          "2967",
          "2990",
          "3031",
          "3064",
          "3090"
         ],
         "marker": {
          "coloraxis": "coloraxis",
          "colors": [
           88.5737772297575,
           75.09433962264151,
           85.400390625,
           76.08695652173914,
           54.67171717171717,
           96.14873837981408,
           97.05882352941177,
           82.53968253968253,
           84.29613011777903,
           72.02436738519212,
           96.37163276525563,
           83.10344827586206,
           77.911227154047,
           82.89473684210526,
           87.65060240963855,
           95.76271186440678,
           89.61560527825588,
           95.42857142857143,
           90.8041697691735,
           90.57936881771079,
           79.88372093023256,
           85.40223761321258,
           63.07837582625118,
           89.86856516977,
           78.65720524017468,
           72.04354280059377,
           88.0279232111693,
           93.71069182389937,
           87.99720865317515,
           90.71661237785014,
           56.349675132900174,
           59.56072351421189,
           83.04186539480658,
           90.12345679012346,
           88.85464817668208,
           76.97115384615385,
           88.20713664055701,
           76.3677382966723,
           97.04545454545455,
           83.72413793103448,
           75.36852116024727,
           95.29346622369879,
           76.40036730945822,
           74.03050108932462,
           91.85091598231206,
           84.66711499663752,
           90.16933207902163,
           98.32833261894557,
           84.73389355742297,
           82.34314269850086,
           79.37853107344633,
           48.55384615384615,
           87.7511961722488,
           83.01707779886148,
           74.09925220938138,
           86.16766467065868,
           86.26136907611297,
           96.02154993783671,
           83.66431774503523,
           89.3914916532041,
           79.19837645865043,
           73.45513164965072,
           85.6655290102389,
           92.82945736434108,
           74.95952509444145,
           83.38226658837345,
           77.30964467005076,
           58.44229675952246,
           92.82533399307273,
           54.41949354992833,
           76.41810070108349,
           87.7091377091377,
           80.25144054478784,
           85.60311284046692,
           79.55499580184718,
           94.01408450704226,
           80.08270158511371,
           82.45681381957773,
           77.731673582296,
           93.06987399770905,
           84.02634829147797,
           85.26023043305523,
           72.89073305670816,
           79.62515114873035,
           77.0627919045148,
           79.81882234524409,
           75.99441730635031,
           77.22943722943722,
           82.00707338638374,
           77.7542372881356,
           69.9607329842932,
           80.39126478616924,
           78.30028328611898,
           73.24561403508771,
           75.8732212160414,
           83.06951135581555,
           71.61257083977331,
           73.61722956436613,
           59.04509283819629,
           74.7843734145104
          ]
         },
         "name": "",
         "parents": [
          "",
          "",
          "",
          "",
          "",
          "",
          "",
          "",
          "",
          "",
          "",
          "",
          "",
          "",
          "",
          "",
          "",
          "",
          "",
          "",
          "",
          "",
          "",
          "",
          "",
          "",
          "",
          "",
          "",
          "",
          "",
          "",
          "",
          "",
          "",
          "",
          "",
          "",
          "",
          "",
          "",
          "",
          "",
          "",
          "",
          "",
          "",
          "",
          "",
          "",
          "",
          "",
          "",
          "",
          "",
          "",
          "",
          "",
          "",
          "",
          "",
          "",
          "",
          "",
          "",
          "",
          "",
          "",
          "",
          "",
          "",
          "",
          "",
          "",
          "",
          "",
          "",
          "",
          "",
          "",
          "",
          "",
          "",
          "",
          "",
          "",
          "",
          "",
          "",
          "",
          "",
          "",
          "",
          "",
          "",
          "",
          "",
          "",
          "",
          ""
         ],
         "type": "treemap",
         "values": [
          2433,
          2120,
          2048,
          2392,
          1584,
          2259,
          2380,
          1449,
          1783,
          2134,
          1819,
          2030,
          1915,
          1596,
          1660,
          1770,
          1743,
          2625,
          2686,
          2123,
          1720,
          1877,
          2118,
          1826,
          1832,
          2021,
          2865,
          1590,
          1433,
          1842,
          1693,
          1548,
          1887,
          2349,
          1947,
          2080,
          2298,
          1773,
          2200,
          2175,
          2103,
          1806,
          2178,
          2295,
          1583,
          1487,
          2126,
          2333,
          1428,
          1801,
          1770,
          1625,
          2090,
          2108,
          1471,
          1670,
          2089,
          2413,
          1561,
          1857,
          1971,
          1861,
          1465,
          1548,
          1853,
          1703,
          1970,
          1759,
          2021,
          2093,
          1569,
          1554,
          1909,
          1542,
          2382,
          1420,
          1451,
          2605,
          1446,
          1746,
          2429,
          2517,
          1446,
          1654,
          1927,
          1987,
          1433,
          2310,
          2262,
          2360,
          1528,
          2198,
          1765,
          1596,
          1546,
          1453,
          1941,
          2043,
          1885,
          1971
         ]
        }
       ],
       "layout": {
        "coloraxis": {
         "colorbar": {
          "tickcolor": "#6C757D",
          "title": {
           "font": {
            "color": "#6C757D"
           },
           "text": "On-Time %"
          }
         },
         "colorscale": [
          [
           0,
           "#5E4AE3"
          ],
          [
           0.5,
           "#E76F51"
          ],
          [
           1,
           "#39FF14"
          ]
         ]
        },
        "legend": {
         "tracegroupgap": 0
        },
        "margin": {
         "b": 0,
         "l": 0,
         "r": 0,
         "t": 40
        },
        "template": {
         "data": {
          "bar": [
           {
            "error_x": {
             "color": "#2a3f5f"
            },
            "error_y": {
             "color": "#2a3f5f"
            },
            "marker": {
             "line": {
              "color": "#E5ECF6",
              "width": 0.5
             },
             "pattern": {
              "fillmode": "overlay",
              "size": 10,
              "solidity": 0.2
             }
            },
            "type": "bar"
           }
          ],
          "barpolar": [
           {
            "marker": {
             "line": {
              "color": "#E5ECF6",
              "width": 0.5
             },
             "pattern": {
              "fillmode": "overlay",
              "size": 10,
              "solidity": 0.2
             }
            },
            "type": "barpolar"
           }
          ],
          "carpet": [
           {
            "aaxis": {
             "endlinecolor": "#2a3f5f",
             "gridcolor": "white",
             "linecolor": "white",
             "minorgridcolor": "white",
             "startlinecolor": "#2a3f5f"
            },
            "baxis": {
             "endlinecolor": "#2a3f5f",
             "gridcolor": "white",
             "linecolor": "white",
             "minorgridcolor": "white",
             "startlinecolor": "#2a3f5f"
            },
            "type": "carpet"
           }
          ],
          "choropleth": [
           {
            "colorbar": {
             "outlinewidth": 0,
             "ticks": ""
            },
            "type": "choropleth"
           }
          ],
          "contour": [
           {
            "colorbar": {
             "outlinewidth": 0,
             "ticks": ""
            },
            "colorscale": [
             [
              0,
              "#0d0887"
             ],
             [
              0.1111111111111111,
              "#46039f"
             ],
             [
              0.2222222222222222,
              "#7201a8"
             ],
             [
              0.3333333333333333,
              "#9c179e"
             ],
             [
              0.4444444444444444,
              "#bd3786"
             ],
             [
              0.5555555555555556,
              "#d8576b"
             ],
             [
              0.6666666666666666,
              "#ed7953"
             ],
             [
              0.7777777777777778,
              "#fb9f3a"
             ],
             [
              0.8888888888888888,
              "#fdca26"
             ],
             [
              1,
              "#f0f921"
             ]
            ],
            "type": "contour"
           }
          ],
          "contourcarpet": [
           {
            "colorbar": {
             "outlinewidth": 0,
             "ticks": ""
            },
            "type": "contourcarpet"
           }
          ],
          "heatmap": [
           {
            "colorbar": {
             "outlinewidth": 0,
             "ticks": ""
            },
            "colorscale": [
             [
              0,
              "#0d0887"
             ],
             [
              0.1111111111111111,
              "#46039f"
             ],
             [
              0.2222222222222222,
              "#7201a8"
             ],
             [
              0.3333333333333333,
              "#9c179e"
             ],
             [
              0.4444444444444444,
              "#bd3786"
             ],
             [
              0.5555555555555556,
              "#d8576b"
             ],
             [
              0.6666666666666666,
              "#ed7953"
             ],
             [
              0.7777777777777778,
              "#fb9f3a"
             ],
             [
              0.8888888888888888,
              "#fdca26"
             ],
             [
              1,
              "#f0f921"
             ]
            ],
            "type": "heatmap"
           }
          ],
          "heatmapgl": [
           {
            "colorbar": {
             "outlinewidth": 0,
             "ticks": ""
            },
            "colorscale": [
             [
              0,
              "#0d0887"
             ],
             [
              0.1111111111111111,
              "#46039f"
             ],
             [
              0.2222222222222222,
              "#7201a8"
             ],
             [
              0.3333333333333333,
              "#9c179e"
             ],
             [
              0.4444444444444444,
              "#bd3786"
             ],
             [
              0.5555555555555556,
              "#d8576b"
             ],
             [
              0.6666666666666666,
              "#ed7953"
             ],
             [
              0.7777777777777778,
              "#fb9f3a"
             ],
             [
              0.8888888888888888,
              "#fdca26"
             ],
             [
              1,
              "#f0f921"
             ]
            ],
            "type": "heatmapgl"
           }
          ],
          "histogram": [
           {
            "marker": {
             "pattern": {
              "fillmode": "overlay",
              "size": 10,
              "solidity": 0.2
             }
            },
            "type": "histogram"
           }
          ],
          "histogram2d": [
           {
            "colorbar": {
             "outlinewidth": 0,
             "ticks": ""
            },
            "colorscale": [
             [
              0,
              "#0d0887"
             ],
             [
              0.1111111111111111,
              "#46039f"
             ],
             [
              0.2222222222222222,
              "#7201a8"
             ],
             [
              0.3333333333333333,
              "#9c179e"
             ],
             [
              0.4444444444444444,
              "#bd3786"
             ],
             [
              0.5555555555555556,
              "#d8576b"
             ],
             [
              0.6666666666666666,
              "#ed7953"
             ],
             [
              0.7777777777777778,
              "#fb9f3a"
             ],
             [
              0.8888888888888888,
              "#fdca26"
             ],
             [
              1,
              "#f0f921"
             ]
            ],
            "type": "histogram2d"
           }
          ],
          "histogram2dcontour": [
           {
            "colorbar": {
             "outlinewidth": 0,
             "ticks": ""
            },
            "colorscale": [
             [
              0,
              "#0d0887"
             ],
             [
              0.1111111111111111,
              "#46039f"
             ],
             [
              0.2222222222222222,
              "#7201a8"
             ],
             [
              0.3333333333333333,
              "#9c179e"
             ],
             [
              0.4444444444444444,
              "#bd3786"
             ],
             [
              0.5555555555555556,
              "#d8576b"
             ],
             [
              0.6666666666666666,
              "#ed7953"
             ],
             [
              0.7777777777777778,
              "#fb9f3a"
             ],
             [
              0.8888888888888888,
              "#fdca26"
             ],
             [
              1,
              "#f0f921"
             ]
            ],
            "type": "histogram2dcontour"
           }
          ],
          "mesh3d": [
           {
            "colorbar": {
             "outlinewidth": 0,
             "ticks": ""
            },
            "type": "mesh3d"
           }
          ],
          "parcoords": [
           {
            "line": {
             "colorbar": {
              "outlinewidth": 0,
              "ticks": ""
             }
            },
            "type": "parcoords"
           }
          ],
          "pie": [
           {
            "automargin": true,
            "type": "pie"
           }
          ],
          "scatter": [
           {
            "fillpattern": {
             "fillmode": "overlay",
             "size": 10,
             "solidity": 0.2
            },
            "type": "scatter"
           }
          ],
          "scatter3d": [
           {
            "line": {
             "colorbar": {
              "outlinewidth": 0,
              "ticks": ""
             }
            },
            "marker": {
             "colorbar": {
              "outlinewidth": 0,
              "ticks": ""
             }
            },
            "type": "scatter3d"
           }
          ],
          "scattercarpet": [
           {
            "marker": {
             "colorbar": {
              "outlinewidth": 0,
              "ticks": ""
             }
            },
            "type": "scattercarpet"
           }
          ],
          "scattergeo": [
           {
            "marker": {
             "colorbar": {
              "outlinewidth": 0,
              "ticks": ""
             }
            },
            "type": "scattergeo"
           }
          ],
          "scattergl": [
           {
            "marker": {
             "colorbar": {
              "outlinewidth": 0,
              "ticks": ""
             }
            },
            "type": "scattergl"
           }
          ],
          "scattermapbox": [
           {
            "marker": {
             "colorbar": {
              "outlinewidth": 0,
              "ticks": ""
             }
            },
            "type": "scattermapbox"
           }
          ],
          "scatterpolar": [
           {
            "marker": {
             "colorbar": {
              "outlinewidth": 0,
              "ticks": ""
             }
            },
            "type": "scatterpolar"
           }
          ],
          "scatterpolargl": [
           {
            "marker": {
             "colorbar": {
              "outlinewidth": 0,
              "ticks": ""
             }
            },
            "type": "scatterpolargl"
           }
          ],
          "scatterternary": [
           {
            "marker": {
             "colorbar": {
              "outlinewidth": 0,
              "ticks": ""
             }
            },
            "type": "scatterternary"
           }
          ],
          "surface": [
           {
            "colorbar": {
             "outlinewidth": 0,
             "ticks": ""
            },
            "colorscale": [
             [
              0,
              "#0d0887"
             ],
             [
              0.1111111111111111,
              "#46039f"
             ],
             [
              0.2222222222222222,
              "#7201a8"
             ],
             [
              0.3333333333333333,
              "#9c179e"
             ],
             [
              0.4444444444444444,
              "#bd3786"
             ],
             [
              0.5555555555555556,
              "#d8576b"
             ],
             [
              0.6666666666666666,
              "#ed7953"
             ],
             [
              0.7777777777777778,
              "#fb9f3a"
             ],
             [
              0.8888888888888888,
              "#fdca26"
             ],
             [
              1,
              "#f0f921"
             ]
            ],
            "type": "surface"
           }
          ],
          "table": [
           {
            "cells": {
             "fill": {
              "color": "#EBF0F8"
             },
             "line": {
              "color": "white"
             }
            },
            "header": {
             "fill": {
              "color": "#C8D4E3"
             },
             "line": {
              "color": "white"
             }
            },
            "type": "table"
           }
          ]
         },
         "layout": {
          "annotationdefaults": {
           "arrowcolor": "#2a3f5f",
           "arrowhead": 0,
           "arrowwidth": 1
          },
          "autotypenumbers": "strict",
          "coloraxis": {
           "colorbar": {
            "outlinewidth": 0,
            "ticks": ""
           }
          },
          "colorscale": {
           "diverging": [
            [
             0,
             "#8e0152"
            ],
            [
             0.1,
             "#c51b7d"
            ],
            [
             0.2,
             "#de77ae"
            ],
            [
             0.3,
             "#f1b6da"
            ],
            [
             0.4,
             "#fde0ef"
            ],
            [
             0.5,
             "#f7f7f7"
            ],
            [
             0.6,
             "#e6f5d0"
            ],
            [
             0.7,
             "#b8e186"
            ],
            [
             0.8,
             "#7fbc41"
            ],
            [
             0.9,
             "#4d9221"
            ],
            [
             1,
             "#276419"
            ]
           ],
           "sequential": [
            [
             0,
             "#0d0887"
            ],
            [
             0.1111111111111111,
             "#46039f"
            ],
            [
             0.2222222222222222,
             "#7201a8"
            ],
            [
             0.3333333333333333,
             "#9c179e"
            ],
            [
             0.4444444444444444,
             "#bd3786"
            ],
            [
             0.5555555555555556,
             "#d8576b"
            ],
            [
             0.6666666666666666,
             "#ed7953"
            ],
            [
             0.7777777777777778,
             "#fb9f3a"
            ],
            [
             0.8888888888888888,
             "#fdca26"
            ],
            [
             1,
             "#f0f921"
            ]
           ],
           "sequentialminus": [
            [
             0,
             "#0d0887"
            ],
            [
             0.1111111111111111,
             "#46039f"
            ],
            [
             0.2222222222222222,
             "#7201a8"
            ],
            [
             0.3333333333333333,
             "#9c179e"
            ],
            [
             0.4444444444444444,
             "#bd3786"
            ],
            [
             0.5555555555555556,
             "#d8576b"
            ],
            [
             0.6666666666666666,
             "#ed7953"
            ],
            [
             0.7777777777777778,
             "#fb9f3a"
            ],
            [
             0.8888888888888888,
             "#fdca26"
            ],
            [
             1,
             "#f0f921"
            ]
           ]
          },
          "colorway": [
           "#636efa",
           "#EF553B",
           "#00cc96",
           "#ab63fa",
           "#FFA15A",
           "#19d3f3",
           "#FF6692",
           "#B6E880",
           "#FF97FF",
           "#FECB52"
          ],
          "font": {
           "color": "#2a3f5f"
          },
          "geo": {
           "bgcolor": "white",
           "lakecolor": "white",
           "landcolor": "#E5ECF6",
           "showlakes": true,
           "showland": true,
           "subunitcolor": "white"
          },
          "hoverlabel": {
           "align": "left"
          },
          "hovermode": "closest",
          "mapbox": {
           "style": "light"
          },
          "paper_bgcolor": "white",
          "plot_bgcolor": "#E5ECF6",
          "polar": {
           "angularaxis": {
            "gridcolor": "white",
            "linecolor": "white",
            "ticks": ""
           },
           "bgcolor": "#E5ECF6",
           "radialaxis": {
            "gridcolor": "white",
            "linecolor": "white",
            "ticks": ""
           }
          },
          "scene": {
           "xaxis": {
            "backgroundcolor": "#E5ECF6",
            "gridcolor": "white",
            "gridwidth": 2,
            "linecolor": "white",
            "showbackground": true,
            "ticks": "",
            "zerolinecolor": "white"
           },
           "yaxis": {
            "backgroundcolor": "#E5ECF6",
            "gridcolor": "white",
            "gridwidth": 2,
            "linecolor": "white",
            "showbackground": true,
            "ticks": "",
            "zerolinecolor": "white"
           },
           "zaxis": {
            "backgroundcolor": "#E5ECF6",
            "gridcolor": "white",
            "gridwidth": 2,
            "linecolor": "white",
            "showbackground": true,
            "ticks": "",
            "zerolinecolor": "white"
           }
          },
          "shapedefaults": {
           "line": {
            "color": "#2a3f5f"
           }
          },
          "ternary": {
           "aaxis": {
            "gridcolor": "white",
            "linecolor": "white",
            "ticks": ""
           },
           "baxis": {
            "gridcolor": "white",
            "linecolor": "white",
            "ticks": ""
           },
           "bgcolor": "#E5ECF6",
           "caxis": {
            "gridcolor": "white",
            "linecolor": "white",
            "ticks": ""
           }
          },
          "title": {
           "x": 0.05
          },
          "xaxis": {
           "automargin": true,
           "gridcolor": "white",
           "linecolor": "white",
           "ticks": "",
           "title": {
            "standoff": 15
           },
           "zerolinecolor": "white",
           "zerolinewidth": 2
          },
          "yaxis": {
           "automargin": true,
           "gridcolor": "white",
           "linecolor": "white",
           "ticks": "",
           "title": {
            "standoff": 15
           },
           "zerolinecolor": "white",
           "zerolinewidth": 2
          }
         }
        },
        "title": {
         "text": "Slide 4: Operator Performance (Top 100 by Volume)"
        }
       }
      }
     },
     "metadata": {},
     "output_type": "display_data"
    }
   ],
   "source": [
    "# 3. TREEMAP - Operator Performance\n",
    "operator = wego.groupby('OPERATOR').agg({\n",
    "    'ADJUSTED_ONTIME_COUNT':'sum',\n",
    "    'ADJUSTED_EARLY_COUNT':'sum',\n",
    "    'ADJUSTED_LATE_COUNT':'sum'\n",
    "}).reset_index()\n",
    "operator['Total'] = operator[['ADJUSTED_ONTIME_COUNT','ADJUSTED_EARLY_COUNT','ADJUSTED_LATE_COUNT']].sum(axis=1)\n",
    "operator['OnTime_Pct'] = (operator['ADJUSTED_ONTIME_COUNT'] / operator['Total'])*100\n",
    "operator_top = operator.nlargest(100, 'Total')\n",
    "\n",
    "fig = px.treemap(\n",
    "    operator_top,\n",
    "    path=['OPERATOR'],\n",
    "    values='Total',\n",
    "    color='OnTime_Pct',\n",
    "    color_continuous_scale=PLOTLY_CONTINUOUS,\n",
    "    title='Slide 4: Operator Performance (Top 100 by Volume)'\n",
    ")\n",
    "fig.update_layout(\n",
    "    margin={'t':40,'l':0,'r':0,'b':0},\n",
    "    coloraxis_colorbar=dict(title='On-Time %', tickcolor=WEGO_COLORS['slate'], titlefont=dict(color=WEGO_COLORS['slate']))\n",
    ")\n",
    "fig.show()"
   ]
  },
  {
   "cell_type": "code",
   "execution_count": null,
   "id": "0d70dac1",
   "metadata": {},
   "outputs": [
    {
     "name": "stderr",
     "output_type": "stream",
     "text": [
      "C:\\Users\\user\\AppData\\Local\\Temp\\ipykernel_3096\\192590027.py:37: FutureWarning:\n",
      "\n",
      "Series.fillna with 'method' is deprecated and will raise in a future version. Use obj.ffill() or obj.bfill() instead.\n",
      "\n"
     ]
    },
    {
     "data": {
      "application/vnd.plotly.v1+json": {
       "config": {
        "plotlyServerURL": "https://plot.ly"
       },
       "data": [
        {
         "fill": "toself",
         "fillcolor": "rgba(94, 74, 227, 0.1)",
         "hoverinfo": "skip",
         "line": {
          "color": "rgba(0,0,0,0)"
         },
         "showlegend": false,
         "type": "scatter",
         "x": [
          "2023-08-01T00:00:00",
          "2023-08-02T00:00:00",
          "2023-08-03T00:00:00",
          "2023-08-04T00:00:00",
          "2023-08-05T00:00:00",
          "2023-08-06T00:00:00",
          "2023-08-07T00:00:00",
          "2023-08-08T00:00:00",
          "2023-08-09T00:00:00",
          "2023-08-10T00:00:00",
          "2023-08-11T00:00:00",
          "2023-08-12T00:00:00",
          "2023-08-13T00:00:00",
          "2023-08-14T00:00:00",
          "2023-08-15T00:00:00",
          "2023-08-16T00:00:00",
          "2023-08-17T00:00:00",
          "2023-08-18T00:00:00",
          "2023-08-19T00:00:00",
          "2023-08-20T00:00:00",
          "2023-08-21T00:00:00",
          "2023-08-22T00:00:00",
          "2023-08-23T00:00:00",
          "2023-08-24T00:00:00",
          "2023-08-25T00:00:00",
          "2023-08-26T00:00:00",
          "2023-08-27T00:00:00",
          "2023-08-28T00:00:00",
          "2023-08-29T00:00:00",
          "2023-08-30T00:00:00",
          "2023-08-31T00:00:00",
          "2023-09-01T00:00:00",
          "2023-09-02T00:00:00",
          "2023-09-03T00:00:00",
          "2023-09-04T00:00:00",
          "2023-09-05T00:00:00",
          "2023-09-06T00:00:00",
          "2023-09-07T00:00:00",
          "2023-09-08T00:00:00",
          "2023-09-09T00:00:00",
          "2023-09-10T00:00:00",
          "2023-09-11T00:00:00",
          "2023-09-12T00:00:00",
          "2023-09-13T00:00:00",
          "2023-09-14T00:00:00",
          "2023-09-15T00:00:00",
          "2023-09-16T00:00:00",
          "2023-09-17T00:00:00",
          "2023-09-18T00:00:00",
          "2023-09-19T00:00:00",
          "2023-09-20T00:00:00",
          "2023-09-21T00:00:00",
          "2023-09-22T00:00:00",
          "2023-09-23T00:00:00",
          "2023-09-24T00:00:00",
          "2023-09-25T00:00:00",
          "2023-09-26T00:00:00",
          "2023-09-27T00:00:00",
          "2023-09-28T00:00:00",
          "2023-09-29T00:00:00",
          "2023-09-30T00:00:00",
          "2023-09-30T00:00:00",
          "2023-09-29T00:00:00",
          "2023-09-28T00:00:00",
          "2023-09-27T00:00:00",
          "2023-09-26T00:00:00",
          "2023-09-25T00:00:00",
          "2023-09-24T00:00:00",
          "2023-09-23T00:00:00",
          "2023-09-22T00:00:00",
          "2023-09-21T00:00:00",
          "2023-09-20T00:00:00",
          "2023-09-19T00:00:00",
          "2023-09-18T00:00:00",
          "2023-09-17T00:00:00",
          "2023-09-16T00:00:00",
          "2023-09-15T00:00:00",
          "2023-09-14T00:00:00",
          "2023-09-13T00:00:00",
          "2023-09-12T00:00:00",
          "2023-09-11T00:00:00",
          "2023-09-10T00:00:00",
          "2023-09-09T00:00:00",
          "2023-09-08T00:00:00",
          "2023-09-07T00:00:00",
          "2023-09-06T00:00:00",
          "2023-09-05T00:00:00",
          "2023-09-04T00:00:00",
          "2023-09-03T00:00:00",
          "2023-09-02T00:00:00",
          "2023-09-01T00:00:00",
          "2023-08-31T00:00:00",
          "2023-08-30T00:00:00",
          "2023-08-29T00:00:00",
          "2023-08-28T00:00:00",
          "2023-08-27T00:00:00",
          "2023-08-26T00:00:00",
          "2023-08-25T00:00:00",
          "2023-08-24T00:00:00",
          "2023-08-23T00:00:00",
          "2023-08-22T00:00:00",
          "2023-08-21T00:00:00",
          "2023-08-20T00:00:00",
          "2023-08-19T00:00:00",
          "2023-08-18T00:00:00",
          "2023-08-17T00:00:00",
          "2023-08-16T00:00:00",
          "2023-08-15T00:00:00",
          "2023-08-14T00:00:00",
          "2023-08-13T00:00:00",
          "2023-08-12T00:00:00",
          "2023-08-11T00:00:00",
          "2023-08-10T00:00:00",
          "2023-08-09T00:00:00",
          "2023-08-08T00:00:00",
          "2023-08-07T00:00:00",
          "2023-08-06T00:00:00",
          "2023-08-05T00:00:00",
          "2023-08-04T00:00:00",
          "2023-08-03T00:00:00",
          "2023-08-02T00:00:00",
          "2023-08-01T00:00:00"
         ],
         "xaxis": "x",
         "y": [
          78.42197532775398,
          78.42197532775398,
          78.42197532775398,
          78.42197532775398,
          78.15168692231623,
          79.27954883891955,
          79.91445270061739,
          79.54413358529179,
          78.77249405730709,
          78.67545508423754,
          79.04470690100736,
          79.6875667362465,
          79.88053615227854,
          79.89306863415187,
          80.20077208959319,
          80.56591126380161,
          80.64508918382049,
          80.19707283089262,
          79.92871996863515,
          80.0497804685691,
          79.90129197134846,
          79.8346559737585,
          80.36133157795146,
          80.84633300748048,
          81.03436038859431,
          81.33714280256443,
          81.48197496291958,
          81.81244830387983,
          81.96150422943995,
          81.82826028670931,
          81.23689706192376,
          81.50967666401168,
          79.98104124999502,
          79.64315880885165,
          79.96724287356848,
          80.25341716676871,
          80.0127836904869,
          80.65878879741274,
          81.14080629166016,
          82.62111460123677,
          82.89211546199542,
          82.33165038148296,
          81.51412943341221,
          81.27235551411484,
          80.74404215121972,
          79.57457054401058,
          79.99449010855992,
          78.34236533972425,
          78.25378379000189,
          78.42730791592,
          78.38197968656425,
          78.17475183044621,
          78.51556063315056,
          77.10044593644548,
          78.47082037405126,
          78.72414783048359,
          78.86463547298345,
          79.3648976701071,
          79.82661606744094,
          79.75591880565047,
          80.77756344686861,
          78.93900469165705,
          79.1357397194005,
          79.00068394894357,
          78.87343867833567,
          78.64597169445173,
          78.48896581024273,
          78.40659285688776,
          78.5474680225027,
          79.04506558858056,
          79.45939699083297,
          79.82716760033954,
          79.97071867466609,
          80.29271708574242,
          80.61724040085984,
          81.30780235489833,
          80.35768841783536,
          80.70141547431624,
          80.64256960230088,
          80.88377330009045,
          81.14944662752573,
          81.26763713542353,
          81.30107792561589,
          81.32524147783592,
          80.94784292966824,
          80.92052198859811,
          81.10746069810433,
          80.88984558872416,
          80.56256688588562,
          80.65909202627972,
          81.272018526303,
          81.04161503470212,
          81.09479593233038,
          80.89808010159923,
          80.85687013761414,
          80.76587771574434,
          80.63293138559979,
          80.61571660974347,
          80.74571109565049,
          80.46362142087654,
          80.01771403167585,
          79.89718030275017,
          79.96515831042382,
          79.80814335244084,
          79.62088986594999,
          79.66027213402901,
          79.66920266055435,
          79.87245283744248,
          79.90376066738463,
          79.6031573922667,
          79.04761681377555,
          78.81825905618794,
          79.0417777517754,
          79.27396419780234,
          79.7447579458779,
          79.91445270061739,
          79.91445270061739,
          79.91445270061739,
          79.91445270061739,
          79.91445270061739,
          79.91445270061739,
          79.91445270061739
         ],
         "yaxis": "y"
        },
        {
         "hovertemplate": "Date: %{x|%b %d, %Y}<br>On-Time %: %{y:.1f}%<extra></extra>",
         "line": {
          "color": "#14213D",
          "width": 3
         },
         "mode": "lines",
         "name": "On-Time % (Daily)",
         "type": "scatter",
         "x": [
          "2023-08-01T00:00:00",
          "2023-08-02T00:00:00",
          "2023-08-03T00:00:00",
          "2023-08-04T00:00:00",
          "2023-08-05T00:00:00",
          "2023-08-06T00:00:00",
          "2023-08-07T00:00:00",
          "2023-08-08T00:00:00",
          "2023-08-09T00:00:00",
          "2023-08-10T00:00:00",
          "2023-08-11T00:00:00",
          "2023-08-12T00:00:00",
          "2023-08-13T00:00:00",
          "2023-08-14T00:00:00",
          "2023-08-15T00:00:00",
          "2023-08-16T00:00:00",
          "2023-08-17T00:00:00",
          "2023-08-18T00:00:00",
          "2023-08-19T00:00:00",
          "2023-08-20T00:00:00",
          "2023-08-21T00:00:00",
          "2023-08-22T00:00:00",
          "2023-08-23T00:00:00",
          "2023-08-24T00:00:00",
          "2023-08-25T00:00:00",
          "2023-08-26T00:00:00",
          "2023-08-27T00:00:00",
          "2023-08-28T00:00:00",
          "2023-08-29T00:00:00",
          "2023-08-30T00:00:00",
          "2023-08-31T00:00:00",
          "2023-09-01T00:00:00",
          "2023-09-02T00:00:00",
          "2023-09-03T00:00:00",
          "2023-09-04T00:00:00",
          "2023-09-05T00:00:00",
          "2023-09-06T00:00:00",
          "2023-09-07T00:00:00",
          "2023-09-08T00:00:00",
          "2023-09-09T00:00:00",
          "2023-09-10T00:00:00",
          "2023-09-11T00:00:00",
          "2023-09-12T00:00:00",
          "2023-09-13T00:00:00",
          "2023-09-14T00:00:00",
          "2023-09-15T00:00:00",
          "2023-09-16T00:00:00",
          "2023-09-17T00:00:00",
          "2023-09-18T00:00:00",
          "2023-09-19T00:00:00",
          "2023-09-20T00:00:00",
          "2023-09-21T00:00:00",
          "2023-09-22T00:00:00",
          "2023-09-23T00:00:00",
          "2023-09-24T00:00:00",
          "2023-09-25T00:00:00",
          "2023-09-26T00:00:00",
          "2023-09-27T00:00:00",
          "2023-09-28T00:00:00",
          "2023-09-29T00:00:00",
          "2023-09-30T00:00:00"
         ],
         "xaxis": "x",
         "y": [
          81.14912846998064,
          80.9090909090909,
          77.6313725490196,
          73.99830938292476,
          77.07053330056524,
          84.9188584219362,
          83.7238758708043,
          78.55689466270151,
          75.50761421319797,
          76.9520997375328,
          76.58307210031347,
          81.57055214723925,
          86.26964433416046,
          83.81160324391766,
          80.71081885079067,
          78.06358843265697,
          77.50634517766497,
          73.44695762981841,
          79.69208211143695,
          87.11706783369803,
          82.77218376337319,
          80.24436686766107,
          81.75031766200762,
          80.9013551843681,
          74.76314929761516,
          81.81155900922778,
          88.13089295618414,
          85.08549715009501,
          81.28775834658187,
          80.81761006289308,
          76.76181261086921,
          76.67260651223067,
          71.11111111111111,
          85.76571586818056,
          87.35408560311284,
          83.29097839898348,
          79.1331757289204,
          81.2838483593501,
          80.04672897196262,
          81.47326927814733,
          87.66272189349112,
          83.43083003952569,
          77.56833176248821,
          77.44075829383887,
          77.58565481908421,
          71.86042772149864,
          84.41270622999262,
          76.09784851164162,
          82.81075919146905,
          78.783000643915,
          77.1234606883486,
          76.13505982625799,
          74.24608934042897,
          74.5069033530572,
          85.69046957488192,
          84.58405138649537,
          79.76641414141415,
          80.62529606821411,
          79.36708860759494,
          73.75120850789558,
          81.65841584158416
         ],
         "yaxis": "y"
        },
        {
         "hovertemplate": "Date: %{x|%b %d, %Y}<br>7-Day Avg: %{y:.1f}%<extra></extra>",
         "line": {
          "color": "#39FF14",
          "dash": "dash",
          "width": 2
         },
         "mode": "lines",
         "name": "On-Time % (7-Day Avg)",
         "type": "scatter",
         "x": [
          "2023-08-01T00:00:00",
          "2023-08-02T00:00:00",
          "2023-08-03T00:00:00",
          "2023-08-04T00:00:00",
          "2023-08-05T00:00:00",
          "2023-08-06T00:00:00",
          "2023-08-07T00:00:00",
          "2023-08-08T00:00:00",
          "2023-08-09T00:00:00",
          "2023-08-10T00:00:00",
          "2023-08-11T00:00:00",
          "2023-08-12T00:00:00",
          "2023-08-13T00:00:00",
          "2023-08-14T00:00:00",
          "2023-08-15T00:00:00",
          "2023-08-16T00:00:00",
          "2023-08-17T00:00:00",
          "2023-08-18T00:00:00",
          "2023-08-19T00:00:00",
          "2023-08-20T00:00:00",
          "2023-08-21T00:00:00",
          "2023-08-22T00:00:00",
          "2023-08-23T00:00:00",
          "2023-08-24T00:00:00",
          "2023-08-25T00:00:00",
          "2023-08-26T00:00:00",
          "2023-08-27T00:00:00",
          "2023-08-28T00:00:00",
          "2023-08-29T00:00:00",
          "2023-08-30T00:00:00",
          "2023-08-31T00:00:00",
          "2023-09-01T00:00:00",
          "2023-09-02T00:00:00",
          "2023-09-03T00:00:00",
          "2023-09-04T00:00:00",
          "2023-09-05T00:00:00",
          "2023-09-06T00:00:00",
          "2023-09-07T00:00:00",
          "2023-09-08T00:00:00",
          "2023-09-09T00:00:00",
          "2023-09-10T00:00:00",
          "2023-09-11T00:00:00",
          "2023-09-12T00:00:00",
          "2023-09-13T00:00:00",
          "2023-09-14T00:00:00",
          "2023-09-15T00:00:00",
          "2023-09-16T00:00:00",
          "2023-09-17T00:00:00",
          "2023-09-18T00:00:00",
          "2023-09-19T00:00:00",
          "2023-09-20T00:00:00",
          "2023-09-21T00:00:00",
          "2023-09-22T00:00:00",
          "2023-09-23T00:00:00",
          "2023-09-24T00:00:00",
          "2023-09-25T00:00:00",
          "2023-09-26T00:00:00",
          "2023-09-27T00:00:00",
          "2023-09-28T00:00:00",
          "2023-09-29T00:00:00",
          "2023-09-30T00:00:00"
         ],
         "xaxis": "x",
         "y": [
          null,
          null,
          null,
          78.42197532775398,
          78.15168692231623,
          79.27954883891955,
          79.91445270061739,
          79.54413358529179,
          78.77249405730709,
          78.67545508423754,
          79.04470690100736,
          79.6875667362465,
          79.88053615227854,
          79.89306863415187,
          80.20077208959319,
          80.56591126380161,
          80.64508918382049,
          80.19707283089262,
          79.92871996863515,
          80.0497804685691,
          79.90129197134846,
          79.8346559737585,
          80.36133157795146,
          80.84633300748048,
          81.03436038859431,
          81.33714280256443,
          81.48197496291958,
          81.81244830387983,
          81.96150422943995,
          81.82826028670931,
          81.23689706192376,
          81.50967666401168,
          79.98104124999502,
          79.64315880885165,
          79.96724287356848,
          80.25341716676871,
          80.0127836904869,
          80.65878879741274,
          81.14080629166016,
          82.62111460123677,
          82.89211546199542,
          82.33165038148296,
          81.51412943341221,
          81.27235551411484,
          80.74404215121972,
          79.57457054401058,
          79.99449010855992,
          78.34236533972425,
          78.25378379000189,
          78.42730791592,
          78.38197968656425,
          78.17475183044621,
          78.51556063315056,
          77.10044593644548,
          78.47082037405126,
          78.72414783048359,
          78.86463547298345,
          79.3648976701071,
          79.82661606744094,
          79.75591880565047,
          80.77756344686861
         ],
         "yaxis": "y"
        },
        {
         "hovertemplate": "Date: %{x|%b %d, %Y}<br>14-Day Avg: %{y:.1f}%<extra></extra>",
         "line": {
          "color": "#6C757D",
          "dash": "dot",
          "width": 2
         },
         "mode": "lines",
         "name": "On-Time % (14-Day Avg)",
         "type": "scatter",
         "x": [
          "2023-08-01T00:00:00",
          "2023-08-02T00:00:00",
          "2023-08-03T00:00:00",
          "2023-08-04T00:00:00",
          "2023-08-05T00:00:00",
          "2023-08-06T00:00:00",
          "2023-08-07T00:00:00",
          "2023-08-08T00:00:00",
          "2023-08-09T00:00:00",
          "2023-08-10T00:00:00",
          "2023-08-11T00:00:00",
          "2023-08-12T00:00:00",
          "2023-08-13T00:00:00",
          "2023-08-14T00:00:00",
          "2023-08-15T00:00:00",
          "2023-08-16T00:00:00",
          "2023-08-17T00:00:00",
          "2023-08-18T00:00:00",
          "2023-08-19T00:00:00",
          "2023-08-20T00:00:00",
          "2023-08-21T00:00:00",
          "2023-08-22T00:00:00",
          "2023-08-23T00:00:00",
          "2023-08-24T00:00:00",
          "2023-08-25T00:00:00",
          "2023-08-26T00:00:00",
          "2023-08-27T00:00:00",
          "2023-08-28T00:00:00",
          "2023-08-29T00:00:00",
          "2023-08-30T00:00:00",
          "2023-08-31T00:00:00",
          "2023-09-01T00:00:00",
          "2023-09-02T00:00:00",
          "2023-09-03T00:00:00",
          "2023-09-04T00:00:00",
          "2023-09-05T00:00:00",
          "2023-09-06T00:00:00",
          "2023-09-07T00:00:00",
          "2023-09-08T00:00:00",
          "2023-09-09T00:00:00",
          "2023-09-10T00:00:00",
          "2023-09-11T00:00:00",
          "2023-09-12T00:00:00",
          "2023-09-13T00:00:00",
          "2023-09-14T00:00:00",
          "2023-09-15T00:00:00",
          "2023-09-16T00:00:00",
          "2023-09-17T00:00:00",
          "2023-09-18T00:00:00",
          "2023-09-19T00:00:00",
          "2023-09-20T00:00:00",
          "2023-09-21T00:00:00",
          "2023-09-22T00:00:00",
          "2023-09-23T00:00:00",
          "2023-09-24T00:00:00",
          "2023-09-25T00:00:00",
          "2023-09-26T00:00:00",
          "2023-09-27T00:00:00",
          "2023-09-28T00:00:00",
          "2023-09-29T00:00:00",
          "2023-09-30T00:00:00"
         ],
         "xaxis": "x",
         "y": [
          null,
          null,
          null,
          null,
          null,
          null,
          79.91445270061739,
          79.7447579458779,
          79.27396419780234,
          79.0417777517754,
          78.81825905618794,
          79.04761681377555,
          79.6031573922667,
          79.90376066738463,
          79.87245283744248,
          79.66920266055435,
          79.66027213402901,
          79.62088986594999,
          79.80814335244084,
          79.96515831042382,
          79.89718030275017,
          80.01771403167585,
          80.46362142087654,
          80.74571109565049,
          80.61571660974347,
          80.63293138559979,
          80.76587771574434,
          80.85687013761414,
          80.89808010159923,
          81.09479593233038,
          81.04161503470212,
          81.272018526303,
          80.65909202627972,
          80.56256688588562,
          80.88984558872416,
          81.10746069810433,
          80.92052198859811,
          80.94784292966824,
          81.32524147783592,
          81.30107792561589,
          81.26763713542353,
          81.14944662752573,
          80.88377330009045,
          80.64256960230088,
          80.70141547431624,
          80.35768841783536,
          81.30780235489833,
          80.61724040085984,
          80.29271708574242,
          79.97071867466609,
          79.82716760033954,
          79.45939699083297,
          79.04506558858056,
          78.5474680225027,
          78.40659285688776,
          78.48896581024273,
          78.64597169445173,
          78.87343867833567,
          79.00068394894357,
          79.1357397194005,
          78.93900469165705
         ],
         "yaxis": "y"
        },
        {
         "hovertemplate": "Date: %{x|%b %d, %Y}<br>On-Time %: %{y:.1f}%<extra></extra>",
         "marker": {
          "color": "#E76F51",
          "line": {
           "color": "white",
           "width": 1
          },
          "size": 6
         },
         "mode": "markers",
         "name": "Below 75%",
         "type": "scatter",
         "x": [
          "2023-08-04T00:00:00",
          "2023-08-18T00:00:00",
          "2023-08-25T00:00:00",
          "2023-09-02T00:00:00",
          "2023-09-15T00:00:00",
          "2023-09-22T00:00:00",
          "2023-09-23T00:00:00",
          "2023-09-29T00:00:00"
         ],
         "xaxis": "x",
         "y": [
          73.99830938292476,
          73.44695762981841,
          74.76314929761516,
          71.11111111111111,
          71.86042772149864,
          74.24608934042897,
          74.5069033530572,
          73.75120850789558
         ],
         "yaxis": "y"
        },
        {
         "hovertemplate": "Date: %{x|%b %d, %Y}<br>Total Trips: %{y:,}<extra></extra>",
         "marker": {
          "color": "rgba(94, 74, 227, 0.6)",
          "line": {
           "color": "#5E4AE3",
           "width": 0.4
          }
         },
         "name": "Trip Volume",
         "type": "bar",
         "x": [
          "2023-08-01T00:00:00",
          "2023-08-02T00:00:00",
          "2023-08-03T00:00:00",
          "2023-08-04T00:00:00",
          "2023-08-05T00:00:00",
          "2023-08-06T00:00:00",
          "2023-08-07T00:00:00",
          "2023-08-08T00:00:00",
          "2023-08-09T00:00:00",
          "2023-08-10T00:00:00",
          "2023-08-11T00:00:00",
          "2023-08-12T00:00:00",
          "2023-08-13T00:00:00",
          "2023-08-14T00:00:00",
          "2023-08-15T00:00:00",
          "2023-08-16T00:00:00",
          "2023-08-17T00:00:00",
          "2023-08-18T00:00:00",
          "2023-08-19T00:00:00",
          "2023-08-20T00:00:00",
          "2023-08-21T00:00:00",
          "2023-08-22T00:00:00",
          "2023-08-23T00:00:00",
          "2023-08-24T00:00:00",
          "2023-08-25T00:00:00",
          "2023-08-26T00:00:00",
          "2023-08-27T00:00:00",
          "2023-08-28T00:00:00",
          "2023-08-29T00:00:00",
          "2023-08-30T00:00:00",
          "2023-08-31T00:00:00",
          "2023-09-01T00:00:00",
          "2023-09-02T00:00:00",
          "2023-09-03T00:00:00",
          "2023-09-04T00:00:00",
          "2023-09-05T00:00:00",
          "2023-09-06T00:00:00",
          "2023-09-07T00:00:00",
          "2023-09-08T00:00:00",
          "2023-09-09T00:00:00",
          "2023-09-10T00:00:00",
          "2023-09-11T00:00:00",
          "2023-09-12T00:00:00",
          "2023-09-13T00:00:00",
          "2023-09-14T00:00:00",
          "2023-09-15T00:00:00",
          "2023-09-16T00:00:00",
          "2023-09-17T00:00:00",
          "2023-09-18T00:00:00",
          "2023-09-19T00:00:00",
          "2023-09-20T00:00:00",
          "2023-09-21T00:00:00",
          "2023-09-22T00:00:00",
          "2023-09-23T00:00:00",
          "2023-09-24T00:00:00",
          "2023-09-25T00:00:00",
          "2023-09-26T00:00:00",
          "2023-09-27T00:00:00",
          "2023-09-28T00:00:00",
          "2023-09-29T00:00:00",
          "2023-09-30T00:00:00"
         ],
         "xaxis": "x2",
         "y": [
          6196,
          6380,
          6375,
          5915,
          4069,
          3574,
          6316,
          6389,
          6304,
          6096,
          6380,
          4075,
          3627,
          6412,
          6387,
          6259,
          6304,
          6278,
          4092,
          3656,
          6356,
          6302,
          6296,
          6346,
          6122,
          4118,
          3606,
          6316,
          6290,
          6360,
          6201,
          6173,
          3960,
          3611,
          3598,
          6296,
          6345,
          6278,
          6420,
          4059,
          3380,
          6325,
          6366,
          6330,
          6246,
          6219,
          4061,
          3393,
          6283,
          6212,
          6334,
          6101,
          6201,
          4056,
          3599,
          6383,
          6336,
          6333,
          6320,
          6206,
          4040
         ],
         "yaxis": "y2"
        }
       ],
       "layout": {
        "font": {
         "color": "#6C757D"
        },
        "hovermode": "x unified",
        "legend": {
         "bgcolor": "rgba(20, 33, 61, 0.05)",
         "borderwidth": 0,
         "font": {
          "color": "#6C757D"
         },
         "orientation": "v",
         "x": 1.02,
         "xanchor": "left",
         "y": 1,
         "yanchor": "top"
        },
        "margin": {
         "b": 90,
         "l": 40,
         "r": 150,
         "t": 70
        },
        "paper_bgcolor": "white",
        "plot_bgcolor": "white",
        "shapes": [
         {
          "line": {
           "color": "#E76F51",
           "dash": "dot",
           "width": 1.5
          },
          "type": "line",
          "x0": 0,
          "x1": 1,
          "xref": "x domain",
          "y0": 80,
          "y1": 80,
          "yref": "y"
         },
         {
          "fillcolor": "rgba(57, 255, 20, 0.08)",
          "line": {
           "width": 0
          },
          "type": "rect",
          "x0": 0,
          "x1": 1,
          "xref": "x domain",
          "y0": 80,
          "y1": 100,
          "yref": "y"
         }
        ],
        "template": {
         "data": {
          "bar": [
           {
            "error_x": {
             "color": "#2a3f5f"
            },
            "error_y": {
             "color": "#2a3f5f"
            },
            "marker": {
             "line": {
              "color": "#E5ECF6",
              "width": 0.5
             },
             "pattern": {
              "fillmode": "overlay",
              "size": 10,
              "solidity": 0.2
             }
            },
            "type": "bar"
           }
          ],
          "barpolar": [
           {
            "marker": {
             "line": {
              "color": "#E5ECF6",
              "width": 0.5
             },
             "pattern": {
              "fillmode": "overlay",
              "size": 10,
              "solidity": 0.2
             }
            },
            "type": "barpolar"
           }
          ],
          "carpet": [
           {
            "aaxis": {
             "endlinecolor": "#2a3f5f",
             "gridcolor": "white",
             "linecolor": "white",
             "minorgridcolor": "white",
             "startlinecolor": "#2a3f5f"
            },
            "baxis": {
             "endlinecolor": "#2a3f5f",
             "gridcolor": "white",
             "linecolor": "white",
             "minorgridcolor": "white",
             "startlinecolor": "#2a3f5f"
            },
            "type": "carpet"
           }
          ],
          "choropleth": [
           {
            "colorbar": {
             "outlinewidth": 0,
             "ticks": ""
            },
            "type": "choropleth"
           }
          ],
          "contour": [
           {
            "colorbar": {
             "outlinewidth": 0,
             "ticks": ""
            },
            "colorscale": [
             [
              0,
              "#0d0887"
             ],
             [
              0.1111111111111111,
              "#46039f"
             ],
             [
              0.2222222222222222,
              "#7201a8"
             ],
             [
              0.3333333333333333,
              "#9c179e"
             ],
             [
              0.4444444444444444,
              "#bd3786"
             ],
             [
              0.5555555555555556,
              "#d8576b"
             ],
             [
              0.6666666666666666,
              "#ed7953"
             ],
             [
              0.7777777777777778,
              "#fb9f3a"
             ],
             [
              0.8888888888888888,
              "#fdca26"
             ],
             [
              1,
              "#f0f921"
             ]
            ],
            "type": "contour"
           }
          ],
          "contourcarpet": [
           {
            "colorbar": {
             "outlinewidth": 0,
             "ticks": ""
            },
            "type": "contourcarpet"
           }
          ],
          "heatmap": [
           {
            "colorbar": {
             "outlinewidth": 0,
             "ticks": ""
            },
            "colorscale": [
             [
              0,
              "#0d0887"
             ],
             [
              0.1111111111111111,
              "#46039f"
             ],
             [
              0.2222222222222222,
              "#7201a8"
             ],
             [
              0.3333333333333333,
              "#9c179e"
             ],
             [
              0.4444444444444444,
              "#bd3786"
             ],
             [
              0.5555555555555556,
              "#d8576b"
             ],
             [
              0.6666666666666666,
              "#ed7953"
             ],
             [
              0.7777777777777778,
              "#fb9f3a"
             ],
             [
              0.8888888888888888,
              "#fdca26"
             ],
             [
              1,
              "#f0f921"
             ]
            ],
            "type": "heatmap"
           }
          ],
          "heatmapgl": [
           {
            "colorbar": {
             "outlinewidth": 0,
             "ticks": ""
            },
            "colorscale": [
             [
              0,
              "#0d0887"
             ],
             [
              0.1111111111111111,
              "#46039f"
             ],
             [
              0.2222222222222222,
              "#7201a8"
             ],
             [
              0.3333333333333333,
              "#9c179e"
             ],
             [
              0.4444444444444444,
              "#bd3786"
             ],
             [
              0.5555555555555556,
              "#d8576b"
             ],
             [
              0.6666666666666666,
              "#ed7953"
             ],
             [
              0.7777777777777778,
              "#fb9f3a"
             ],
             [
              0.8888888888888888,
              "#fdca26"
             ],
             [
              1,
              "#f0f921"
             ]
            ],
            "type": "heatmapgl"
           }
          ],
          "histogram": [
           {
            "marker": {
             "pattern": {
              "fillmode": "overlay",
              "size": 10,
              "solidity": 0.2
             }
            },
            "type": "histogram"
           }
          ],
          "histogram2d": [
           {
            "colorbar": {
             "outlinewidth": 0,
             "ticks": ""
            },
            "colorscale": [
             [
              0,
              "#0d0887"
             ],
             [
              0.1111111111111111,
              "#46039f"
             ],
             [
              0.2222222222222222,
              "#7201a8"
             ],
             [
              0.3333333333333333,
              "#9c179e"
             ],
             [
              0.4444444444444444,
              "#bd3786"
             ],
             [
              0.5555555555555556,
              "#d8576b"
             ],
             [
              0.6666666666666666,
              "#ed7953"
             ],
             [
              0.7777777777777778,
              "#fb9f3a"
             ],
             [
              0.8888888888888888,
              "#fdca26"
             ],
             [
              1,
              "#f0f921"
             ]
            ],
            "type": "histogram2d"
           }
          ],
          "histogram2dcontour": [
           {
            "colorbar": {
             "outlinewidth": 0,
             "ticks": ""
            },
            "colorscale": [
             [
              0,
              "#0d0887"
             ],
             [
              0.1111111111111111,
              "#46039f"
             ],
             [
              0.2222222222222222,
              "#7201a8"
             ],
             [
              0.3333333333333333,
              "#9c179e"
             ],
             [
              0.4444444444444444,
              "#bd3786"
             ],
             [
              0.5555555555555556,
              "#d8576b"
             ],
             [
              0.6666666666666666,
              "#ed7953"
             ],
             [
              0.7777777777777778,
              "#fb9f3a"
             ],
             [
              0.8888888888888888,
              "#fdca26"
             ],
             [
              1,
              "#f0f921"
             ]
            ],
            "type": "histogram2dcontour"
           }
          ],
          "mesh3d": [
           {
            "colorbar": {
             "outlinewidth": 0,
             "ticks": ""
            },
            "type": "mesh3d"
           }
          ],
          "parcoords": [
           {
            "line": {
             "colorbar": {
              "outlinewidth": 0,
              "ticks": ""
             }
            },
            "type": "parcoords"
           }
          ],
          "pie": [
           {
            "automargin": true,
            "type": "pie"
           }
          ],
          "scatter": [
           {
            "fillpattern": {
             "fillmode": "overlay",
             "size": 10,
             "solidity": 0.2
            },
            "type": "scatter"
           }
          ],
          "scatter3d": [
           {
            "line": {
             "colorbar": {
              "outlinewidth": 0,
              "ticks": ""
             }
            },
            "marker": {
             "colorbar": {
              "outlinewidth": 0,
              "ticks": ""
             }
            },
            "type": "scatter3d"
           }
          ],
          "scattercarpet": [
           {
            "marker": {
             "colorbar": {
              "outlinewidth": 0,
              "ticks": ""
             }
            },
            "type": "scattercarpet"
           }
          ],
          "scattergeo": [
           {
            "marker": {
             "colorbar": {
              "outlinewidth": 0,
              "ticks": ""
             }
            },
            "type": "scattergeo"
           }
          ],
          "scattergl": [
           {
            "marker": {
             "colorbar": {
              "outlinewidth": 0,
              "ticks": ""
             }
            },
            "type": "scattergl"
           }
          ],
          "scattermapbox": [
           {
            "marker": {
             "colorbar": {
              "outlinewidth": 0,
              "ticks": ""
             }
            },
            "type": "scattermapbox"
           }
          ],
          "scatterpolar": [
           {
            "marker": {
             "colorbar": {
              "outlinewidth": 0,
              "ticks": ""
             }
            },
            "type": "scatterpolar"
           }
          ],
          "scatterpolargl": [
           {
            "marker": {
             "colorbar": {
              "outlinewidth": 0,
              "ticks": ""
             }
            },
            "type": "scatterpolargl"
           }
          ],
          "scatterternary": [
           {
            "marker": {
             "colorbar": {
              "outlinewidth": 0,
              "ticks": ""
             }
            },
            "type": "scatterternary"
           }
          ],
          "surface": [
           {
            "colorbar": {
             "outlinewidth": 0,
             "ticks": ""
            },
            "colorscale": [
             [
              0,
              "#0d0887"
             ],
             [
              0.1111111111111111,
              "#46039f"
             ],
             [
              0.2222222222222222,
              "#7201a8"
             ],
             [
              0.3333333333333333,
              "#9c179e"
             ],
             [
              0.4444444444444444,
              "#bd3786"
             ],
             [
              0.5555555555555556,
              "#d8576b"
             ],
             [
              0.6666666666666666,
              "#ed7953"
             ],
             [
              0.7777777777777778,
              "#fb9f3a"
             ],
             [
              0.8888888888888888,
              "#fdca26"
             ],
             [
              1,
              "#f0f921"
             ]
            ],
            "type": "surface"
           }
          ],
          "table": [
           {
            "cells": {
             "fill": {
              "color": "#EBF0F8"
             },
             "line": {
              "color": "white"
             }
            },
            "header": {
             "fill": {
              "color": "#C8D4E3"
             },
             "line": {
              "color": "white"
             }
            },
            "type": "table"
           }
          ]
         },
         "layout": {
          "annotationdefaults": {
           "arrowcolor": "#2a3f5f",
           "arrowhead": 0,
           "arrowwidth": 1
          },
          "autotypenumbers": "strict",
          "coloraxis": {
           "colorbar": {
            "outlinewidth": 0,
            "ticks": ""
           }
          },
          "colorscale": {
           "diverging": [
            [
             0,
             "#8e0152"
            ],
            [
             0.1,
             "#c51b7d"
            ],
            [
             0.2,
             "#de77ae"
            ],
            [
             0.3,
             "#f1b6da"
            ],
            [
             0.4,
             "#fde0ef"
            ],
            [
             0.5,
             "#f7f7f7"
            ],
            [
             0.6,
             "#e6f5d0"
            ],
            [
             0.7,
             "#b8e186"
            ],
            [
             0.8,
             "#7fbc41"
            ],
            [
             0.9,
             "#4d9221"
            ],
            [
             1,
             "#276419"
            ]
           ],
           "sequential": [
            [
             0,
             "#0d0887"
            ],
            [
             0.1111111111111111,
             "#46039f"
            ],
            [
             0.2222222222222222,
             "#7201a8"
            ],
            [
             0.3333333333333333,
             "#9c179e"
            ],
            [
             0.4444444444444444,
             "#bd3786"
            ],
            [
             0.5555555555555556,
             "#d8576b"
            ],
            [
             0.6666666666666666,
             "#ed7953"
            ],
            [
             0.7777777777777778,
             "#fb9f3a"
            ],
            [
             0.8888888888888888,
             "#fdca26"
            ],
            [
             1,
             "#f0f921"
            ]
           ],
           "sequentialminus": [
            [
             0,
             "#0d0887"
            ],
            [
             0.1111111111111111,
             "#46039f"
            ],
            [
             0.2222222222222222,
             "#7201a8"
            ],
            [
             0.3333333333333333,
             "#9c179e"
            ],
            [
             0.4444444444444444,
             "#bd3786"
            ],
            [
             0.5555555555555556,
             "#d8576b"
            ],
            [
             0.6666666666666666,
             "#ed7953"
            ],
            [
             0.7777777777777778,
             "#fb9f3a"
            ],
            [
             0.8888888888888888,
             "#fdca26"
            ],
            [
             1,
             "#f0f921"
            ]
           ]
          },
          "colorway": [
           "#636efa",
           "#EF553B",
           "#00cc96",
           "#ab63fa",
           "#FFA15A",
           "#19d3f3",
           "#FF6692",
           "#B6E880",
           "#FF97FF",
           "#FECB52"
          ],
          "font": {
           "color": "#2a3f5f"
          },
          "geo": {
           "bgcolor": "white",
           "lakecolor": "white",
           "landcolor": "#E5ECF6",
           "showlakes": true,
           "showland": true,
           "subunitcolor": "white"
          },
          "hoverlabel": {
           "align": "left"
          },
          "hovermode": "closest",
          "mapbox": {
           "style": "light"
          },
          "paper_bgcolor": "white",
          "plot_bgcolor": "#E5ECF6",
          "polar": {
           "angularaxis": {
            "gridcolor": "white",
            "linecolor": "white",
            "ticks": ""
           },
           "bgcolor": "#E5ECF6",
           "radialaxis": {
            "gridcolor": "white",
            "linecolor": "white",
            "ticks": ""
           }
          },
          "scene": {
           "xaxis": {
            "backgroundcolor": "#E5ECF6",
            "gridcolor": "white",
            "gridwidth": 2,
            "linecolor": "white",
            "showbackground": true,
            "ticks": "",
            "zerolinecolor": "white"
           },
           "yaxis": {
            "backgroundcolor": "#E5ECF6",
            "gridcolor": "white",
            "gridwidth": 2,
            "linecolor": "white",
            "showbackground": true,
            "ticks": "",
            "zerolinecolor": "white"
           },
           "zaxis": {
            "backgroundcolor": "#E5ECF6",
            "gridcolor": "white",
            "gridwidth": 2,
            "linecolor": "white",
            "showbackground": true,
            "ticks": "",
            "zerolinecolor": "white"
           }
          },
          "shapedefaults": {
           "line": {
            "color": "#2a3f5f"
           }
          },
          "ternary": {
           "aaxis": {
            "gridcolor": "white",
            "linecolor": "white",
            "ticks": ""
           },
           "baxis": {
            "gridcolor": "white",
            "linecolor": "white",
            "ticks": ""
           },
           "bgcolor": "#E5ECF6",
           "caxis": {
            "gridcolor": "white",
            "linecolor": "white",
            "ticks": ""
           }
          },
          "title": {
           "x": 0.05
          },
          "xaxis": {
           "automargin": true,
           "gridcolor": "white",
           "linecolor": "white",
           "ticks": "",
           "title": {
            "standoff": 15
           },
           "zerolinecolor": "white",
           "zerolinewidth": 2
          },
          "yaxis": {
           "automargin": true,
           "gridcolor": "white",
           "linecolor": "white",
           "ticks": "",
           "title": {
            "standoff": 15
           },
           "zerolinecolor": "white",
           "zerolinewidth": 2
          }
         }
        },
        "title": {
         "text": "Slide 5: Performance Trend Over Time"
        },
        "xaxis": {
         "anchor": "y",
         "domain": [
          0,
          1
         ],
         "matches": "x2",
         "showticklabels": false
        },
        "xaxis2": {
         "anchor": "y2",
         "domain": [
          0,
          1
         ],
         "gridcolor": "rgba(108, 117, 125, 0.1)",
         "rangeselector": {
          "buttons": [
           {
            "count": 14,
            "label": "2W",
            "step": "day",
            "stepmode": "backward"
           },
           {
            "count": 1,
            "label": "1M",
            "step": "month",
            "stepmode": "backward"
           },
           {
            "count": 2,
            "label": "2M",
            "step": "month",
            "stepmode": "backward"
           },
           {
            "step": "all"
           }
          ],
          "x": 0,
          "y": 1.2
         },
         "rangeslider": {
          "bgcolor": "rgba(20, 33, 61, 0.05)",
          "visible": true
         },
         "tickfont": {
          "color": "#6C757D"
         }
        },
        "yaxis": {
         "anchor": "x",
         "domain": [
          0.33760000000000007,
          1
         ],
         "gridcolor": "rgba(108, 117, 125, 0.25)",
         "range": [
          60,
          100
         ],
         "tickfont": {
          "color": "#6C757D"
         },
         "title": {
          "text": "On-Time Performance (%)"
         }
        },
        "yaxis2": {
         "anchor": "x2",
         "domain": [
          0,
          0.25760000000000005
         ],
         "gridcolor": "rgba(108, 117, 125, 0.1)",
         "tickfont": {
          "color": "#6C757D"
         },
         "title": {
          "text": "Total Trips"
         }
        }
       }
      }
     },
     "metadata": {},
     "output_type": "display_data"
    },
    {
     "ename": "ValueError",
     "evalue": "\nImage export using the \"kaleido\" engine requires the kaleido package,\nwhich can be installed using pip:\n    $ pip install -U kaleido\n",
     "output_type": "error",
     "traceback": [
      "\u001b[31m---------------------------------------------------------------------------\u001b[39m",
      "\u001b[31mValueError\u001b[39m                                Traceback (most recent call last)",
      "\u001b[36mCell\u001b[39m\u001b[36m \u001b[39m\u001b[32mIn[72]\u001b[39m\u001b[32m, line 174\u001b[39m\n\u001b[32m    172\u001b[39m fig.show()\n\u001b[32m    173\u001b[39m \u001b[38;5;28;01mif\u001b[39;00m SAVE_PDF:\n\u001b[32m--> \u001b[39m\u001b[32m174\u001b[39m     \u001b[43msave_plotly_figure\u001b[49m\u001b[43m(\u001b[49m\u001b[43mfig\u001b[49m\u001b[43m,\u001b[49m\u001b[43m \u001b[49m\u001b[33;43m'\u001b[39;49m\u001b[33;43mperformance_trend_over_time\u001b[39;49m\u001b[33;43m'\u001b[39;49m\u001b[43m)\u001b[49m\n",
      "\u001b[36mCell\u001b[39m\u001b[36m \u001b[39m\u001b[32mIn[24]\u001b[39m\u001b[32m, line 12\u001b[39m, in \u001b[36msave_plotly_figure\u001b[39m\u001b[34m(fig, filename, save_pdf)\u001b[39m\n\u001b[32m     10\u001b[39m \u001b[38;5;66;03m# Save PNG\u001b[39;00m\n\u001b[32m     11\u001b[39m png_path = \u001b[33mf\u001b[39m\u001b[33m'\u001b[39m\u001b[33moutput/images/\u001b[39m\u001b[38;5;132;01m{\u001b[39;00mfilename\u001b[38;5;132;01m}\u001b[39;00m\u001b[33m.png\u001b[39m\u001b[33m'\u001b[39m\n\u001b[32m---> \u001b[39m\u001b[32m12\u001b[39m \u001b[43mfig\u001b[49m\u001b[43m.\u001b[49m\u001b[43mwrite_image\u001b[49m\u001b[43m(\u001b[49m\u001b[43mpng_path\u001b[49m\u001b[43m,\u001b[49m\u001b[43m \u001b[49m\u001b[43mscale\u001b[49m\u001b[43m=\u001b[49m\u001b[32;43m2\u001b[39;49m\u001b[43m)\u001b[49m\n\u001b[32m     13\u001b[39m \u001b[38;5;28mprint\u001b[39m(\u001b[33mf\u001b[39m\u001b[33m'\u001b[39m\u001b[33mSaved \u001b[39m\u001b[38;5;132;01m{\u001b[39;00mfilename\u001b[38;5;132;01m}\u001b[39;00m\u001b[33m.png\u001b[39m\u001b[33m'\u001b[39m)\n\u001b[32m     15\u001b[39m \u001b[38;5;66;03m# Save PDF if enabled\u001b[39;00m\n",
      "\u001b[36mFile \u001b[39m\u001b[32m~\\AppData\\Roaming\\Python\\Python311\\site-packages\\plotly\\basedatatypes.py:3835\u001b[39m, in \u001b[36mBaseFigure.write_image\u001b[39m\u001b[34m(self, *args, **kwargs)\u001b[39m\n\u001b[32m   3775\u001b[39m \u001b[38;5;250m\u001b[39m\u001b[33;03m\"\"\"\u001b[39;00m\n\u001b[32m   3776\u001b[39m \u001b[33;03mConvert a figure to a static image and write it to a file or writeable\u001b[39;00m\n\u001b[32m   3777\u001b[39m \u001b[33;03mobject\u001b[39;00m\n\u001b[32m   (...)\u001b[39m\u001b[32m   3831\u001b[39m \u001b[33;03mNone\u001b[39;00m\n\u001b[32m   3832\u001b[39m \u001b[33;03m\"\"\"\u001b[39;00m\n\u001b[32m   3833\u001b[39m \u001b[38;5;28;01mimport\u001b[39;00m\u001b[38;5;250m \u001b[39m\u001b[34;01mplotly\u001b[39;00m\u001b[34;01m.\u001b[39;00m\u001b[34;01mio\u001b[39;00m\u001b[38;5;250m \u001b[39m\u001b[38;5;28;01mas\u001b[39;00m\u001b[38;5;250m \u001b[39m\u001b[34;01mpio\u001b[39;00m\n\u001b[32m-> \u001b[39m\u001b[32m3835\u001b[39m \u001b[38;5;28;01mreturn\u001b[39;00m \u001b[43mpio\u001b[49m\u001b[43m.\u001b[49m\u001b[43mwrite_image\u001b[49m\u001b[43m(\u001b[49m\u001b[38;5;28;43mself\u001b[39;49m\u001b[43m,\u001b[49m\u001b[43m \u001b[49m\u001b[43m*\u001b[49m\u001b[43margs\u001b[49m\u001b[43m,\u001b[49m\u001b[43m \u001b[49m\u001b[43m*\u001b[49m\u001b[43m*\u001b[49m\u001b[43mkwargs\u001b[49m\u001b[43m)\u001b[49m\n",
      "\u001b[36mFile \u001b[39m\u001b[32m~\\AppData\\Roaming\\Python\\Python311\\site-packages\\plotly\\io\\_kaleido.py:266\u001b[39m, in \u001b[36mwrite_image\u001b[39m\u001b[34m(fig, file, format, scale, width, height, validate, engine)\u001b[39m\n\u001b[32m    250\u001b[39m             \u001b[38;5;28;01mraise\u001b[39;00m \u001b[38;5;167;01mValueError\u001b[39;00m(\n\u001b[32m    251\u001b[39m \u001b[38;5;250m                \u001b[39m\u001b[33;03m\"\"\"\u001b[39;00m\n\u001b[32m    252\u001b[39m \u001b[33;03mCannot infer image type from output path '{file}'.\u001b[39;00m\n\u001b[32m   (...)\u001b[39m\u001b[32m    260\u001b[39m                 )\n\u001b[32m    261\u001b[39m             )\n\u001b[32m    263\u001b[39m     \u001b[38;5;66;03m# Request image\u001b[39;00m\n\u001b[32m    264\u001b[39m     \u001b[38;5;66;03m# -------------\u001b[39;00m\n\u001b[32m    265\u001b[39m     \u001b[38;5;66;03m# Do this first so we don't create a file if image conversion fails\u001b[39;00m\n\u001b[32m--> \u001b[39m\u001b[32m266\u001b[39m     img_data = \u001b[43mto_image\u001b[49m\u001b[43m(\u001b[49m\n\u001b[32m    267\u001b[39m \u001b[43m        \u001b[49m\u001b[43mfig\u001b[49m\u001b[43m,\u001b[49m\n\u001b[32m    268\u001b[39m \u001b[43m        \u001b[49m\u001b[38;5;28;43mformat\u001b[39;49m\u001b[43m=\u001b[49m\u001b[38;5;28;43mformat\u001b[39;49m\u001b[43m,\u001b[49m\n\u001b[32m    269\u001b[39m \u001b[43m        \u001b[49m\u001b[43mscale\u001b[49m\u001b[43m=\u001b[49m\u001b[43mscale\u001b[49m\u001b[43m,\u001b[49m\n\u001b[32m    270\u001b[39m \u001b[43m        \u001b[49m\u001b[43mwidth\u001b[49m\u001b[43m=\u001b[49m\u001b[43mwidth\u001b[49m\u001b[43m,\u001b[49m\n\u001b[32m    271\u001b[39m \u001b[43m        \u001b[49m\u001b[43mheight\u001b[49m\u001b[43m=\u001b[49m\u001b[43mheight\u001b[49m\u001b[43m,\u001b[49m\n\u001b[32m    272\u001b[39m \u001b[43m        \u001b[49m\u001b[43mvalidate\u001b[49m\u001b[43m=\u001b[49m\u001b[43mvalidate\u001b[49m\u001b[43m,\u001b[49m\n\u001b[32m    273\u001b[39m \u001b[43m        \u001b[49m\u001b[43mengine\u001b[49m\u001b[43m=\u001b[49m\u001b[43mengine\u001b[49m\u001b[43m,\u001b[49m\n\u001b[32m    274\u001b[39m \u001b[43m    \u001b[49m\u001b[43m)\u001b[49m\n\u001b[32m    276\u001b[39m     \u001b[38;5;66;03m# Open file\u001b[39;00m\n\u001b[32m    277\u001b[39m     \u001b[38;5;66;03m# ---------\u001b[39;00m\n\u001b[32m    278\u001b[39m     \u001b[38;5;28;01mif\u001b[39;00m path \u001b[38;5;129;01mis\u001b[39;00m \u001b[38;5;28;01mNone\u001b[39;00m:\n\u001b[32m    279\u001b[39m         \u001b[38;5;66;03m# We previously failed to make sense of `file` as a pathlib object.\u001b[39;00m\n\u001b[32m    280\u001b[39m         \u001b[38;5;66;03m# Attempt to write to `file` as an open file descriptor.\u001b[39;00m\n",
      "\u001b[36mFile \u001b[39m\u001b[32m~\\AppData\\Roaming\\Python\\Python311\\site-packages\\plotly\\io\\_kaleido.py:132\u001b[39m, in \u001b[36mto_image\u001b[39m\u001b[34m(fig, format, width, height, scale, validate, engine)\u001b[39m\n\u001b[32m    130\u001b[39m     \u001b[38;5;66;03m# Raise informative error message if Kaleido is not installed\u001b[39;00m\n\u001b[32m    131\u001b[39m     \u001b[38;5;28;01mif\u001b[39;00m scope \u001b[38;5;129;01mis\u001b[39;00m \u001b[38;5;28;01mNone\u001b[39;00m:\n\u001b[32m--> \u001b[39m\u001b[32m132\u001b[39m         \u001b[38;5;28;01mraise\u001b[39;00m \u001b[38;5;167;01mValueError\u001b[39;00m(\n\u001b[32m    133\u001b[39m \u001b[38;5;250m            \u001b[39m\u001b[33;03m\"\"\"\u001b[39;00m\n\u001b[32m    134\u001b[39m \u001b[33;03mImage export using the \"kaleido\" engine requires the kaleido package,\u001b[39;00m\n\u001b[32m    135\u001b[39m \u001b[33;03mwhich can be installed using pip:\u001b[39;00m\n\u001b[32m    136\u001b[39m \u001b[33;03m    $ pip install -U kaleido\u001b[39;00m\n\u001b[32m    137\u001b[39m \u001b[33;03m\"\"\"\u001b[39;00m\n\u001b[32m    138\u001b[39m         )\n\u001b[32m    140\u001b[39m     \u001b[38;5;66;03m# Validate figure\u001b[39;00m\n\u001b[32m    141\u001b[39m     \u001b[38;5;66;03m# ---------------\u001b[39;00m\n\u001b[32m    142\u001b[39m     fig_dict = validate_coerce_fig_to_dict(fig, validate)\n",
      "\u001b[31mValueError\u001b[39m: \nImage export using the \"kaleido\" engine requires the kaleido package,\nwhich can be installed using pip:\n    $ pip install -U kaleido\n"
     ]
    }
   ],
   "source": [
    "# 4. PERFORMANCE TREND - Refined Time-Series Layout\n",
    "def hex_to_rgba(hex_color: str, alpha: float = 0.25) -> str:\n",
    "    hex_color = hex_color.lstrip('#')\n",
    "    r, g, b = int(hex_color[0:2], 16), int(hex_color[2:4], 16), int(hex_color[4:6], 16)\n",
    "    return f'rgba({r}, {g}, {b}, {alpha})'\n",
    "\n",
    "# Aggregate performance by service day\n",
    "daily = wego.groupby('DATE').agg({\n",
    "    'ADJUSTED_ONTIME_COUNT': 'sum',\n",
    "    'ADJUSTED_EARLY_COUNT': 'sum',\n",
    "    'ADJUSTED_LATE_COUNT': 'sum'\n",
    "}).reset_index()\n",
    "\n",
    "daily['DATE'] = pd.to_datetime(daily['DATE'])\n",
    "daily = daily.sort_values('DATE')\n",
    "\n",
    "daily['Total'] = daily[['ADJUSTED_ONTIME_COUNT', 'ADJUSTED_EARLY_COUNT', 'ADJUSTED_LATE_COUNT']].sum(axis=1)\n",
    "daily['OnTime_Pct'] = daily['ADJUSTED_ONTIME_COUNT'] / daily['Total'] * 100\n",
    "\n",
    "daily['OnTime_7D'] = daily['OnTime_Pct'].rolling(window=7, min_periods=4).mean()\n",
    "daily['OnTime_14D'] = daily['OnTime_Pct'].rolling(window=14, min_periods=7).mean()\n",
    "\n",
    "dip_points = daily[daily['OnTime_Pct'] < 75]\n",
    "\n",
    "fig = make_subplots(\n",
    "    rows=2,\n",
    "    cols=1,\n",
    "    shared_xaxes=True,\n",
    "    vertical_spacing=0.08,\n",
    "    row_heights=[0.72, 0.28]\n",
    ")\n",
    "\n",
    "# Confidence band between 14-day average and 7-day average\n",
    "fig.add_trace(\n",
    "    go.Scatter(\n",
    "        x=pd.concat([daily['DATE'], daily['DATE'][::-1]]),\n",
    "        y=pd.concat([daily['OnTime_7D'].fillna(method='bfill'), daily['OnTime_14D'].fillna(method='bfill')[::-1]]),\n",
    "        fill='toself',\n",
    "        fillcolor=hex_to_rgba(WEGO_COLORS['purple'], 0.1),\n",
    "        line=dict(color='rgba(0,0,0,0)'),\n",
    "        hoverinfo='skip',\n",
    "        showlegend=False\n",
    "    ),\n",
    "    row=1,\n",
    "    col=1\n",
    ")\n",
    "\n",
    "# Daily on-time line\n",
    "fig.add_trace(\n",
    "    go.Scatter(\n",
    "        x=daily['DATE'],\n",
    "        y=daily['OnTime_Pct'],\n",
    "        mode='lines',\n",
    "        line=dict(color=WEGO_COLORS['navy'], width=3),\n",
    "        name='On-Time % (Daily)',\n",
    "        hovertemplate='Date: %{x|%b %d, %Y}<br>On-Time %: %{y:.1f}%<extra></extra>'\n",
    "    ),\n",
    "    row=1,\n",
    "    col=1\n",
    ")\n",
    "\n",
    "# Rolling averages for trend context\n",
    "fig.add_trace(\n",
    "    go.Scatter(\n",
    "        x=daily['DATE'],\n",
    "        y=daily['OnTime_7D'],\n",
    "        mode='lines',\n",
    "        line=dict(color=WEGO_COLORS['green'], width=2, dash='dash'),\n",
    "        name='On-Time % (7-Day Avg)',\n",
    "        hovertemplate='Date: %{x|%b %d, %Y}<br>7-Day Avg: %{y:.1f}%<extra></extra>'\n",
    "    ),\n",
    "    row=1,\n",
    "    col=1\n",
    ")\n",
    "fig.add_trace(\n",
    "    go.Scatter(\n",
    "        x=daily['DATE'],\n",
    "        y=daily['OnTime_14D'],\n",
    "        mode='lines',\n",
    "        line=dict(color=WEGO_COLORS['slate'], width=2, dash='dot'),\n",
    "        name='On-Time % (14-Day Avg)',\n",
    "        hovertemplate='Date: %{x|%b %d, %Y}<br>14-Day Avg: %{y:.1f}%<extra></extra>'\n",
    "    ),\n",
    "    row=1,\n",
    "    col=1\n",
    ")\n",
    "\n",
    "# Highlight low-performance dips\n",
    "if not dip_points.empty:\n",
    "    fig.add_trace(\n",
    "        go.Scatter(\n",
    "            x=dip_points['DATE'],\n",
    "            y=dip_points['OnTime_Pct'],\n",
    "            mode='markers',\n",
    "            marker=dict(size=6, color=WEGO_COLORS['orange'], line=dict(color='white', width=1)),\n",
    "            name='Below 75%',\n",
    "            hovertemplate='Date: %{x|%b %d, %Y}<br>On-Time %: %{y:.1f}%<extra></extra>'\n",
    "        ),\n",
    "        row=1,\n",
    "        col=1\n",
    "    )\n",
    "\n",
    "# Trip volume subplot\n",
    "fig.add_trace(\n",
    "    go.Bar(\n",
    "        x=daily['DATE'],\n",
    "        y=daily['Total'],\n",
    "        name='Trip Volume',\n",
    "        marker=dict(color=hex_to_rgba(WEGO_COLORS['purple'], 0.6), line=dict(color=WEGO_COLORS['purple'], width=0.4)),\n",
    "        hovertemplate='Date: %{x|%b %d, %Y}<br>Total Trips: %{y:,}<extra></extra>'\n",
    "    ),\n",
    "    row=2,\n",
    "    col=1\n",
    ")\n",
    "\n",
    "fig.add_hline(y=80, line=dict(color=WEGO_COLORS['orange'], width=1.5, dash='dot'), row=1, col=1)\n",
    "fig.add_hrect(y0=80, y1=100, fillcolor=hex_to_rgba(WEGO_COLORS['green'], 0.08), line_width=0, row=1, col=1)\n",
    "\n",
    "fig.update_yaxes(\n",
    "    title_text='On-Time Performance (%)',\n",
    "    range=[60, 100],\n",
    "    tickfont=dict(color=WEGO_COLORS['slate']),\n",
    "    gridcolor=hex_to_rgba(WEGO_COLORS['slate'], 0.25),\n",
    "    row=1,\n",
    "    col=1\n",
    ")\n",
    "fig.update_yaxes(\n",
    "    title_text='Total Trips',\n",
    "    tickfont=dict(color=WEGO_COLORS['slate']),\n",
    "    gridcolor=hex_to_rgba(WEGO_COLORS['slate'], 0.1),\n",
    "    row=2,\n",
    "    col=1\n",
    ")\n",
    "\n",
    "fig.update_xaxes(\n",
    "    tickfont=dict(color=WEGO_COLORS['slate']),\n",
    "    gridcolor=hex_to_rgba(WEGO_COLORS['slate'], 0.1),\n",
    "    row=2,\n",
    "    col=1,\n",
    "    rangeslider=dict(visible=True, bgcolor=hex_to_rgba(WEGO_COLORS['navy'], 0.05)),\n",
    "    rangeselector=dict(\n",
    "        y=1.2,\n",
    "        x=0,\n",
    "        buttons=[\n",
    "            dict(count=14, label='2W', step='day', stepmode='backward'),\n",
    "            dict(count=1, label='1M', step='month', stepmode='backward'),\n",
    "            dict(count=2, label='2M', step='month', stepmode='backward'),\n",
    "            dict(step='all')\n",
    "        ]\n",
    "    )\n",
    ")\n",
    "\n",
    "fig.update_layout(\n",
    "    title='Slide 5: Performance Trend Over Time',\n",
    "    legend=dict(\n",
    "        orientation='v',\n",
    "        x=1.02,\n",
    "        y=1,\n",
    "        yanchor='top',\n",
    "        xanchor='left',\n",
    "        bgcolor=hex_to_rgba(WEGO_COLORS['navy'], 0.05),\n",
    "        borderwidth=0,\n",
    "        font=dict(color=WEGO_COLORS['slate'])\n",
    "    ),\n",
    "    hovermode='x unified',\n",
    "    margin=dict(t=70, l=40, r=150, b=90),\n",
    "    paper_bgcolor='white',\n",
    "    plot_bgcolor='white',\n",
    "    font=dict(color=WEGO_COLORS['slate'])\n",
    ")\n",
    "\n",
    "fig.show()\n",
    "if SAVE_PDF:\n",
    "    save_plotly_figure(fig, 'performance_trend_over_time')"
   ]
  },
  {
   "cell_type": "code",
   "execution_count": null,
   "id": "7b36b7a6",
   "metadata": {},
   "outputs": [
    {
     "data": {
      "application/vnd.plotly.v1+json": {
       "config": {
        "plotlyServerURL": "https://plot.ly"
       },
       "data": [
        {
         "hovertemplate": "<b>%{hovertext}</b><br><br>OnTime_Pct=%{marker.color}<br>HDWY_DEV=%{y}<br>Total=%{marker.size}<extra></extra>",
         "hovertext": [
          3,
          7,
          22,
          23,
          50,
          52,
          55,
          56
         ],
         "legendgroup": "",
         "marker": {
          "color": [
           75.87935279634189,
           77.7031331441478,
           89.29649039225028,
           88.61120217890198,
           85.1744117854043,
           76.50171305775741,
           69.71619808147915,
           82.0373197625106
          ],
          "coloraxis": "coloraxis",
          "size": [
           45488,
           17267,
           25188,
           39653,
           42629,
           49327,
           60359,
           58950
          ],
          "sizemode": "area",
          "sizeref": 150.8975,
          "symbol": "circle"
         },
         "mode": "markers",
         "name": "",
         "orientation": "v",
         "showlegend": false,
         "type": "scatter",
         "x": [
          75.87935279634189,
          77.7031331441478,
          89.29649039225028,
          88.61120217890198,
          85.1744117854043,
          76.50171305775741,
          69.71619808147915,
          82.0373197625106
         ],
         "xaxis": "x",
         "y": [
          0.5809070098953066,
          0.3368079789255485,
          0.955866860175222,
          1.0535626523632278,
          0.21237645011996648,
          0.9747759091182591,
          0.2610380640678103,
          0.14921314329161064
         ],
         "yaxis": "y"
        }
       ],
       "layout": {
        "coloraxis": {
         "colorbar": {
          "tickcolor": "#6C757D",
          "title": {
           "font": {
            "color": "#6C757D"
           },
           "text": "On-Time %"
          }
         },
         "colorscale": [
          [
           0,
           "#5E4AE3"
          ],
          [
           0.5,
           "#E76F51"
          ],
          [
           1,
           "#39FF14"
          ]
         ]
        },
        "legend": {
         "itemsizing": "constant",
         "tracegroupgap": 0
        },
        "template": {
         "data": {
          "bar": [
           {
            "error_x": {
             "color": "#2a3f5f"
            },
            "error_y": {
             "color": "#2a3f5f"
            },
            "marker": {
             "line": {
              "color": "#E5ECF6",
              "width": 0.5
             },
             "pattern": {
              "fillmode": "overlay",
              "size": 10,
              "solidity": 0.2
             }
            },
            "type": "bar"
           }
          ],
          "barpolar": [
           {
            "marker": {
             "line": {
              "color": "#E5ECF6",
              "width": 0.5
             },
             "pattern": {
              "fillmode": "overlay",
              "size": 10,
              "solidity": 0.2
             }
            },
            "type": "barpolar"
           }
          ],
          "carpet": [
           {
            "aaxis": {
             "endlinecolor": "#2a3f5f",
             "gridcolor": "white",
             "linecolor": "white",
             "minorgridcolor": "white",
             "startlinecolor": "#2a3f5f"
            },
            "baxis": {
             "endlinecolor": "#2a3f5f",
             "gridcolor": "white",
             "linecolor": "white",
             "minorgridcolor": "white",
             "startlinecolor": "#2a3f5f"
            },
            "type": "carpet"
           }
          ],
          "choropleth": [
           {
            "colorbar": {
             "outlinewidth": 0,
             "ticks": ""
            },
            "type": "choropleth"
           }
          ],
          "contour": [
           {
            "colorbar": {
             "outlinewidth": 0,
             "ticks": ""
            },
            "colorscale": [
             [
              0,
              "#0d0887"
             ],
             [
              0.1111111111111111,
              "#46039f"
             ],
             [
              0.2222222222222222,
              "#7201a8"
             ],
             [
              0.3333333333333333,
              "#9c179e"
             ],
             [
              0.4444444444444444,
              "#bd3786"
             ],
             [
              0.5555555555555556,
              "#d8576b"
             ],
             [
              0.6666666666666666,
              "#ed7953"
             ],
             [
              0.7777777777777778,
              "#fb9f3a"
             ],
             [
              0.8888888888888888,
              "#fdca26"
             ],
             [
              1,
              "#f0f921"
             ]
            ],
            "type": "contour"
           }
          ],
          "contourcarpet": [
           {
            "colorbar": {
             "outlinewidth": 0,
             "ticks": ""
            },
            "type": "contourcarpet"
           }
          ],
          "heatmap": [
           {
            "colorbar": {
             "outlinewidth": 0,
             "ticks": ""
            },
            "colorscale": [
             [
              0,
              "#0d0887"
             ],
             [
              0.1111111111111111,
              "#46039f"
             ],
             [
              0.2222222222222222,
              "#7201a8"
             ],
             [
              0.3333333333333333,
              "#9c179e"
             ],
             [
              0.4444444444444444,
              "#bd3786"
             ],
             [
              0.5555555555555556,
              "#d8576b"
             ],
             [
              0.6666666666666666,
              "#ed7953"
             ],
             [
              0.7777777777777778,
              "#fb9f3a"
             ],
             [
              0.8888888888888888,
              "#fdca26"
             ],
             [
              1,
              "#f0f921"
             ]
            ],
            "type": "heatmap"
           }
          ],
          "heatmapgl": [
           {
            "colorbar": {
             "outlinewidth": 0,
             "ticks": ""
            },
            "colorscale": [
             [
              0,
              "#0d0887"
             ],
             [
              0.1111111111111111,
              "#46039f"
             ],
             [
              0.2222222222222222,
              "#7201a8"
             ],
             [
              0.3333333333333333,
              "#9c179e"
             ],
             [
              0.4444444444444444,
              "#bd3786"
             ],
             [
              0.5555555555555556,
              "#d8576b"
             ],
             [
              0.6666666666666666,
              "#ed7953"
             ],
             [
              0.7777777777777778,
              "#fb9f3a"
             ],
             [
              0.8888888888888888,
              "#fdca26"
             ],
             [
              1,
              "#f0f921"
             ]
            ],
            "type": "heatmapgl"
           }
          ],
          "histogram": [
           {
            "marker": {
             "pattern": {
              "fillmode": "overlay",
              "size": 10,
              "solidity": 0.2
             }
            },
            "type": "histogram"
           }
          ],
          "histogram2d": [
           {
            "colorbar": {
             "outlinewidth": 0,
             "ticks": ""
            },
            "colorscale": [
             [
              0,
              "#0d0887"
             ],
             [
              0.1111111111111111,
              "#46039f"
             ],
             [
              0.2222222222222222,
              "#7201a8"
             ],
             [
              0.3333333333333333,
              "#9c179e"
             ],
             [
              0.4444444444444444,
              "#bd3786"
             ],
             [
              0.5555555555555556,
              "#d8576b"
             ],
             [
              0.6666666666666666,
              "#ed7953"
             ],
             [
              0.7777777777777778,
              "#fb9f3a"
             ],
             [
              0.8888888888888888,
              "#fdca26"
             ],
             [
              1,
              "#f0f921"
             ]
            ],
            "type": "histogram2d"
           }
          ],
          "histogram2dcontour": [
           {
            "colorbar": {
             "outlinewidth": 0,
             "ticks": ""
            },
            "colorscale": [
             [
              0,
              "#0d0887"
             ],
             [
              0.1111111111111111,
              "#46039f"
             ],
             [
              0.2222222222222222,
              "#7201a8"
             ],
             [
              0.3333333333333333,
              "#9c179e"
             ],
             [
              0.4444444444444444,
              "#bd3786"
             ],
             [
              0.5555555555555556,
              "#d8576b"
             ],
             [
              0.6666666666666666,
              "#ed7953"
             ],
             [
              0.7777777777777778,
              "#fb9f3a"
             ],
             [
              0.8888888888888888,
              "#fdca26"
             ],
             [
              1,
              "#f0f921"
             ]
            ],
            "type": "histogram2dcontour"
           }
          ],
          "mesh3d": [
           {
            "colorbar": {
             "outlinewidth": 0,
             "ticks": ""
            },
            "type": "mesh3d"
           }
          ],
          "parcoords": [
           {
            "line": {
             "colorbar": {
              "outlinewidth": 0,
              "ticks": ""
             }
            },
            "type": "parcoords"
           }
          ],
          "pie": [
           {
            "automargin": true,
            "type": "pie"
           }
          ],
          "scatter": [
           {
            "fillpattern": {
             "fillmode": "overlay",
             "size": 10,
             "solidity": 0.2
            },
            "type": "scatter"
           }
          ],
          "scatter3d": [
           {
            "line": {
             "colorbar": {
              "outlinewidth": 0,
              "ticks": ""
             }
            },
            "marker": {
             "colorbar": {
              "outlinewidth": 0,
              "ticks": ""
             }
            },
            "type": "scatter3d"
           }
          ],
          "scattercarpet": [
           {
            "marker": {
             "colorbar": {
              "outlinewidth": 0,
              "ticks": ""
             }
            },
            "type": "scattercarpet"
           }
          ],
          "scattergeo": [
           {
            "marker": {
             "colorbar": {
              "outlinewidth": 0,
              "ticks": ""
             }
            },
            "type": "scattergeo"
           }
          ],
          "scattergl": [
           {
            "marker": {
             "colorbar": {
              "outlinewidth": 0,
              "ticks": ""
             }
            },
            "type": "scattergl"
           }
          ],
          "scattermapbox": [
           {
            "marker": {
             "colorbar": {
              "outlinewidth": 0,
              "ticks": ""
             }
            },
            "type": "scattermapbox"
           }
          ],
          "scatterpolar": [
           {
            "marker": {
             "colorbar": {
              "outlinewidth": 0,
              "ticks": ""
             }
            },
            "type": "scatterpolar"
           }
          ],
          "scatterpolargl": [
           {
            "marker": {
             "colorbar": {
              "outlinewidth": 0,
              "ticks": ""
             }
            },
            "type": "scatterpolargl"
           }
          ],
          "scatterternary": [
           {
            "marker": {
             "colorbar": {
              "outlinewidth": 0,
              "ticks": ""
             }
            },
            "type": "scatterternary"
           }
          ],
          "surface": [
           {
            "colorbar": {
             "outlinewidth": 0,
             "ticks": ""
            },
            "colorscale": [
             [
              0,
              "#0d0887"
             ],
             [
              0.1111111111111111,
              "#46039f"
             ],
             [
              0.2222222222222222,
              "#7201a8"
             ],
             [
              0.3333333333333333,
              "#9c179e"
             ],
             [
              0.4444444444444444,
              "#bd3786"
             ],
             [
              0.5555555555555556,
              "#d8576b"
             ],
             [
              0.6666666666666666,
              "#ed7953"
             ],
             [
              0.7777777777777778,
              "#fb9f3a"
             ],
             [
              0.8888888888888888,
              "#fdca26"
             ],
             [
              1,
              "#f0f921"
             ]
            ],
            "type": "surface"
           }
          ],
          "table": [
           {
            "cells": {
             "fill": {
              "color": "#EBF0F8"
             },
             "line": {
              "color": "white"
             }
            },
            "header": {
             "fill": {
              "color": "#C8D4E3"
             },
             "line": {
              "color": "white"
             }
            },
            "type": "table"
           }
          ]
         },
         "layout": {
          "annotationdefaults": {
           "arrowcolor": "#2a3f5f",
           "arrowhead": 0,
           "arrowwidth": 1
          },
          "autotypenumbers": "strict",
          "coloraxis": {
           "colorbar": {
            "outlinewidth": 0,
            "ticks": ""
           }
          },
          "colorscale": {
           "diverging": [
            [
             0,
             "#8e0152"
            ],
            [
             0.1,
             "#c51b7d"
            ],
            [
             0.2,
             "#de77ae"
            ],
            [
             0.3,
             "#f1b6da"
            ],
            [
             0.4,
             "#fde0ef"
            ],
            [
             0.5,
             "#f7f7f7"
            ],
            [
             0.6,
             "#e6f5d0"
            ],
            [
             0.7,
             "#b8e186"
            ],
            [
             0.8,
             "#7fbc41"
            ],
            [
             0.9,
             "#4d9221"
            ],
            [
             1,
             "#276419"
            ]
           ],
           "sequential": [
            [
             0,
             "#0d0887"
            ],
            [
             0.1111111111111111,
             "#46039f"
            ],
            [
             0.2222222222222222,
             "#7201a8"
            ],
            [
             0.3333333333333333,
             "#9c179e"
            ],
            [
             0.4444444444444444,
             "#bd3786"
            ],
            [
             0.5555555555555556,
             "#d8576b"
            ],
            [
             0.6666666666666666,
             "#ed7953"
            ],
            [
             0.7777777777777778,
             "#fb9f3a"
            ],
            [
             0.8888888888888888,
             "#fdca26"
            ],
            [
             1,
             "#f0f921"
            ]
           ],
           "sequentialminus": [
            [
             0,
             "#0d0887"
            ],
            [
             0.1111111111111111,
             "#46039f"
            ],
            [
             0.2222222222222222,
             "#7201a8"
            ],
            [
             0.3333333333333333,
             "#9c179e"
            ],
            [
             0.4444444444444444,
             "#bd3786"
            ],
            [
             0.5555555555555556,
             "#d8576b"
            ],
            [
             0.6666666666666666,
             "#ed7953"
            ],
            [
             0.7777777777777778,
             "#fb9f3a"
            ],
            [
             0.8888888888888888,
             "#fdca26"
            ],
            [
             1,
             "#f0f921"
            ]
           ]
          },
          "colorway": [
           "#636efa",
           "#EF553B",
           "#00cc96",
           "#ab63fa",
           "#FFA15A",
           "#19d3f3",
           "#FF6692",
           "#B6E880",
           "#FF97FF",
           "#FECB52"
          ],
          "font": {
           "color": "#2a3f5f"
          },
          "geo": {
           "bgcolor": "white",
           "lakecolor": "white",
           "landcolor": "#E5ECF6",
           "showlakes": true,
           "showland": true,
           "subunitcolor": "white"
          },
          "hoverlabel": {
           "align": "left"
          },
          "hovermode": "closest",
          "mapbox": {
           "style": "light"
          },
          "paper_bgcolor": "white",
          "plot_bgcolor": "#E5ECF6",
          "polar": {
           "angularaxis": {
            "gridcolor": "white",
            "linecolor": "white",
            "ticks": ""
           },
           "bgcolor": "#E5ECF6",
           "radialaxis": {
            "gridcolor": "white",
            "linecolor": "white",
            "ticks": ""
           }
          },
          "scene": {
           "xaxis": {
            "backgroundcolor": "#E5ECF6",
            "gridcolor": "white",
            "gridwidth": 2,
            "linecolor": "white",
            "showbackground": true,
            "ticks": "",
            "zerolinecolor": "white"
           },
           "yaxis": {
            "backgroundcolor": "#E5ECF6",
            "gridcolor": "white",
            "gridwidth": 2,
            "linecolor": "white",
            "showbackground": true,
            "ticks": "",
            "zerolinecolor": "white"
           },
           "zaxis": {
            "backgroundcolor": "#E5ECF6",
            "gridcolor": "white",
            "gridwidth": 2,
            "linecolor": "white",
            "showbackground": true,
            "ticks": "",
            "zerolinecolor": "white"
           }
          },
          "shapedefaults": {
           "line": {
            "color": "#2a3f5f"
           }
          },
          "ternary": {
           "aaxis": {
            "gridcolor": "white",
            "linecolor": "white",
            "ticks": ""
           },
           "baxis": {
            "gridcolor": "white",
            "linecolor": "white",
            "ticks": ""
           },
           "bgcolor": "#E5ECF6",
           "caxis": {
            "gridcolor": "white",
            "linecolor": "white",
            "ticks": ""
           }
          },
          "title": {
           "x": 0.05
          },
          "xaxis": {
           "automargin": true,
           "gridcolor": "white",
           "linecolor": "white",
           "ticks": "",
           "title": {
            "standoff": 15
           },
           "zerolinecolor": "white",
           "zerolinewidth": 2
          },
          "yaxis": {
           "automargin": true,
           "gridcolor": "white",
           "linecolor": "white",
           "ticks": "",
           "title": {
            "standoff": 15
           },
           "zerolinecolor": "white",
           "zerolinewidth": 2
          }
         }
        },
        "title": {
         "text": "Slide 7: Route Performance Bubble Chart"
        },
        "xaxis": {
         "anchor": "y",
         "domain": [
          0,
          1
         ],
         "title": {
          "text": "On-Time %"
         }
        },
        "yaxis": {
         "anchor": "x",
         "domain": [
          0,
          1
         ],
         "title": {
          "text": "Mean Headway Deviation (min)"
         }
        }
       }
      }
     },
     "metadata": {},
     "output_type": "display_data"
    }
   ],
   "source": [
    "# 6. BUBBLE CHART - Route Performance\n",
    "route = wego.groupby('ROUTE_ABBR').agg({\n",
    "    'ADJUSTED_ONTIME_COUNT':'sum',\n",
    "    'ADJUSTED_EARLY_COUNT':'sum',\n",
    "    'ADJUSTED_LATE_COUNT':'sum',\n",
    "    'HDWY_DEV':'mean'\n",
    "}).reset_index()\n",
    "route['Total'] = route[['ADJUSTED_ONTIME_COUNT','ADJUSTED_EARLY_COUNT','ADJUSTED_LATE_COUNT']].sum(axis=1)\n",
    "route['OnTime_Pct'] = (route['ADJUSTED_ONTIME_COUNT']/route['Total'])*100\n",
    "\n",
    "fig = px.scatter(\n",
    "    route,\n",
    "    x='OnTime_Pct',\n",
    "    y='HDWY_DEV',\n",
    "    size='Total',\n",
    "    color='OnTime_Pct',\n",
    "    hover_name='ROUTE_ABBR',\n",
    "    color_continuous_scale=PLOTLY_CONTINUOUS,\n",
    "    title='Slide 7: Route Performance Bubble Chart'\n",
    ")\n",
    "fig.update_layout(\n",
    "    xaxis_title='On-Time %',\n",
    "    yaxis_title='Mean Headway Deviation (min)',\n",
    "    coloraxis_colorbar=dict(title='On-Time %', tickcolor=WEGO_COLORS['slate'], titlefont=dict(color=WEGO_COLORS['slate']))\n",
    ")\n",
    "fig.show()"
   ]
  },
  {
   "cell_type": "code",
   "execution_count": null,
   "id": "a6d344da",
   "metadata": {},
   "outputs": [
    {
     "data": {
      "application/vnd.plotly.v1+json": {
       "config": {
        "plotlyServerURL": "https://plot.ly"
       },
       "data": [
        {
         "branchvalues": "total",
         "customdata": [
          [
           "On-Time"
          ],
          [
           "Late"
          ],
          [
           "Early"
          ],
          [
           "On-Time"
          ],
          [
           "Late"
          ],
          [
           "Early"
          ],
          [
           "On-Time"
          ],
          [
           "Late"
          ],
          [
           "Late"
          ],
          [
           "On-Time"
          ],
          [
           "Early"
          ],
          [
           "On-Time"
          ],
          [
           "Late"
          ],
          [
           "Early"
          ],
          [
           "Early"
          ],
          [
           "Late"
          ],
          [
           "Late"
          ],
          [
           "Late"
          ],
          [
           "On-Time"
          ],
          [
           "On-Time"
          ],
          [
           "On-Time"
          ],
          [
           "On-Time"
          ],
          [
           "Late"
          ],
          [
           "On-Time"
          ],
          [
           "On-Time"
          ],
          [
           "Late"
          ],
          [
           "Early"
          ],
          [
           "Late"
          ],
          [
           "Early"
          ],
          [
           "Early"
          ],
          [
           "Early"
          ],
          [
           "Early"
          ],
          [
           "Late"
          ],
          [
           "On-Time"
          ],
          [
           "Early"
          ],
          [
           "On-Time"
          ],
          [
           "Early"
          ],
          [
           "On-Time"
          ],
          [
           "On-Time"
          ],
          [
           "Late"
          ],
          [
           "Early"
          ],
          [
           "On-Time"
          ],
          [
           "Early"
          ],
          [
           "Late"
          ],
          [
           "Late"
          ],
          [
           "Late"
          ],
          [
           "Early"
          ],
          [
           "Early"
          ],
          [
           "(?)"
          ],
          [
           "(?)"
          ],
          [
           "(?)"
          ],
          [
           "(?)"
          ],
          [
           "(?)"
          ],
          [
           "(?)"
          ],
          [
           "(?)"
          ],
          [
           "(?)"
          ],
          [
           "(?)"
          ],
          [
           "(?)"
          ],
          [
           "(?)"
          ],
          [
           "(?)"
          ],
          [
           "(?)"
          ],
          [
           "(?)"
          ],
          [
           "(?)"
          ],
          [
           "(?)"
          ],
          [
           "(?)"
          ],
          [
           "(?)"
          ],
          [
           "(?)"
          ],
          [
           "(?)"
          ],
          [
           "(?)"
          ],
          [
           "(?)"
          ],
          [
           "(?)"
          ],
          [
           "(?)"
          ]
         ],
         "domain": {
          "x": [
           0,
           1
          ],
          "y": [
           0,
           1
          ]
         },
         "hovertemplate": "labels=%{label}<br>count=%{value}<br>parent=%{parent}<br>id=%{id}<br>outcome=%{customdata[0]}<extra></extra>",
         "ids": [
          "56/TO DOWNTOWN/On-Time",
          "52/TO DOWNTOWN/Late",
          "55/TO DOWNTOWN/Early",
          "3/FROM DOWNTOWN/On-Time",
          "56/FROM DOWNTOWN/Late",
          "3/TO DOWNTOWN/Early",
          "55/FROM DOWNTOWN/On-Time",
          "7/TO DOWNTOWN/Late",
          "50/FROM DOWNTOWN/Late",
          "22/TO DOWNTOWN/On-Time",
          "52/FROM DOWNTOWN/Early",
          "50/TO DOWNTOWN/On-Time",
          "23/TO DOWNTOWN/Late",
          "23/FROM DOWNTOWN/Early",
          "7/FROM DOWNTOWN/Early",
          "22/FROM DOWNTOWN/Late",
          "3/TO DOWNTOWN/Late",
          "7/FROM DOWNTOWN/Late",
          "22/FROM DOWNTOWN/On-Time",
          "56/FROM DOWNTOWN/On-Time",
          "23/TO DOWNTOWN/On-Time",
          "52/TO DOWNTOWN/On-Time",
          "55/TO DOWNTOWN/Late",
          "50/FROM DOWNTOWN/On-Time",
          "7/TO DOWNTOWN/On-Time",
          "52/FROM DOWNTOWN/Late",
          "3/FROM DOWNTOWN/Early",
          "23/FROM DOWNTOWN/Late",
          "56/TO DOWNTOWN/Early",
          "55/FROM DOWNTOWN/Early",
          "50/TO DOWNTOWN/Early",
          "22/TO DOWNTOWN/Early",
          "55/FROM DOWNTOWN/Late",
          "55/TO DOWNTOWN/On-Time",
          "50/FROM DOWNTOWN/Early",
          "3/TO DOWNTOWN/On-Time",
          "56/FROM DOWNTOWN/Early",
          "7/FROM DOWNTOWN/On-Time",
          "52/FROM DOWNTOWN/On-Time",
          "22/TO DOWNTOWN/Late",
          "52/TO DOWNTOWN/Early",
          "23/FROM DOWNTOWN/On-Time",
          "7/TO DOWNTOWN/Early",
          "56/TO DOWNTOWN/Late",
          "3/FROM DOWNTOWN/Late",
          "50/TO DOWNTOWN/Late",
          "23/TO DOWNTOWN/Early",
          "22/FROM DOWNTOWN/Early",
          "22/FROM DOWNTOWN",
          "23/FROM DOWNTOWN",
          "3/FROM DOWNTOWN",
          "50/FROM DOWNTOWN",
          "52/FROM DOWNTOWN",
          "55/FROM DOWNTOWN",
          "56/FROM DOWNTOWN",
          "7/FROM DOWNTOWN",
          "22/TO DOWNTOWN",
          "23/TO DOWNTOWN",
          "3/TO DOWNTOWN",
          "50/TO DOWNTOWN",
          "52/TO DOWNTOWN",
          "55/TO DOWNTOWN",
          "56/TO DOWNTOWN",
          "7/TO DOWNTOWN",
          "22",
          "23",
          "3",
          "50",
          "52",
          "55",
          "56",
          "7"
         ],
         "labels": [
          "On-Time",
          "Late",
          "Early",
          "On-Time",
          "Late",
          "Early",
          "On-Time",
          "Late",
          "Late",
          "On-Time",
          "Early",
          "On-Time",
          "Late",
          "Early",
          "Early",
          "Late",
          "Late",
          "Late",
          "On-Time",
          "On-Time",
          "On-Time",
          "On-Time",
          "Late",
          "On-Time",
          "On-Time",
          "Late",
          "Early",
          "Late",
          "Early",
          "Early",
          "Early",
          "Early",
          "Late",
          "On-Time",
          "Early",
          "On-Time",
          "Early",
          "On-Time",
          "On-Time",
          "Late",
          "Early",
          "On-Time",
          "Early",
          "Late",
          "Late",
          "Late",
          "Early",
          "Early",
          "FROM DOWNTOWN",
          "FROM DOWNTOWN",
          "FROM DOWNTOWN",
          "FROM DOWNTOWN",
          "FROM DOWNTOWN",
          "FROM DOWNTOWN",
          "FROM DOWNTOWN",
          "FROM DOWNTOWN",
          "TO DOWNTOWN",
          "TO DOWNTOWN",
          "TO DOWNTOWN",
          "TO DOWNTOWN",
          "TO DOWNTOWN",
          "TO DOWNTOWN",
          "TO DOWNTOWN",
          "TO DOWNTOWN",
          "22",
          "23",
          "3",
          "50",
          "52",
          "55",
          "56",
          "7"
         ],
         "marker": {
          "colors": [
           "#2ECC71",
           "#E74C3C",
           "#3498DB",
           "#2ECC71",
           "#E74C3C",
           "#3498DB",
           "#2ECC71",
           "#E74C3C",
           "#E74C3C",
           "#2ECC71",
           "#3498DB",
           "#2ECC71",
           "#E74C3C",
           "#3498DB",
           "#3498DB",
           "#E74C3C",
           "#E74C3C",
           "#E74C3C",
           "#2ECC71",
           "#2ECC71",
           "#2ECC71",
           "#2ECC71",
           "#E74C3C",
           "#2ECC71",
           "#2ECC71",
           "#E74C3C",
           "#3498DB",
           "#E74C3C",
           "#3498DB",
           "#3498DB",
           "#3498DB",
           "#3498DB",
           "#E74C3C",
           "#2ECC71",
           "#3498DB",
           "#2ECC71",
           "#3498DB",
           "#2ECC71",
           "#2ECC71",
           "#E74C3C",
           "#3498DB",
           "#2ECC71",
           "#3498DB",
           "#E74C3C",
           "#E74C3C",
           "#E74C3C",
           "#3498DB",
           "#3498DB",
           "#ab63fa",
           "#ab63fa",
           "#ab63fa",
           "#ab63fa",
           "#ab63fa",
           "#ab63fa",
           "#ab63fa",
           "#ab63fa",
           "#ab63fa",
           "#ab63fa",
           "#ab63fa",
           "#ab63fa",
           "#ab63fa",
           "#ab63fa",
           "#ab63fa",
           "#ab63fa",
           "#ab63fa",
           "#ab63fa",
           "#ab63fa",
           "#ab63fa",
           "#ab63fa",
           "#ab63fa",
           "#ab63fa",
           "#ab63fa"
          ]
         },
         "name": "",
         "parents": [
          "56/TO DOWNTOWN",
          "52/TO DOWNTOWN",
          "55/TO DOWNTOWN",
          "3/FROM DOWNTOWN",
          "56/FROM DOWNTOWN",
          "3/TO DOWNTOWN",
          "55/FROM DOWNTOWN",
          "7/TO DOWNTOWN",
          "50/FROM DOWNTOWN",
          "22/TO DOWNTOWN",
          "52/FROM DOWNTOWN",
          "50/TO DOWNTOWN",
          "23/TO DOWNTOWN",
          "23/FROM DOWNTOWN",
          "7/FROM DOWNTOWN",
          "22/FROM DOWNTOWN",
          "3/TO DOWNTOWN",
          "7/FROM DOWNTOWN",
          "22/FROM DOWNTOWN",
          "56/FROM DOWNTOWN",
          "23/TO DOWNTOWN",
          "52/TO DOWNTOWN",
          "55/TO DOWNTOWN",
          "50/FROM DOWNTOWN",
          "7/TO DOWNTOWN",
          "52/FROM DOWNTOWN",
          "3/FROM DOWNTOWN",
          "23/FROM DOWNTOWN",
          "56/TO DOWNTOWN",
          "55/FROM DOWNTOWN",
          "50/TO DOWNTOWN",
          "22/TO DOWNTOWN",
          "55/FROM DOWNTOWN",
          "55/TO DOWNTOWN",
          "50/FROM DOWNTOWN",
          "3/TO DOWNTOWN",
          "56/FROM DOWNTOWN",
          "7/FROM DOWNTOWN",
          "52/FROM DOWNTOWN",
          "22/TO DOWNTOWN",
          "52/TO DOWNTOWN",
          "23/FROM DOWNTOWN",
          "7/TO DOWNTOWN",
          "56/TO DOWNTOWN",
          "3/FROM DOWNTOWN",
          "50/TO DOWNTOWN",
          "23/TO DOWNTOWN",
          "22/FROM DOWNTOWN",
          "22",
          "23",
          "3",
          "50",
          "52",
          "55",
          "56",
          "7",
          "22",
          "23",
          "3",
          "50",
          "52",
          "55",
          "56",
          "7",
          "",
          "",
          "",
          "",
          "",
          "",
          "",
          ""
         ],
         "type": "sunburst",
         "values": [
          22010,
          2946,
          728,
          15447,
          6963,
          743,
          19233,
          1231,
          2803,
          11484,
          882,
          18521,
          734,
          629,
          298,
          1538,
          2910,
          2186,
          11008,
          26351,
          14491,
          20337,
          6905,
          17788,
          6875,
          7092,
          639,
          2496,
          746,
          803,
          546,
          258,
          9843,
          22847,
          661,
          19069,
          1006,
          6542,
          17399,
          527,
          671,
          20646,
          135,
          1874,
          6680,
          2310,
          657,
          373,
          12919,
          23771,
          22766,
          21252,
          25373,
          29879,
          34320,
          9026,
          12269,
          15882,
          22722,
          21377,
          23954,
          30480,
          24630,
          8241,
          25188,
          39653,
          45488,
          42629,
          49327,
          60359,
          58950,
          17267
         ]
        }
       ],
       "layout": {
        "height": 700,
        "legend": {
         "tracegroupgap": 0
        },
        "template": {
         "data": {
          "bar": [
           {
            "error_x": {
             "color": "#2a3f5f"
            },
            "error_y": {
             "color": "#2a3f5f"
            },
            "marker": {
             "line": {
              "color": "#E5ECF6",
              "width": 0.5
             },
             "pattern": {
              "fillmode": "overlay",
              "size": 10,
              "solidity": 0.2
             }
            },
            "type": "bar"
           }
          ],
          "barpolar": [
           {
            "marker": {
             "line": {
              "color": "#E5ECF6",
              "width": 0.5
             },
             "pattern": {
              "fillmode": "overlay",
              "size": 10,
              "solidity": 0.2
             }
            },
            "type": "barpolar"
           }
          ],
          "carpet": [
           {
            "aaxis": {
             "endlinecolor": "#2a3f5f",
             "gridcolor": "white",
             "linecolor": "white",
             "minorgridcolor": "white",
             "startlinecolor": "#2a3f5f"
            },
            "baxis": {
             "endlinecolor": "#2a3f5f",
             "gridcolor": "white",
             "linecolor": "white",
             "minorgridcolor": "white",
             "startlinecolor": "#2a3f5f"
            },
            "type": "carpet"
           }
          ],
          "choropleth": [
           {
            "colorbar": {
             "outlinewidth": 0,
             "ticks": ""
            },
            "type": "choropleth"
           }
          ],
          "contour": [
           {
            "colorbar": {
             "outlinewidth": 0,
             "ticks": ""
            },
            "colorscale": [
             [
              0,
              "#0d0887"
             ],
             [
              0.1111111111111111,
              "#46039f"
             ],
             [
              0.2222222222222222,
              "#7201a8"
             ],
             [
              0.3333333333333333,
              "#9c179e"
             ],
             [
              0.4444444444444444,
              "#bd3786"
             ],
             [
              0.5555555555555556,
              "#d8576b"
             ],
             [
              0.6666666666666666,
              "#ed7953"
             ],
             [
              0.7777777777777778,
              "#fb9f3a"
             ],
             [
              0.8888888888888888,
              "#fdca26"
             ],
             [
              1,
              "#f0f921"
             ]
            ],
            "type": "contour"
           }
          ],
          "contourcarpet": [
           {
            "colorbar": {
             "outlinewidth": 0,
             "ticks": ""
            },
            "type": "contourcarpet"
           }
          ],
          "heatmap": [
           {
            "colorbar": {
             "outlinewidth": 0,
             "ticks": ""
            },
            "colorscale": [
             [
              0,
              "#0d0887"
             ],
             [
              0.1111111111111111,
              "#46039f"
             ],
             [
              0.2222222222222222,
              "#7201a8"
             ],
             [
              0.3333333333333333,
              "#9c179e"
             ],
             [
              0.4444444444444444,
              "#bd3786"
             ],
             [
              0.5555555555555556,
              "#d8576b"
             ],
             [
              0.6666666666666666,
              "#ed7953"
             ],
             [
              0.7777777777777778,
              "#fb9f3a"
             ],
             [
              0.8888888888888888,
              "#fdca26"
             ],
             [
              1,
              "#f0f921"
             ]
            ],
            "type": "heatmap"
           }
          ],
          "heatmapgl": [
           {
            "colorbar": {
             "outlinewidth": 0,
             "ticks": ""
            },
            "colorscale": [
             [
              0,
              "#0d0887"
             ],
             [
              0.1111111111111111,
              "#46039f"
             ],
             [
              0.2222222222222222,
              "#7201a8"
             ],
             [
              0.3333333333333333,
              "#9c179e"
             ],
             [
              0.4444444444444444,
              "#bd3786"
             ],
             [
              0.5555555555555556,
              "#d8576b"
             ],
             [
              0.6666666666666666,
              "#ed7953"
             ],
             [
              0.7777777777777778,
              "#fb9f3a"
             ],
             [
              0.8888888888888888,
              "#fdca26"
             ],
             [
              1,
              "#f0f921"
             ]
            ],
            "type": "heatmapgl"
           }
          ],
          "histogram": [
           {
            "marker": {
             "pattern": {
              "fillmode": "overlay",
              "size": 10,
              "solidity": 0.2
             }
            },
            "type": "histogram"
           }
          ],
          "histogram2d": [
           {
            "colorbar": {
             "outlinewidth": 0,
             "ticks": ""
            },
            "colorscale": [
             [
              0,
              "#0d0887"
             ],
             [
              0.1111111111111111,
              "#46039f"
             ],
             [
              0.2222222222222222,
              "#7201a8"
             ],
             [
              0.3333333333333333,
              "#9c179e"
             ],
             [
              0.4444444444444444,
              "#bd3786"
             ],
             [
              0.5555555555555556,
              "#d8576b"
             ],
             [
              0.6666666666666666,
              "#ed7953"
             ],
             [
              0.7777777777777778,
              "#fb9f3a"
             ],
             [
              0.8888888888888888,
              "#fdca26"
             ],
             [
              1,
              "#f0f921"
             ]
            ],
            "type": "histogram2d"
           }
          ],
          "histogram2dcontour": [
           {
            "colorbar": {
             "outlinewidth": 0,
             "ticks": ""
            },
            "colorscale": [
             [
              0,
              "#0d0887"
             ],
             [
              0.1111111111111111,
              "#46039f"
             ],
             [
              0.2222222222222222,
              "#7201a8"
             ],
             [
              0.3333333333333333,
              "#9c179e"
             ],
             [
              0.4444444444444444,
              "#bd3786"
             ],
             [
              0.5555555555555556,
              "#d8576b"
             ],
             [
              0.6666666666666666,
              "#ed7953"
             ],
             [
              0.7777777777777778,
              "#fb9f3a"
             ],
             [
              0.8888888888888888,
              "#fdca26"
             ],
             [
              1,
              "#f0f921"
             ]
            ],
            "type": "histogram2dcontour"
           }
          ],
          "mesh3d": [
           {
            "colorbar": {
             "outlinewidth": 0,
             "ticks": ""
            },
            "type": "mesh3d"
           }
          ],
          "parcoords": [
           {
            "line": {
             "colorbar": {
              "outlinewidth": 0,
              "ticks": ""
             }
            },
            "type": "parcoords"
           }
          ],
          "pie": [
           {
            "automargin": true,
            "type": "pie"
           }
          ],
          "scatter": [
           {
            "fillpattern": {
             "fillmode": "overlay",
             "size": 10,
             "solidity": 0.2
            },
            "type": "scatter"
           }
          ],
          "scatter3d": [
           {
            "line": {
             "colorbar": {
              "outlinewidth": 0,
              "ticks": ""
             }
            },
            "marker": {
             "colorbar": {
              "outlinewidth": 0,
              "ticks": ""
             }
            },
            "type": "scatter3d"
           }
          ],
          "scattercarpet": [
           {
            "marker": {
             "colorbar": {
              "outlinewidth": 0,
              "ticks": ""
             }
            },
            "type": "scattercarpet"
           }
          ],
          "scattergeo": [
           {
            "marker": {
             "colorbar": {
              "outlinewidth": 0,
              "ticks": ""
             }
            },
            "type": "scattergeo"
           }
          ],
          "scattergl": [
           {
            "marker": {
             "colorbar": {
              "outlinewidth": 0,
              "ticks": ""
             }
            },
            "type": "scattergl"
           }
          ],
          "scattermapbox": [
           {
            "marker": {
             "colorbar": {
              "outlinewidth": 0,
              "ticks": ""
             }
            },
            "type": "scattermapbox"
           }
          ],
          "scatterpolar": [
           {
            "marker": {
             "colorbar": {
              "outlinewidth": 0,
              "ticks": ""
             }
            },
            "type": "scatterpolar"
           }
          ],
          "scatterpolargl": [
           {
            "marker": {
             "colorbar": {
              "outlinewidth": 0,
              "ticks": ""
             }
            },
            "type": "scatterpolargl"
           }
          ],
          "scatterternary": [
           {
            "marker": {
             "colorbar": {
              "outlinewidth": 0,
              "ticks": ""
             }
            },
            "type": "scatterternary"
           }
          ],
          "surface": [
           {
            "colorbar": {
             "outlinewidth": 0,
             "ticks": ""
            },
            "colorscale": [
             [
              0,
              "#0d0887"
             ],
             [
              0.1111111111111111,
              "#46039f"
             ],
             [
              0.2222222222222222,
              "#7201a8"
             ],
             [
              0.3333333333333333,
              "#9c179e"
             ],
             [
              0.4444444444444444,
              "#bd3786"
             ],
             [
              0.5555555555555556,
              "#d8576b"
             ],
             [
              0.6666666666666666,
              "#ed7953"
             ],
             [
              0.7777777777777778,
              "#fb9f3a"
             ],
             [
              0.8888888888888888,
              "#fdca26"
             ],
             [
              1,
              "#f0f921"
             ]
            ],
            "type": "surface"
           }
          ],
          "table": [
           {
            "cells": {
             "fill": {
              "color": "#EBF0F8"
             },
             "line": {
              "color": "white"
             }
            },
            "header": {
             "fill": {
              "color": "#C8D4E3"
             },
             "line": {
              "color": "white"
             }
            },
            "type": "table"
           }
          ]
         },
         "layout": {
          "annotationdefaults": {
           "arrowcolor": "#2a3f5f",
           "arrowhead": 0,
           "arrowwidth": 1
          },
          "autotypenumbers": "strict",
          "coloraxis": {
           "colorbar": {
            "outlinewidth": 0,
            "ticks": ""
           }
          },
          "colorscale": {
           "diverging": [
            [
             0,
             "#8e0152"
            ],
            [
             0.1,
             "#c51b7d"
            ],
            [
             0.2,
             "#de77ae"
            ],
            [
             0.3,
             "#f1b6da"
            ],
            [
             0.4,
             "#fde0ef"
            ],
            [
             0.5,
             "#f7f7f7"
            ],
            [
             0.6,
             "#e6f5d0"
            ],
            [
             0.7,
             "#b8e186"
            ],
            [
             0.8,
             "#7fbc41"
            ],
            [
             0.9,
             "#4d9221"
            ],
            [
             1,
             "#276419"
            ]
           ],
           "sequential": [
            [
             0,
             "#0d0887"
            ],
            [
             0.1111111111111111,
             "#46039f"
            ],
            [
             0.2222222222222222,
             "#7201a8"
            ],
            [
             0.3333333333333333,
             "#9c179e"
            ],
            [
             0.4444444444444444,
             "#bd3786"
            ],
            [
             0.5555555555555556,
             "#d8576b"
            ],
            [
             0.6666666666666666,
             "#ed7953"
            ],
            [
             0.7777777777777778,
             "#fb9f3a"
            ],
            [
             0.8888888888888888,
             "#fdca26"
            ],
            [
             1,
             "#f0f921"
            ]
           ],
           "sequentialminus": [
            [
             0,
             "#0d0887"
            ],
            [
             0.1111111111111111,
             "#46039f"
            ],
            [
             0.2222222222222222,
             "#7201a8"
            ],
            [
             0.3333333333333333,
             "#9c179e"
            ],
            [
             0.4444444444444444,
             "#bd3786"
            ],
            [
             0.5555555555555556,
             "#d8576b"
            ],
            [
             0.6666666666666666,
             "#ed7953"
            ],
            [
             0.7777777777777778,
             "#fb9f3a"
            ],
            [
             0.8888888888888888,
             "#fdca26"
            ],
            [
             1,
             "#f0f921"
            ]
           ]
          },
          "colorway": [
           "#636efa",
           "#EF553B",
           "#00cc96",
           "#ab63fa",
           "#FFA15A",
           "#19d3f3",
           "#FF6692",
           "#B6E880",
           "#FF97FF",
           "#FECB52"
          ],
          "font": {
           "color": "#2a3f5f"
          },
          "geo": {
           "bgcolor": "white",
           "lakecolor": "white",
           "landcolor": "#E5ECF6",
           "showlakes": true,
           "showland": true,
           "subunitcolor": "white"
          },
          "hoverlabel": {
           "align": "left"
          },
          "hovermode": "closest",
          "mapbox": {
           "style": "light"
          },
          "paper_bgcolor": "white",
          "plot_bgcolor": "#E5ECF6",
          "polar": {
           "angularaxis": {
            "gridcolor": "white",
            "linecolor": "white",
            "ticks": ""
           },
           "bgcolor": "#E5ECF6",
           "radialaxis": {
            "gridcolor": "white",
            "linecolor": "white",
            "ticks": ""
           }
          },
          "scene": {
           "xaxis": {
            "backgroundcolor": "#E5ECF6",
            "gridcolor": "white",
            "gridwidth": 2,
            "linecolor": "white",
            "showbackground": true,
            "ticks": "",
            "zerolinecolor": "white"
           },
           "yaxis": {
            "backgroundcolor": "#E5ECF6",
            "gridcolor": "white",
            "gridwidth": 2,
            "linecolor": "white",
            "showbackground": true,
            "ticks": "",
            "zerolinecolor": "white"
           },
           "zaxis": {
            "backgroundcolor": "#E5ECF6",
            "gridcolor": "white",
            "gridwidth": 2,
            "linecolor": "white",
            "showbackground": true,
            "ticks": "",
            "zerolinecolor": "white"
           }
          },
          "shapedefaults": {
           "line": {
            "color": "#2a3f5f"
           }
          },
          "ternary": {
           "aaxis": {
            "gridcolor": "white",
            "linecolor": "white",
            "ticks": ""
           },
           "baxis": {
            "gridcolor": "white",
            "linecolor": "white",
            "ticks": ""
           },
           "bgcolor": "#E5ECF6",
           "caxis": {
            "gridcolor": "white",
            "linecolor": "white",
            "ticks": ""
           }
          },
          "title": {
           "x": 0.05
          },
          "xaxis": {
           "automargin": true,
           "gridcolor": "white",
           "linecolor": "white",
           "ticks": "",
           "title": {
            "standoff": 15
           },
           "zerolinecolor": "white",
           "zerolinewidth": 2
          },
          "yaxis": {
           "automargin": true,
           "gridcolor": "white",
           "linecolor": "white",
           "ticks": "",
           "title": {
            "standoff": 15
           },
           "zerolinecolor": "white",
           "zerolinewidth": 2
          }
         }
        },
        "title": {
         "text": "Slide 10: Hierarchical Performance Breakdown"
        },
        "width": 900
       }
      }
     },
     "metadata": {},
     "output_type": "display_data"
    }
   ],
   "source": [
    "# 9. SUNBURST - Hierarchical Performance Breakdown\n",
    "sunburst_data = []\n",
    "\n",
    "for route in wego['ROUTE_ABBR'].unique():\n",
    "    route_df = wego[wego['ROUTE_ABBR'] == route]\n",
    "\n",
    "    for direction in route_df['ROUTE_DIRECTION_NAME'].unique():\n",
    "        dir_df = route_df[route_df['ROUTE_DIRECTION_NAME'] == direction]\n",
    "\n",
    "        ontime_sum = dir_df['ADJUSTED_ONTIME_COUNT'].sum()\n",
    "        early_sum = dir_df['ADJUSTED_EARLY_COUNT'].sum()\n",
    "        late_sum = dir_df['ADJUSTED_LATE_COUNT'].sum()\n",
    "\n",
    "        if ontime_sum > 0:\n",
    "            sunburst_data.append({\n",
    "                'route': str(route),\n",
    "                'direction': direction,\n",
    "                'outcome': 'On-Time',\n",
    "                'count': ontime_sum\n",
    "            })\n",
    "        if early_sum > 0:\n",
    "            sunburst_data.append({\n",
    "                'route': str(route),\n",
    "                'direction': direction,\n",
    "                'outcome': 'Early',\n",
    "                'count': early_sum\n",
    "            })\n",
    "        if late_sum > 0:\n",
    "            sunburst_data.append({\n",
    "                'route': str(route),\n",
    "                'direction': direction,\n",
    "                'outcome': 'Late',\n",
    "                'count': late_sum\n",
    "            })\n",
    "\n",
    "sunburst_df = pd.DataFrame(sunburst_data)\n",
    "\n",
    "color_map = {\n",
    "    'On-Time': WEGO_COLORS['green'],\n",
    "    'Early': WEGO_COLORS['orange'],\n",
    "    'Late': WEGO_COLORS['purple']\n",
    "}\n",
    "\n",
    "fig = px.sunburst(\n",
    "    sunburst_df,\n",
    "    path=['route', 'direction', 'outcome'],\n",
    "    values='count',\n",
    "    color='outcome',\n",
    "    color_discrete_map=color_map,\n",
    "    title='Slide 10: Hierarchical Performance Breakdown'\n",
    ")\n",
    "fig.update_layout(\n",
    "    width=900,\n",
    "    height=700,\n",
    "    paper_bgcolor='white',\n",
    "    margin=dict(t=80, l=20, r=20, b=20),\n",
    "    font=dict(color=WEGO_COLORS['slate']),\n",
    "    legend=dict(\n",
    "        title='Outcome',\n",
    "        font=dict(color=WEGO_COLORS['slate']),\n",
    "        bgcolor=hex_to_rgba(WEGO_COLORS['navy'], 0.05) if 'hex_to_rgba' in globals() else None\n",
    "    )\n",
    ")\n",
    "fig.show()\n",
    "if SAVE_PDF:\n",
    "    save_plotly_figure(fig, 'sunburst_hierarchy')"
   ]
  },
  {
   "cell_type": "code",
   "execution_count": null,
   "id": "223a5aa2",
   "metadata": {},
   "outputs": [
    {
     "data": {
      "application/vnd.plotly.v1+json": {
       "config": {
        "plotlyServerURL": "https://plot.ly"
       },
       "data": [
        {
         "connector": {
          "line": {
           "color": "rgb(63, 63, 63)"
          }
         },
         "decreasing": {
          "marker": {
           "color": "#E74C3C"
          }
         },
         "increasing": {
          "marker": {
           "color": "#2ECC71"
          }
         },
         "measure": [
          "absolute",
          "relative",
          "relative",
          "relative",
          "total"
         ],
         "name": "Performance",
         "orientation": "v",
         "text": [
          "338,861",
          "270,048",
          "-9,775",
          "-59,038",
          "270,048"
         ],
         "textposition": "outside",
         "totals": {
          "marker": {
           "color": "#3498DB"
          }
         },
         "type": "waterfall",
         "x": [
          "Total Trips",
          "On-Time",
          "Early Departures",
          "Late Arrivals",
          "Final Performance"
         ],
         "y": [
          338861,
          270048,
          -9775,
          -59038,
          270048
         ]
        }
       ],
       "layout": {
        "height": 600,
        "showlegend": false,
        "template": {
         "data": {
          "bar": [
           {
            "error_x": {
             "color": "#2a3f5f"
            },
            "error_y": {
             "color": "#2a3f5f"
            },
            "marker": {
             "line": {
              "color": "#E5ECF6",
              "width": 0.5
             },
             "pattern": {
              "fillmode": "overlay",
              "size": 10,
              "solidity": 0.2
             }
            },
            "type": "bar"
           }
          ],
          "barpolar": [
           {
            "marker": {
             "line": {
              "color": "#E5ECF6",
              "width": 0.5
             },
             "pattern": {
              "fillmode": "overlay",
              "size": 10,
              "solidity": 0.2
             }
            },
            "type": "barpolar"
           }
          ],
          "carpet": [
           {
            "aaxis": {
             "endlinecolor": "#2a3f5f",
             "gridcolor": "white",
             "linecolor": "white",
             "minorgridcolor": "white",
             "startlinecolor": "#2a3f5f"
            },
            "baxis": {
             "endlinecolor": "#2a3f5f",
             "gridcolor": "white",
             "linecolor": "white",
             "minorgridcolor": "white",
             "startlinecolor": "#2a3f5f"
            },
            "type": "carpet"
           }
          ],
          "choropleth": [
           {
            "colorbar": {
             "outlinewidth": 0,
             "ticks": ""
            },
            "type": "choropleth"
           }
          ],
          "contour": [
           {
            "colorbar": {
             "outlinewidth": 0,
             "ticks": ""
            },
            "colorscale": [
             [
              0,
              "#0d0887"
             ],
             [
              0.1111111111111111,
              "#46039f"
             ],
             [
              0.2222222222222222,
              "#7201a8"
             ],
             [
              0.3333333333333333,
              "#9c179e"
             ],
             [
              0.4444444444444444,
              "#bd3786"
             ],
             [
              0.5555555555555556,
              "#d8576b"
             ],
             [
              0.6666666666666666,
              "#ed7953"
             ],
             [
              0.7777777777777778,
              "#fb9f3a"
             ],
             [
              0.8888888888888888,
              "#fdca26"
             ],
             [
              1,
              "#f0f921"
             ]
            ],
            "type": "contour"
           }
          ],
          "contourcarpet": [
           {
            "colorbar": {
             "outlinewidth": 0,
             "ticks": ""
            },
            "type": "contourcarpet"
           }
          ],
          "heatmap": [
           {
            "colorbar": {
             "outlinewidth": 0,
             "ticks": ""
            },
            "colorscale": [
             [
              0,
              "#0d0887"
             ],
             [
              0.1111111111111111,
              "#46039f"
             ],
             [
              0.2222222222222222,
              "#7201a8"
             ],
             [
              0.3333333333333333,
              "#9c179e"
             ],
             [
              0.4444444444444444,
              "#bd3786"
             ],
             [
              0.5555555555555556,
              "#d8576b"
             ],
             [
              0.6666666666666666,
              "#ed7953"
             ],
             [
              0.7777777777777778,
              "#fb9f3a"
             ],
             [
              0.8888888888888888,
              "#fdca26"
             ],
             [
              1,
              "#f0f921"
             ]
            ],
            "type": "heatmap"
           }
          ],
          "heatmapgl": [
           {
            "colorbar": {
             "outlinewidth": 0,
             "ticks": ""
            },
            "colorscale": [
             [
              0,
              "#0d0887"
             ],
             [
              0.1111111111111111,
              "#46039f"
             ],
             [
              0.2222222222222222,
              "#7201a8"
             ],
             [
              0.3333333333333333,
              "#9c179e"
             ],
             [
              0.4444444444444444,
              "#bd3786"
             ],
             [
              0.5555555555555556,
              "#d8576b"
             ],
             [
              0.6666666666666666,
              "#ed7953"
             ],
             [
              0.7777777777777778,
              "#fb9f3a"
             ],
             [
              0.8888888888888888,
              "#fdca26"
             ],
             [
              1,
              "#f0f921"
             ]
            ],
            "type": "heatmapgl"
           }
          ],
          "histogram": [
           {
            "marker": {
             "pattern": {
              "fillmode": "overlay",
              "size": 10,
              "solidity": 0.2
             }
            },
            "type": "histogram"
           }
          ],
          "histogram2d": [
           {
            "colorbar": {
             "outlinewidth": 0,
             "ticks": ""
            },
            "colorscale": [
             [
              0,
              "#0d0887"
             ],
             [
              0.1111111111111111,
              "#46039f"
             ],
             [
              0.2222222222222222,
              "#7201a8"
             ],
             [
              0.3333333333333333,
              "#9c179e"
             ],
             [
              0.4444444444444444,
              "#bd3786"
             ],
             [
              0.5555555555555556,
              "#d8576b"
             ],
             [
              0.6666666666666666,
              "#ed7953"
             ],
             [
              0.7777777777777778,
              "#fb9f3a"
             ],
             [
              0.8888888888888888,
              "#fdca26"
             ],
             [
              1,
              "#f0f921"
             ]
            ],
            "type": "histogram2d"
           }
          ],
          "histogram2dcontour": [
           {
            "colorbar": {
             "outlinewidth": 0,
             "ticks": ""
            },
            "colorscale": [
             [
              0,
              "#0d0887"
             ],
             [
              0.1111111111111111,
              "#46039f"
             ],
             [
              0.2222222222222222,
              "#7201a8"
             ],
             [
              0.3333333333333333,
              "#9c179e"
             ],
             [
              0.4444444444444444,
              "#bd3786"
             ],
             [
              0.5555555555555556,
              "#d8576b"
             ],
             [
              0.6666666666666666,
              "#ed7953"
             ],
             [
              0.7777777777777778,
              "#fb9f3a"
             ],
             [
              0.8888888888888888,
              "#fdca26"
             ],
             [
              1,
              "#f0f921"
             ]
            ],
            "type": "histogram2dcontour"
           }
          ],
          "mesh3d": [
           {
            "colorbar": {
             "outlinewidth": 0,
             "ticks": ""
            },
            "type": "mesh3d"
           }
          ],
          "parcoords": [
           {
            "line": {
             "colorbar": {
              "outlinewidth": 0,
              "ticks": ""
             }
            },
            "type": "parcoords"
           }
          ],
          "pie": [
           {
            "automargin": true,
            "type": "pie"
           }
          ],
          "scatter": [
           {
            "fillpattern": {
             "fillmode": "overlay",
             "size": 10,
             "solidity": 0.2
            },
            "type": "scatter"
           }
          ],
          "scatter3d": [
           {
            "line": {
             "colorbar": {
              "outlinewidth": 0,
              "ticks": ""
             }
            },
            "marker": {
             "colorbar": {
              "outlinewidth": 0,
              "ticks": ""
             }
            },
            "type": "scatter3d"
           }
          ],
          "scattercarpet": [
           {
            "marker": {
             "colorbar": {
              "outlinewidth": 0,
              "ticks": ""
             }
            },
            "type": "scattercarpet"
           }
          ],
          "scattergeo": [
           {
            "marker": {
             "colorbar": {
              "outlinewidth": 0,
              "ticks": ""
             }
            },
            "type": "scattergeo"
           }
          ],
          "scattergl": [
           {
            "marker": {
             "colorbar": {
              "outlinewidth": 0,
              "ticks": ""
             }
            },
            "type": "scattergl"
           }
          ],
          "scattermapbox": [
           {
            "marker": {
             "colorbar": {
              "outlinewidth": 0,
              "ticks": ""
             }
            },
            "type": "scattermapbox"
           }
          ],
          "scatterpolar": [
           {
            "marker": {
             "colorbar": {
              "outlinewidth": 0,
              "ticks": ""
             }
            },
            "type": "scatterpolar"
           }
          ],
          "scatterpolargl": [
           {
            "marker": {
             "colorbar": {
              "outlinewidth": 0,
              "ticks": ""
             }
            },
            "type": "scatterpolargl"
           }
          ],
          "scatterternary": [
           {
            "marker": {
             "colorbar": {
              "outlinewidth": 0,
              "ticks": ""
             }
            },
            "type": "scatterternary"
           }
          ],
          "surface": [
           {
            "colorbar": {
             "outlinewidth": 0,
             "ticks": ""
            },
            "colorscale": [
             [
              0,
              "#0d0887"
             ],
             [
              0.1111111111111111,
              "#46039f"
             ],
             [
              0.2222222222222222,
              "#7201a8"
             ],
             [
              0.3333333333333333,
              "#9c179e"
             ],
             [
              0.4444444444444444,
              "#bd3786"
             ],
             [
              0.5555555555555556,
              "#d8576b"
             ],
             [
              0.6666666666666666,
              "#ed7953"
             ],
             [
              0.7777777777777778,
              "#fb9f3a"
             ],
             [
              0.8888888888888888,
              "#fdca26"
             ],
             [
              1,
              "#f0f921"
             ]
            ],
            "type": "surface"
           }
          ],
          "table": [
           {
            "cells": {
             "fill": {
              "color": "#EBF0F8"
             },
             "line": {
              "color": "white"
             }
            },
            "header": {
             "fill": {
              "color": "#C8D4E3"
             },
             "line": {
              "color": "white"
             }
            },
            "type": "table"
           }
          ]
         },
         "layout": {
          "annotationdefaults": {
           "arrowcolor": "#2a3f5f",
           "arrowhead": 0,
           "arrowwidth": 1
          },
          "autotypenumbers": "strict",
          "coloraxis": {
           "colorbar": {
            "outlinewidth": 0,
            "ticks": ""
           }
          },
          "colorscale": {
           "diverging": [
            [
             0,
             "#8e0152"
            ],
            [
             0.1,
             "#c51b7d"
            ],
            [
             0.2,
             "#de77ae"
            ],
            [
             0.3,
             "#f1b6da"
            ],
            [
             0.4,
             "#fde0ef"
            ],
            [
             0.5,
             "#f7f7f7"
            ],
            [
             0.6,
             "#e6f5d0"
            ],
            [
             0.7,
             "#b8e186"
            ],
            [
             0.8,
             "#7fbc41"
            ],
            [
             0.9,
             "#4d9221"
            ],
            [
             1,
             "#276419"
            ]
           ],
           "sequential": [
            [
             0,
             "#0d0887"
            ],
            [
             0.1111111111111111,
             "#46039f"
            ],
            [
             0.2222222222222222,
             "#7201a8"
            ],
            [
             0.3333333333333333,
             "#9c179e"
            ],
            [
             0.4444444444444444,
             "#bd3786"
            ],
            [
             0.5555555555555556,
             "#d8576b"
            ],
            [
             0.6666666666666666,
             "#ed7953"
            ],
            [
             0.7777777777777778,
             "#fb9f3a"
            ],
            [
             0.8888888888888888,
             "#fdca26"
            ],
            [
             1,
             "#f0f921"
            ]
           ],
           "sequentialminus": [
            [
             0,
             "#0d0887"
            ],
            [
             0.1111111111111111,
             "#46039f"
            ],
            [
             0.2222222222222222,
             "#7201a8"
            ],
            [
             0.3333333333333333,
             "#9c179e"
            ],
            [
             0.4444444444444444,
             "#bd3786"
            ],
            [
             0.5555555555555556,
             "#d8576b"
            ],
            [
             0.6666666666666666,
             "#ed7953"
            ],
            [
             0.7777777777777778,
             "#fb9f3a"
            ],
            [
             0.8888888888888888,
             "#fdca26"
            ],
            [
             1,
             "#f0f921"
            ]
           ]
          },
          "colorway": [
           "#636efa",
           "#EF553B",
           "#00cc96",
           "#ab63fa",
           "#FFA15A",
           "#19d3f3",
           "#FF6692",
           "#B6E880",
           "#FF97FF",
           "#FECB52"
          ],
          "font": {
           "color": "#2a3f5f"
          },
          "geo": {
           "bgcolor": "white",
           "lakecolor": "white",
           "landcolor": "#E5ECF6",
           "showlakes": true,
           "showland": true,
           "subunitcolor": "white"
          },
          "hoverlabel": {
           "align": "left"
          },
          "hovermode": "closest",
          "mapbox": {
           "style": "light"
          },
          "paper_bgcolor": "white",
          "plot_bgcolor": "#E5ECF6",
          "polar": {
           "angularaxis": {
            "gridcolor": "white",
            "linecolor": "white",
            "ticks": ""
           },
           "bgcolor": "#E5ECF6",
           "radialaxis": {
            "gridcolor": "white",
            "linecolor": "white",
            "ticks": ""
           }
          },
          "scene": {
           "xaxis": {
            "backgroundcolor": "#E5ECF6",
            "gridcolor": "white",
            "gridwidth": 2,
            "linecolor": "white",
            "showbackground": true,
            "ticks": "",
            "zerolinecolor": "white"
           },
           "yaxis": {
            "backgroundcolor": "#E5ECF6",
            "gridcolor": "white",
            "gridwidth": 2,
            "linecolor": "white",
            "showbackground": true,
            "ticks": "",
            "zerolinecolor": "white"
           },
           "zaxis": {
            "backgroundcolor": "#E5ECF6",
            "gridcolor": "white",
            "gridwidth": 2,
            "linecolor": "white",
            "showbackground": true,
            "ticks": "",
            "zerolinecolor": "white"
           }
          },
          "shapedefaults": {
           "line": {
            "color": "#2a3f5f"
           }
          },
          "ternary": {
           "aaxis": {
            "gridcolor": "white",
            "linecolor": "white",
            "ticks": ""
           },
           "baxis": {
            "gridcolor": "white",
            "linecolor": "white",
            "ticks": ""
           },
           "bgcolor": "#E5ECF6",
           "caxis": {
            "gridcolor": "white",
            "linecolor": "white",
            "ticks": ""
           }
          },
          "title": {
           "x": 0.05
          },
          "xaxis": {
           "automargin": true,
           "gridcolor": "white",
           "linecolor": "white",
           "ticks": "",
           "title": {
            "standoff": 15
           },
           "zerolinecolor": "white",
           "zerolinewidth": 2
          },
          "yaxis": {
           "automargin": true,
           "gridcolor": "white",
           "linecolor": "white",
           "ticks": "",
           "title": {
            "standoff": 15
           },
           "zerolinecolor": "white",
           "zerolinewidth": 2
          }
         }
        },
        "title": {
         "text": "Slide 12: Performance Waterfall Analysis"
        },
        "width": 1000,
        "yaxis": {
         "title": {
          "text": "Number of Trips"
         }
        }
       }
      }
     },
     "metadata": {},
     "output_type": "display_data"
    }
   ],
   "source": [
    "# 11. WATERFALL CHART - Performance Breakdown\n",
    "total_trips = wego['ADJUSTED_ONTIME_COUNT'].sum() + wego['ADJUSTED_EARLY_COUNT'].sum() + wego['ADJUSTED_LATE_COUNT'].sum()\n",
    "ontime_base = wego['ADJUSTED_ONTIME_COUNT'].sum()\n",
    "early_impact = wego['ADJUSTED_EARLY_COUNT'].sum()\n",
    "late_impact = wego['ADJUSTED_LATE_COUNT'].sum()\n",
    "\n",
    "waterfall_data = {\n",
    "    'Category': ['Total Trips', 'On-Time', 'Early Departures', 'Late Arrivals', 'Final Performance'],\n",
    "    'Value': [total_trips, ontime_base, -early_impact, -late_impact, ontime_base],\n",
    "    'Measure': ['absolute', 'relative', 'relative', 'relative', 'total']\n",
    "}\n",
    "\n",
    "waterfall_df = pd.DataFrame(waterfall_data)\n",
    "\n",
    "fig = go.Figure(go.Waterfall(\n",
    "    name=\"Performance\",\n",
    "    orientation=\"v\",\n",
    "    measure=waterfall_df['Measure'],\n",
    "    x=waterfall_df['Category'],\n",
    "    y=waterfall_df['Value'],\n",
    "    text=[f\"{v:,.0f}\" for v in waterfall_df['Value']],\n",
    "    textposition=\"outside\",\n",
    "    connector={\"line\": {\"color\": \"rgb(63, 63, 63)\"}},\n",
    "    increasing={\"marker\": {\"color\": \"#2ECC71\"}},\n",
    "    decreasing={\"marker\": {\"color\": \"#E74C3C\"}},\n",
    "    totals={\"marker\": {\"color\": \"#3498DB\"}}\n",
    "))\n",
    "\n",
    "fig.update_layout(\n",
    "    title=\"Slide 12: Performance Waterfall Analysis\",\n",
    "    showlegend=False,\n",
    "    width=1000,\n",
    "    height=600,\n",
    "    yaxis_title=\"Number of Trips\"\n",
    ")\n",
    "fig.show()"
   ]
  },
  {
   "cell_type": "code",
   "execution_count": null,
   "id": "4351c4f3",
   "metadata": {},
   "outputs": [
    {
     "ename": "KeyError",
     "evalue": "'DAY_OF_WEEK'",
     "output_type": "error",
     "traceback": [
      "\u001b[31m---------------------------------------------------------------------------\u001b[39m",
      "\u001b[31mKeyError\u001b[39m                                  Traceback (most recent call last)",
      "\u001b[36mCell\u001b[39m\u001b[36m \u001b[39m\u001b[32mIn[53]\u001b[39m\u001b[32m, line 20\u001b[39m\n\u001b[32m     17\u001b[39m worst_route = route_perf[\u001b[33m'\u001b[39m\u001b[33mOnTime_Pct\u001b[39m\u001b[33m'\u001b[39m].idxmin()\n\u001b[32m     19\u001b[39m \u001b[38;5;66;03m# Day performance\u001b[39;00m\n\u001b[32m---> \u001b[39m\u001b[32m20\u001b[39m day_perf = \u001b[43mwego\u001b[49m\u001b[43m.\u001b[49m\u001b[43mgroupby\u001b[49m\u001b[43m(\u001b[49m\u001b[33;43m'\u001b[39;49m\u001b[33;43mDAY_OF_WEEK\u001b[39;49m\u001b[33;43m'\u001b[39;49m\u001b[43m)\u001b[49m.agg({\n\u001b[32m     21\u001b[39m     \u001b[33m'\u001b[39m\u001b[33mADJUSTED_ONTIME_COUNT\u001b[39m\u001b[33m'\u001b[39m: \u001b[33m'\u001b[39m\u001b[33msum\u001b[39m\u001b[33m'\u001b[39m,\n\u001b[32m     22\u001b[39m     \u001b[33m'\u001b[39m\u001b[33mADJUSTED_EARLY_COUNT\u001b[39m\u001b[33m'\u001b[39m: \u001b[33m'\u001b[39m\u001b[33msum\u001b[39m\u001b[33m'\u001b[39m,\n\u001b[32m     23\u001b[39m     \u001b[33m'\u001b[39m\u001b[33mADJUSTED_LATE_COUNT\u001b[39m\u001b[33m'\u001b[39m: \u001b[33m'\u001b[39m\u001b[33msum\u001b[39m\u001b[33m'\u001b[39m\n\u001b[32m     24\u001b[39m })\n\u001b[32m     25\u001b[39m day_perf[\u001b[33m'\u001b[39m\u001b[33mTotal\u001b[39m\u001b[33m'\u001b[39m] = day_perf.sum(axis=\u001b[32m1\u001b[39m)\n\u001b[32m     26\u001b[39m day_perf[\u001b[33m'\u001b[39m\u001b[33mOnTime_Pct\u001b[39m\u001b[33m'\u001b[39m] = (day_perf[\u001b[33m'\u001b[39m\u001b[33mADJUSTED_ONTIME_COUNT\u001b[39m\u001b[33m'\u001b[39m] / day_perf[\u001b[33m'\u001b[39m\u001b[33mTotal\u001b[39m\u001b[33m'\u001b[39m]) * \u001b[32m100\u001b[39m\n",
      "\u001b[36mFile \u001b[39m\u001b[32m~\\AppData\\Roaming\\Python\\Python311\\site-packages\\pandas\\core\\frame.py:9190\u001b[39m, in \u001b[36mDataFrame.groupby\u001b[39m\u001b[34m(self, by, axis, level, as_index, sort, group_keys, observed, dropna)\u001b[39m\n\u001b[32m   9187\u001b[39m \u001b[38;5;28;01mif\u001b[39;00m level \u001b[38;5;129;01mis\u001b[39;00m \u001b[38;5;28;01mNone\u001b[39;00m \u001b[38;5;129;01mand\u001b[39;00m by \u001b[38;5;129;01mis\u001b[39;00m \u001b[38;5;28;01mNone\u001b[39;00m:\n\u001b[32m   9188\u001b[39m     \u001b[38;5;28;01mraise\u001b[39;00m \u001b[38;5;167;01mTypeError\u001b[39;00m(\u001b[33m\"\u001b[39m\u001b[33mYou have to supply one of \u001b[39m\u001b[33m'\u001b[39m\u001b[33mby\u001b[39m\u001b[33m'\u001b[39m\u001b[33m and \u001b[39m\u001b[33m'\u001b[39m\u001b[33mlevel\u001b[39m\u001b[33m'\u001b[39m\u001b[33m\"\u001b[39m)\n\u001b[32m-> \u001b[39m\u001b[32m9190\u001b[39m \u001b[38;5;28;01mreturn\u001b[39;00m \u001b[43mDataFrameGroupBy\u001b[49m\u001b[43m(\u001b[49m\n\u001b[32m   9191\u001b[39m \u001b[43m    \u001b[49m\u001b[43mobj\u001b[49m\u001b[43m=\u001b[49m\u001b[38;5;28;43mself\u001b[39;49m\u001b[43m,\u001b[49m\n\u001b[32m   9192\u001b[39m \u001b[43m    \u001b[49m\u001b[43mkeys\u001b[49m\u001b[43m=\u001b[49m\u001b[43mby\u001b[49m\u001b[43m,\u001b[49m\n\u001b[32m   9193\u001b[39m \u001b[43m    \u001b[49m\u001b[43maxis\u001b[49m\u001b[43m=\u001b[49m\u001b[43maxis\u001b[49m\u001b[43m,\u001b[49m\n\u001b[32m   9194\u001b[39m \u001b[43m    \u001b[49m\u001b[43mlevel\u001b[49m\u001b[43m=\u001b[49m\u001b[43mlevel\u001b[49m\u001b[43m,\u001b[49m\n\u001b[32m   9195\u001b[39m \u001b[43m    \u001b[49m\u001b[43mas_index\u001b[49m\u001b[43m=\u001b[49m\u001b[43mas_index\u001b[49m\u001b[43m,\u001b[49m\n\u001b[32m   9196\u001b[39m \u001b[43m    \u001b[49m\u001b[43msort\u001b[49m\u001b[43m=\u001b[49m\u001b[43msort\u001b[49m\u001b[43m,\u001b[49m\n\u001b[32m   9197\u001b[39m \u001b[43m    \u001b[49m\u001b[43mgroup_keys\u001b[49m\u001b[43m=\u001b[49m\u001b[43mgroup_keys\u001b[49m\u001b[43m,\u001b[49m\n\u001b[32m   9198\u001b[39m \u001b[43m    \u001b[49m\u001b[43mobserved\u001b[49m\u001b[43m=\u001b[49m\u001b[43mobserved\u001b[49m\u001b[43m,\u001b[49m\n\u001b[32m   9199\u001b[39m \u001b[43m    \u001b[49m\u001b[43mdropna\u001b[49m\u001b[43m=\u001b[49m\u001b[43mdropna\u001b[49m\u001b[43m,\u001b[49m\n\u001b[32m   9200\u001b[39m \u001b[43m\u001b[49m\u001b[43m)\u001b[49m\n",
      "\u001b[36mFile \u001b[39m\u001b[32m~\\AppData\\Roaming\\Python\\Python311\\site-packages\\pandas\\core\\groupby\\groupby.py:1330\u001b[39m, in \u001b[36mGroupBy.__init__\u001b[39m\u001b[34m(self, obj, keys, axis, level, grouper, exclusions, selection, as_index, sort, group_keys, observed, dropna)\u001b[39m\n\u001b[32m   1327\u001b[39m \u001b[38;5;28mself\u001b[39m.dropna = dropna\n\u001b[32m   1329\u001b[39m \u001b[38;5;28;01mif\u001b[39;00m grouper \u001b[38;5;129;01mis\u001b[39;00m \u001b[38;5;28;01mNone\u001b[39;00m:\n\u001b[32m-> \u001b[39m\u001b[32m1330\u001b[39m     grouper, exclusions, obj = \u001b[43mget_grouper\u001b[49m\u001b[43m(\u001b[49m\n\u001b[32m   1331\u001b[39m \u001b[43m        \u001b[49m\u001b[43mobj\u001b[49m\u001b[43m,\u001b[49m\n\u001b[32m   1332\u001b[39m \u001b[43m        \u001b[49m\u001b[43mkeys\u001b[49m\u001b[43m,\u001b[49m\n\u001b[32m   1333\u001b[39m \u001b[43m        \u001b[49m\u001b[43maxis\u001b[49m\u001b[43m=\u001b[49m\u001b[43maxis\u001b[49m\u001b[43m,\u001b[49m\n\u001b[32m   1334\u001b[39m \u001b[43m        \u001b[49m\u001b[43mlevel\u001b[49m\u001b[43m=\u001b[49m\u001b[43mlevel\u001b[49m\u001b[43m,\u001b[49m\n\u001b[32m   1335\u001b[39m \u001b[43m        \u001b[49m\u001b[43msort\u001b[49m\u001b[43m=\u001b[49m\u001b[43msort\u001b[49m\u001b[43m,\u001b[49m\n\u001b[32m   1336\u001b[39m \u001b[43m        \u001b[49m\u001b[43mobserved\u001b[49m\u001b[43m=\u001b[49m\u001b[38;5;28;43;01mFalse\u001b[39;49;00m\u001b[43m \u001b[49m\u001b[38;5;28;43;01mif\u001b[39;49;00m\u001b[43m \u001b[49m\u001b[43mobserved\u001b[49m\u001b[43m \u001b[49m\u001b[38;5;129;43;01mis\u001b[39;49;00m\u001b[43m \u001b[49m\u001b[43mlib\u001b[49m\u001b[43m.\u001b[49m\u001b[43mno_default\u001b[49m\u001b[43m \u001b[49m\u001b[38;5;28;43;01melse\u001b[39;49;00m\u001b[43m \u001b[49m\u001b[43mobserved\u001b[49m\u001b[43m,\u001b[49m\n\u001b[32m   1337\u001b[39m \u001b[43m        \u001b[49m\u001b[43mdropna\u001b[49m\u001b[43m=\u001b[49m\u001b[38;5;28;43mself\u001b[39;49m\u001b[43m.\u001b[49m\u001b[43mdropna\u001b[49m\u001b[43m,\u001b[49m\n\u001b[32m   1338\u001b[39m \u001b[43m    \u001b[49m\u001b[43m)\u001b[49m\n\u001b[32m   1340\u001b[39m \u001b[38;5;28;01mif\u001b[39;00m observed \u001b[38;5;129;01mis\u001b[39;00m lib.no_default:\n\u001b[32m   1341\u001b[39m     \u001b[38;5;28;01mif\u001b[39;00m \u001b[38;5;28many\u001b[39m(ping._passed_categorical \u001b[38;5;28;01mfor\u001b[39;00m ping \u001b[38;5;129;01min\u001b[39;00m grouper.groupings):\n",
      "\u001b[36mFile \u001b[39m\u001b[32m~\\AppData\\Roaming\\Python\\Python311\\site-packages\\pandas\\core\\groupby\\grouper.py:1043\u001b[39m, in \u001b[36mget_grouper\u001b[39m\u001b[34m(obj, key, axis, level, sort, observed, validate, dropna)\u001b[39m\n\u001b[32m   1041\u001b[39m         in_axis, level, gpr = \u001b[38;5;28;01mFalse\u001b[39;00m, gpr, \u001b[38;5;28;01mNone\u001b[39;00m\n\u001b[32m   1042\u001b[39m     \u001b[38;5;28;01melse\u001b[39;00m:\n\u001b[32m-> \u001b[39m\u001b[32m1043\u001b[39m         \u001b[38;5;28;01mraise\u001b[39;00m \u001b[38;5;167;01mKeyError\u001b[39;00m(gpr)\n\u001b[32m   1044\u001b[39m \u001b[38;5;28;01melif\u001b[39;00m \u001b[38;5;28misinstance\u001b[39m(gpr, Grouper) \u001b[38;5;129;01mand\u001b[39;00m gpr.key \u001b[38;5;129;01mis\u001b[39;00m \u001b[38;5;129;01mnot\u001b[39;00m \u001b[38;5;28;01mNone\u001b[39;00m:\n\u001b[32m   1045\u001b[39m     \u001b[38;5;66;03m# Add key to exclusions\u001b[39;00m\n\u001b[32m   1046\u001b[39m     exclusions.add(gpr.key)\n",
      "\u001b[31mKeyError\u001b[39m: 'DAY_OF_WEEK'"
     ]
    }
   ],
   "source": [
    "# 12. KEY FINDINGS & RECOMMENDATIONS\n",
    "wego_summary = wego.copy()\n",
    "wego_summary['DATE'] = pd.to_datetime(wego_summary['DATE'])\n",
    "if 'DAY_OF_WEEK' not in wego_summary.columns:\n",
    "    wego_summary['DAY_OF_WEEK'] = wego_summary['DATE'].dt.day_name()\n",
    "\n",
    "# Overall performance\n",
    "total_ontime_sum = wego_summary['ADJUSTED_ONTIME_COUNT'].sum()\n",
    "total_early_sum = wego_summary['ADJUSTED_EARLY_COUNT'].sum()\n",
    "total_late_sum = wego_summary['ADJUSTED_LATE_COUNT'].sum()\n",
    "total_sum = total_ontime_sum + total_early_sum + total_late_sum\n",
    "overall_on_time_pct = (total_ontime_sum / total_sum * 100) if total_sum else 0\n",
    "\n",
    "# Route performance\n",
    "route_perf = (\n",
    "    wego_summary.groupby('ROUTE_ABBR')\n",
    "    .agg({\n",
    "        'ADJUSTED_ONTIME_COUNT': 'sum',\n",
    "        'ADJUSTED_EARLY_COUNT': 'sum',\n",
    "        'ADJUSTED_LATE_COUNT': 'sum'\n",
    "    })\n",
    ")\n",
    "route_perf['Total'] = route_perf.sum(axis=1)\n",
    "route_perf['OnTime_Pct'] = (route_perf['ADJUSTED_ONTIME_COUNT'] / route_perf['Total'] * 100).replace([np.inf, -np.inf], np.nan)\n",
    "route_perf = route_perf.dropna(subset=['OnTime_Pct'])\n",
    "\n",
    "best_route = route_perf['OnTime_Pct'].idxmax() if not route_perf.empty else 'N/A'\n",
    "worst_route = route_perf['OnTime_Pct'].idxmin() if not route_perf.empty else 'N/A'\n",
    "best_route_pct = route_perf.loc[best_route, 'OnTime_Pct'] if best_route in route_perf.index else np.nan\n",
    "worst_route_pct = route_perf.loc[worst_route, 'OnTime_Pct'] if worst_route in route_perf.index else np.nan\n",
    "\n",
    "# Day-of-week performance\n",
    "day_perf = (\n",
    "    wego_summary.groupby('DAY_OF_WEEK')\n",
    "    .agg({\n",
    "        'ADJUSTED_ONTIME_COUNT': 'sum',\n",
    "        'ADJUSTED_EARLY_COUNT': 'sum',\n",
    "        'ADJUSTED_LATE_COUNT': 'sum'\n",
    "    })\n",
    ")\n",
    "day_perf['Total'] = day_perf.sum(axis=1)\n",
    "day_perf['OnTime_Pct'] = (day_perf['ADJUSTED_ONTIME_COUNT'] / day_perf['Total'] * 100).replace([np.inf, -np.inf], np.nan)\n",
    "day_perf = day_perf.dropna(subset=['OnTime_Pct'])\n",
    "\n",
    "best_day = day_perf['OnTime_Pct'].idxmax() if not day_perf.empty else 'N/A'\n",
    "worst_day = day_perf['OnTime_Pct'].idxmin() if not day_perf.empty else 'N/A'\n",
    "\n",
    "# Operator performance range\n",
    "operator_perf = (\n",
    "    wego_summary.groupby('OPERATOR')\n",
    "    .agg({\n",
    "        'ADJUSTED_ONTIME_COUNT': 'sum',\n",
    "        'ADJUSTED_EARLY_COUNT': 'sum',\n",
    "        'ADJUSTED_LATE_COUNT': 'sum'\n",
    "    })\n",
    ")\n",
    "operator_perf['Total'] = operator_perf.sum(axis=1)\n",
    "operator_perf['OnTime_Pct'] = (operator_perf['ADJUSTED_ONTIME_COUNT'] / operator_perf['Total'] * 100).replace([np.inf, -np.inf], np.nan)\n",
    "operator_perf = operator_perf.dropna(subset=['OnTime_Pct'])\n",
    "op_perf_filtered = operator_perf[operator_perf['Total'] >= 50]['OnTime_Pct']\n",
    "\n",
    "operator_min = op_perf_filtered.min() if not op_perf_filtered.empty else np.nan\n",
    "operator_max = op_perf_filtered.max() if not op_perf_filtered.empty else np.nan\n",
    "\n",
    "# Correlation insight\n",
    "corr_value = wego_summary[['ADHERENCE', 'HDWY_DEV']].corr().iloc[0, 1] if {'ADHERENCE', 'HDWY_DEV'}.issubset(wego_summary.columns) else np.nan\n",
    "\n",
    "# Compose findings and recommendations text\n",
    "findings = [\n",
    "    f\"• Overall on-time performance sits at {overall_on_time_pct:.1f}% across {int(total_sum):,} trips.\",\n",
    "    f\"• Route spread ranges from {best_route} at {best_route_pct:.1f}% to {worst_route} at {worst_route_pct:.1f}% on-time.\" if not np.isnan(best_route_pct) else \"• Route performance shows meaningful variability across the network.\",\n",
    "    f\"• Late departures account for {(total_late_sum/total_sum*100):.1f}% of trips; early departures contribute {(total_early_sum/total_sum*100):.1f}%.\" if total_sum else \"• Late and early departures remain a measurable portion of total trips.\",\n",
    "    f\"• {best_day} leads weekly reliability while {worst_day} lags, signalling targeted scheduling opportunities.\" if best_day != 'N/A' and worst_day != 'N/A' else \"• Day-of-week patterns indicate peaks in reliability and stress periods worth deeper review.\",\n",
    "    f\"• Operator reliability spans {operator_min:.1f}%–{operator_max:.1f}% for those with 50+ trips.\" if not np.isnan(operator_min) else \"• High-volume operators exhibit varied reliability levels, suggesting room for coaching.\",\n",
    "    f\"• Adherence vs. headway deviation correlation: {corr_value:.2f}, reinforcing schedule control initiatives.\" if not np.isnan(corr_value) else \"• Headway and adherence data highlight alignment between spacing control and punctuality.\"\n",
    "]\n",
    "\n",
    "recommendations = [\n",
    "    \"1. Prioritize coaching for routes and operators consistently below 75% on-time performance.\",\n",
    "    \"2. Use dynamic dispatching on the most volatile days to stabilize headways.\",\n",
    "    \"3. Launch peak-period interventions (real-time alerts, standby vehicles) to cut late trip share.\",\n",
    "    \"4. Share playbooks from top-performing routes/operators to uplift the network median.\",\n",
    "    \"5. Conduct root-cause reviews on chronic late corridors and adjust schedules where demand warrants.\",\n",
    "    \"6. Integrate adherence-headway dashboards for field supervisors to react faster on the street.\"\n",
    "]\n",
    "\n",
    "# Export supporting table\n",
    "key_findings_table = pd.DataFrame({\n",
    "    'Metric': [\n",
    "        'Overall On-Time %',\n",
    "        'Total Trips',\n",
    "        'Best Route (On-Time %)',\n",
    "        'Worst Route (On-Time %)',\n",
    "        'Best Day (On-Time %)',\n",
    "        'Worst Day (On-Time %)',\n",
    "        'Late Trip Share %',\n",
    "        'Early Trip Share %',\n",
    "        'Operator Reliability Range %',\n",
    "        'Adherence vs Headway Corr'\n",
    "    ],\n",
    "    'Value': [\n",
    "        f\"{overall_on_time_pct:.1f}%\",\n",
    "        f\"{int(total_sum):,}\",\n",
    "        f\"{best_route} ({best_route_pct:.1f}%)\" if not np.isnan(best_route_pct) else 'N/A',\n",
    "        f\"{worst_route} ({worst_route_pct:.1f}%)\" if not np.isnan(worst_route_pct) else 'N/A',\n",
    "        f\"{best_day}\" if best_day != 'N/A' else 'N/A',\n",
    "        f\"{worst_day}\" if worst_day != 'N/A' else 'N/A',\n",
    "        f\"{(total_late_sum/total_sum*100):.1f}%\" if total_sum else 'N/A',\n",
    "        f\"{(total_early_sum/total_sum*100):.1f}%\" if total_sum else 'N/A',\n",
    "        f\"{operator_min:.1f}% – {operator_max:.1f}%\" if not np.isnan(operator_min) else 'N/A',\n",
    "        f\"{corr_value:.2f}\" if not np.isnan(corr_value) else 'N/A'\n",
    "    ]\n",
    "})\n",
    "key_findings_table.to_csv('output/tables/key_findings_summary.csv', index=False)\n",
    "\n",
    "# Build styled summary layout\n",
    "fig, ax = plt.subplots(figsize=(12, 10))\n",
    "ax.axis('off')\n",
    "ax.set_facecolor('white')\n",
    "\n",
    "# Helper for soft backgrounds\n",
    "def pill(ax, xy, width, height, color):\n",
    "    rect = plt.Rectangle(xy, width, height, color=color, transform=ax.transAxes, alpha=0.15, zorder=0)\n",
    "    ax.add_patch(rect)\n",
    "\n",
    "pill(ax, (0.02, 0.58), 0.96, 0.34, WEGO_COLORS['purple'])\n",
    "pill(ax, (0.02, 0.18), 0.96, 0.32, WEGO_COLORS['orange'])\n",
    "\n",
    "ax.text(0.5, 0.95, \"WeGo Bus Performance Analysis\", ha='center', va='top', fontsize=22, fontweight='bold', color=WEGO_COLORS['navy'])\n",
    "ax.text(0.5, 0.9, \"Key Findings & Recommendations\", ha='center', va='top', fontsize=16, color=WEGO_COLORS['slate'])\n",
    "\n",
    "ax.text(0.05, 0.88, \"KEY FINDINGS\", fontsize=15, fontweight='bold', color=WEGO_COLORS['purple'])\n",
    "y_pos = 0.83\n",
    "for finding in findings:\n",
    "    ax.text(0.07, y_pos, finding, fontsize=11.5, color=WEGO_COLORS['charcoal'])\n",
    "    y_pos -= 0.055\n",
    "\n",
    "ax.text(0.05, 0.38, \"RECOMMENDATIONS\", fontsize=15, fontweight='bold', color=WEGO_COLORS['orange'])\n",
    "y_pos = 0.33\n",
    "for rec in recommendations:\n",
    "    ax.text(0.07, y_pos, rec, fontsize=11.5, color=WEGO_COLORS['charcoal'])\n",
    "    y_pos -= 0.055\n",
    "\n",
    "ax.text(0.5, 0.08,\n",
    "        f\"Analysis Period: Aug 1 - Sep 30, 2023 | Routes Analyzed: {wego_summary['ROUTE_ABBR'].nunique()} | Operators: {wego_summary['OPERATOR'].nunique()}\",\n",
    "        ha='center', fontsize=9.5, color=WEGO_COLORS['slate'], style='italic')\n",
    "\n",
    "plt.tight_layout()\n",
    "plt.show()\n",
    "\n",
    "print(\"\\n✅ Key findings slide rendered. Exported summary table to output/tables/key_findings_summary.csv\")"
   ]
  },
  {
   "cell_type": "code",
   "execution_count": null,
   "id": "9c49c357",
   "metadata": {},
   "outputs": [
    {
     "data": {
      "application/vnd.plotly.v1+json": {
       "config": {
        "plotlyServerURL": "https://plot.ly"
       },
       "data": [
        {
         "fill": "toself",
         "name": "22",
         "r": [
          89.29649039225028,
          71.89813004347343,
          98.86189332400349,
          99.04413313982478,
          68.04101243416514
         ],
         "theta": [
          "On-Time %",
          "Volume (scaled)",
          "Adherence Score",
          "Headway Stability",
          "Consistency"
         ],
         "type": "scatterpolar"
        },
        {
         "fill": "toself",
         "name": "23",
         "r": [
          88.61120217890198,
          100,
          98.2398903776259,
          98.94643734763677,
          61.5975430821312
         ],
         "theta": [
          "On-Time %",
          "Volume (scaled)",
          "Adherence Score",
          "Headway Stability",
          "Consistency"
         ],
         "type": "scatterpolar"
        },
        {
         "fill": "toself",
         "name": "3",
         "r": [
          75.87935279634189,
          100,
          96.23850856307158,
          99.41909299010469,
          72.92045039456758
         ],
         "theta": [
          "On-Time %",
          "Volume (scaled)",
          "Adherence Score",
          "Headway Stability",
          "Consistency"
         ],
         "type": "scatterpolar"
        },
        {
         "fill": "toself",
         "name": "7",
         "r": [
          77.7031331441478,
          49.28795503655135,
          96.65344513436034,
          99.66319202107445,
          66.65123603385214
         ],
         "theta": [
          "On-Time %",
          "Volume (scaled)",
          "Adherence Score",
          "Headway Stability",
          "Consistency"
         ],
         "type": "scatterpolar"
        },
        {
         "fill": "toself",
         "name": "50",
         "r": [
          85.1744117854043,
          100,
          97.49497819289685,
          99.78762354988004,
          69.20167224835942
         ],
         "theta": [
          "On-Time %",
          "Volume (scaled)",
          "Adherence Score",
          "Headway Stability",
          "Consistency"
         ],
         "type": "scatterpolar"
        },
        {
         "fill": "toself",
         "name": "52",
         "r": [
          76.50171305775741,
          100,
          96.0286576089971,
          99.02522409088174,
          56.39133844361419
         ],
         "theta": [
          "On-Time %",
          "Volume (scaled)",
          "Adherence Score",
          "Headway Stability",
          "Consistency"
         ],
         "type": "scatterpolar"
        },
        {
         "fill": "toself",
         "name": "55",
         "r": [
          69.71619808147915,
          100,
          95.17669772403453,
          99.7389619359322,
          62.32454086376704
         ],
         "theta": [
          "On-Time %",
          "Volume (scaled)",
          "Adherence Score",
          "Headway Stability",
          "Consistency"
         ],
         "type": "scatterpolar"
        },
        {
         "fill": "toself",
         "name": "56",
         "r": [
          82.0373197625106,
          100,
          97.29601150839694,
          99.8507868567084,
          75.34495403188703
         ],
         "theta": [
          "On-Time %",
          "Volume (scaled)",
          "Adherence Score",
          "Headway Stability",
          "Consistency"
         ],
         "type": "scatterpolar"
        }
       ],
       "layout": {
        "height": 700,
        "polar": {
         "radialaxis": {
          "range": [
           0,
           100
          ],
          "visible": true
         }
        },
        "showlegend": true,
        "template": {
         "data": {
          "bar": [
           {
            "error_x": {
             "color": "#2a3f5f"
            },
            "error_y": {
             "color": "#2a3f5f"
            },
            "marker": {
             "line": {
              "color": "#E5ECF6",
              "width": 0.5
             },
             "pattern": {
              "fillmode": "overlay",
              "size": 10,
              "solidity": 0.2
             }
            },
            "type": "bar"
           }
          ],
          "barpolar": [
           {
            "marker": {
             "line": {
              "color": "#E5ECF6",
              "width": 0.5
             },
             "pattern": {
              "fillmode": "overlay",
              "size": 10,
              "solidity": 0.2
             }
            },
            "type": "barpolar"
           }
          ],
          "carpet": [
           {
            "aaxis": {
             "endlinecolor": "#2a3f5f",
             "gridcolor": "white",
             "linecolor": "white",
             "minorgridcolor": "white",
             "startlinecolor": "#2a3f5f"
            },
            "baxis": {
             "endlinecolor": "#2a3f5f",
             "gridcolor": "white",
             "linecolor": "white",
             "minorgridcolor": "white",
             "startlinecolor": "#2a3f5f"
            },
            "type": "carpet"
           }
          ],
          "choropleth": [
           {
            "colorbar": {
             "outlinewidth": 0,
             "ticks": ""
            },
            "type": "choropleth"
           }
          ],
          "contour": [
           {
            "colorbar": {
             "outlinewidth": 0,
             "ticks": ""
            },
            "colorscale": [
             [
              0,
              "#0d0887"
             ],
             [
              0.1111111111111111,
              "#46039f"
             ],
             [
              0.2222222222222222,
              "#7201a8"
             ],
             [
              0.3333333333333333,
              "#9c179e"
             ],
             [
              0.4444444444444444,
              "#bd3786"
             ],
             [
              0.5555555555555556,
              "#d8576b"
             ],
             [
              0.6666666666666666,
              "#ed7953"
             ],
             [
              0.7777777777777778,
              "#fb9f3a"
             ],
             [
              0.8888888888888888,
              "#fdca26"
             ],
             [
              1,
              "#f0f921"
             ]
            ],
            "type": "contour"
           }
          ],
          "contourcarpet": [
           {
            "colorbar": {
             "outlinewidth": 0,
             "ticks": ""
            },
            "type": "contourcarpet"
           }
          ],
          "heatmap": [
           {
            "colorbar": {
             "outlinewidth": 0,
             "ticks": ""
            },
            "colorscale": [
             [
              0,
              "#0d0887"
             ],
             [
              0.1111111111111111,
              "#46039f"
             ],
             [
              0.2222222222222222,
              "#7201a8"
             ],
             [
              0.3333333333333333,
              "#9c179e"
             ],
             [
              0.4444444444444444,
              "#bd3786"
             ],
             [
              0.5555555555555556,
              "#d8576b"
             ],
             [
              0.6666666666666666,
              "#ed7953"
             ],
             [
              0.7777777777777778,
              "#fb9f3a"
             ],
             [
              0.8888888888888888,
              "#fdca26"
             ],
             [
              1,
              "#f0f921"
             ]
            ],
            "type": "heatmap"
           }
          ],
          "heatmapgl": [
           {
            "colorbar": {
             "outlinewidth": 0,
             "ticks": ""
            },
            "colorscale": [
             [
              0,
              "#0d0887"
             ],
             [
              0.1111111111111111,
              "#46039f"
             ],
             [
              0.2222222222222222,
              "#7201a8"
             ],
             [
              0.3333333333333333,
              "#9c179e"
             ],
             [
              0.4444444444444444,
              "#bd3786"
             ],
             [
              0.5555555555555556,
              "#d8576b"
             ],
             [
              0.6666666666666666,
              "#ed7953"
             ],
             [
              0.7777777777777778,
              "#fb9f3a"
             ],
             [
              0.8888888888888888,
              "#fdca26"
             ],
             [
              1,
              "#f0f921"
             ]
            ],
            "type": "heatmapgl"
           }
          ],
          "histogram": [
           {
            "marker": {
             "pattern": {
              "fillmode": "overlay",
              "size": 10,
              "solidity": 0.2
             }
            },
            "type": "histogram"
           }
          ],
          "histogram2d": [
           {
            "colorbar": {
             "outlinewidth": 0,
             "ticks": ""
            },
            "colorscale": [
             [
              0,
              "#0d0887"
             ],
             [
              0.1111111111111111,
              "#46039f"
             ],
             [
              0.2222222222222222,
              "#7201a8"
             ],
             [
              0.3333333333333333,
              "#9c179e"
             ],
             [
              0.4444444444444444,
              "#bd3786"
             ],
             [
              0.5555555555555556,
              "#d8576b"
             ],
             [
              0.6666666666666666,
              "#ed7953"
             ],
             [
              0.7777777777777778,
              "#fb9f3a"
             ],
             [
              0.8888888888888888,
              "#fdca26"
             ],
             [
              1,
              "#f0f921"
             ]
            ],
            "type": "histogram2d"
           }
          ],
          "histogram2dcontour": [
           {
            "colorbar": {
             "outlinewidth": 0,
             "ticks": ""
            },
            "colorscale": [
             [
              0,
              "#0d0887"
             ],
             [
              0.1111111111111111,
              "#46039f"
             ],
             [
              0.2222222222222222,
              "#7201a8"
             ],
             [
              0.3333333333333333,
              "#9c179e"
             ],
             [
              0.4444444444444444,
              "#bd3786"
             ],
             [
              0.5555555555555556,
              "#d8576b"
             ],
             [
              0.6666666666666666,
              "#ed7953"
             ],
             [
              0.7777777777777778,
              "#fb9f3a"
             ],
             [
              0.8888888888888888,
              "#fdca26"
             ],
             [
              1,
              "#f0f921"
             ]
            ],
            "type": "histogram2dcontour"
           }
          ],
          "mesh3d": [
           {
            "colorbar": {
             "outlinewidth": 0,
             "ticks": ""
            },
            "type": "mesh3d"
           }
          ],
          "parcoords": [
           {
            "line": {
             "colorbar": {
              "outlinewidth": 0,
              "ticks": ""
             }
            },
            "type": "parcoords"
           }
          ],
          "pie": [
           {
            "automargin": true,
            "type": "pie"
           }
          ],
          "scatter": [
           {
            "fillpattern": {
             "fillmode": "overlay",
             "size": 10,
             "solidity": 0.2
            },
            "type": "scatter"
           }
          ],
          "scatter3d": [
           {
            "line": {
             "colorbar": {
              "outlinewidth": 0,
              "ticks": ""
             }
            },
            "marker": {
             "colorbar": {
              "outlinewidth": 0,
              "ticks": ""
             }
            },
            "type": "scatter3d"
           }
          ],
          "scattercarpet": [
           {
            "marker": {
             "colorbar": {
              "outlinewidth": 0,
              "ticks": ""
             }
            },
            "type": "scattercarpet"
           }
          ],
          "scattergeo": [
           {
            "marker": {
             "colorbar": {
              "outlinewidth": 0,
              "ticks": ""
             }
            },
            "type": "scattergeo"
           }
          ],
          "scattergl": [
           {
            "marker": {
             "colorbar": {
              "outlinewidth": 0,
              "ticks": ""
             }
            },
            "type": "scattergl"
           }
          ],
          "scattermapbox": [
           {
            "marker": {
             "colorbar": {
              "outlinewidth": 0,
              "ticks": ""
             }
            },
            "type": "scattermapbox"
           }
          ],
          "scatterpolar": [
           {
            "marker": {
             "colorbar": {
              "outlinewidth": 0,
              "ticks": ""
             }
            },
            "type": "scatterpolar"
           }
          ],
          "scatterpolargl": [
           {
            "marker": {
             "colorbar": {
              "outlinewidth": 0,
              "ticks": ""
             }
            },
            "type": "scatterpolargl"
           }
          ],
          "scatterternary": [
           {
            "marker": {
             "colorbar": {
              "outlinewidth": 0,
              "ticks": ""
             }
            },
            "type": "scatterternary"
           }
          ],
          "surface": [
           {
            "colorbar": {
             "outlinewidth": 0,
             "ticks": ""
            },
            "colorscale": [
             [
              0,
              "#0d0887"
             ],
             [
              0.1111111111111111,
              "#46039f"
             ],
             [
              0.2222222222222222,
              "#7201a8"
             ],
             [
              0.3333333333333333,
              "#9c179e"
             ],
             [
              0.4444444444444444,
              "#bd3786"
             ],
             [
              0.5555555555555556,
              "#d8576b"
             ],
             [
              0.6666666666666666,
              "#ed7953"
             ],
             [
              0.7777777777777778,
              "#fb9f3a"
             ],
             [
              0.8888888888888888,
              "#fdca26"
             ],
             [
              1,
              "#f0f921"
             ]
            ],
            "type": "surface"
           }
          ],
          "table": [
           {
            "cells": {
             "fill": {
              "color": "#EBF0F8"
             },
             "line": {
              "color": "white"
             }
            },
            "header": {
             "fill": {
              "color": "#C8D4E3"
             },
             "line": {
              "color": "white"
             }
            },
            "type": "table"
           }
          ]
         },
         "layout": {
          "annotationdefaults": {
           "arrowcolor": "#2a3f5f",
           "arrowhead": 0,
           "arrowwidth": 1
          },
          "autotypenumbers": "strict",
          "coloraxis": {
           "colorbar": {
            "outlinewidth": 0,
            "ticks": ""
           }
          },
          "colorscale": {
           "diverging": [
            [
             0,
             "#8e0152"
            ],
            [
             0.1,
             "#c51b7d"
            ],
            [
             0.2,
             "#de77ae"
            ],
            [
             0.3,
             "#f1b6da"
            ],
            [
             0.4,
             "#fde0ef"
            ],
            [
             0.5,
             "#f7f7f7"
            ],
            [
             0.6,
             "#e6f5d0"
            ],
            [
             0.7,
             "#b8e186"
            ],
            [
             0.8,
             "#7fbc41"
            ],
            [
             0.9,
             "#4d9221"
            ],
            [
             1,
             "#276419"
            ]
           ],
           "sequential": [
            [
             0,
             "#0d0887"
            ],
            [
             0.1111111111111111,
             "#46039f"
            ],
            [
             0.2222222222222222,
             "#7201a8"
            ],
            [
             0.3333333333333333,
             "#9c179e"
            ],
            [
             0.4444444444444444,
             "#bd3786"
            ],
            [
             0.5555555555555556,
             "#d8576b"
            ],
            [
             0.6666666666666666,
             "#ed7953"
            ],
            [
             0.7777777777777778,
             "#fb9f3a"
            ],
            [
             0.8888888888888888,
             "#fdca26"
            ],
            [
             1,
             "#f0f921"
            ]
           ],
           "sequentialminus": [
            [
             0,
             "#0d0887"
            ],
            [
             0.1111111111111111,
             "#46039f"
            ],
            [
             0.2222222222222222,
             "#7201a8"
            ],
            [
             0.3333333333333333,
             "#9c179e"
            ],
            [
             0.4444444444444444,
             "#bd3786"
            ],
            [
             0.5555555555555556,
             "#d8576b"
            ],
            [
             0.6666666666666666,
             "#ed7953"
            ],
            [
             0.7777777777777778,
             "#fb9f3a"
            ],
            [
             0.8888888888888888,
             "#fdca26"
            ],
            [
             1,
             "#f0f921"
            ]
           ]
          },
          "colorway": [
           "#636efa",
           "#EF553B",
           "#00cc96",
           "#ab63fa",
           "#FFA15A",
           "#19d3f3",
           "#FF6692",
           "#B6E880",
           "#FF97FF",
           "#FECB52"
          ],
          "font": {
           "color": "#2a3f5f"
          },
          "geo": {
           "bgcolor": "white",
           "lakecolor": "white",
           "landcolor": "#E5ECF6",
           "showlakes": true,
           "showland": true,
           "subunitcolor": "white"
          },
          "hoverlabel": {
           "align": "left"
          },
          "hovermode": "closest",
          "mapbox": {
           "style": "light"
          },
          "paper_bgcolor": "white",
          "plot_bgcolor": "#E5ECF6",
          "polar": {
           "angularaxis": {
            "gridcolor": "white",
            "linecolor": "white",
            "ticks": ""
           },
           "bgcolor": "#E5ECF6",
           "radialaxis": {
            "gridcolor": "white",
            "linecolor": "white",
            "ticks": ""
           }
          },
          "scene": {
           "xaxis": {
            "backgroundcolor": "#E5ECF6",
            "gridcolor": "white",
            "gridwidth": 2,
            "linecolor": "white",
            "showbackground": true,
            "ticks": "",
            "zerolinecolor": "white"
           },
           "yaxis": {
            "backgroundcolor": "#E5ECF6",
            "gridcolor": "white",
            "gridwidth": 2,
            "linecolor": "white",
            "showbackground": true,
            "ticks": "",
            "zerolinecolor": "white"
           },
           "zaxis": {
            "backgroundcolor": "#E5ECF6",
            "gridcolor": "white",
            "gridwidth": 2,
            "linecolor": "white",
            "showbackground": true,
            "ticks": "",
            "zerolinecolor": "white"
           }
          },
          "shapedefaults": {
           "line": {
            "color": "#2a3f5f"
           }
          },
          "ternary": {
           "aaxis": {
            "gridcolor": "white",
            "linecolor": "white",
            "ticks": ""
           },
           "baxis": {
            "gridcolor": "white",
            "linecolor": "white",
            "ticks": ""
           },
           "bgcolor": "#E5ECF6",
           "caxis": {
            "gridcolor": "white",
            "linecolor": "white",
            "ticks": ""
           }
          },
          "title": {
           "x": 0.05
          },
          "xaxis": {
           "automargin": true,
           "gridcolor": "white",
           "linecolor": "white",
           "ticks": "",
           "title": {
            "standoff": 15
           },
           "zerolinecolor": "white",
           "zerolinewidth": 2
          },
          "yaxis": {
           "automargin": true,
           "gridcolor": "white",
           "linecolor": "white",
           "ticks": "",
           "title": {
            "standoff": 15
           },
           "zerolinecolor": "white",
           "zerolinewidth": 2
          }
         }
        },
        "title": {
         "text": "Slide 11: Route Performance Radar Chart"
        },
        "width": 900
       }
      }
     },
     "metadata": {},
     "output_type": "display_data"
    }
   ],
   "source": [
    "# 10. RADAR CHART - Route Performance Metrics\n",
    "radar_metrics = []\n",
    "\n",
    "for route_id in wego['ROUTE_ABBR'].unique():\n",
    "    route_df = wego[wego['ROUTE_ABBR'] == route_id]\n",
    "    \n",
    "    ontime_r = route_df['ADJUSTED_ONTIME_COUNT'].sum()\n",
    "    total_r = ontime_r + route_df['ADJUSTED_EARLY_COUNT'].sum() + route_df['ADJUSTED_LATE_COUNT'].sum()\n",
    "    \n",
    "    metrics = {\n",
    "        'Route': str(route_id),\n",
    "        'On-Time %': (ontime_r / total_r * 100) if total_r > 0 else 0,\n",
    "        'Volume (scaled)': min(100, (total_r / wego.shape[0]) * 1000),\n",
    "        'Adherence Score': 100 - abs(route_df['ADHERENCE'].mean()),\n",
    "        'Headway Stability': 100 - abs(route_df['HDWY_DEV'].mean()),\n",
    "        'Consistency': route_df['ADHERENCE'].std() if len(route_df) > 1 else 0\n",
    "    }\n",
    "    metrics['Consistency'] = 100 - min(100, metrics['Consistency'] * 5)\n",
    "    \n",
    "    radar_metrics.append(metrics)\n",
    "\n",
    "radar_df = pd.DataFrame(radar_metrics)\n",
    "categories = ['On-Time %', 'Volume (scaled)', 'Adherence Score', 'Headway Stability', 'Consistency']\n",
    "\n",
    "fig = go.Figure()\n",
    "\n",
    "for idx, row in radar_df.iterrows():\n",
    "    fig.add_trace(go.Scatterpolar(\n",
    "        r=[row[cat] for cat in categories],\n",
    "        theta=categories,\n",
    "        fill='toself',\n",
    "        name=row['Route']\n",
    "    ))\n",
    "\n",
    "fig.update_layout(\n",
    "    polar=dict(radialaxis=dict(visible=True, range=[0, 100])),\n",
    "    showlegend=True,\n",
    "    title='Slide 11: Route Performance Radar Chart',\n",
    "    width=900,\n",
    "    height=700\n",
    ")\n",
    "fig.show()"
   ]
  },
  {
   "cell_type": "code",
   "execution_count": null,
   "id": "be23a2a9",
   "metadata": {},
   "outputs": [],
   "source": [
    "# 8. SCATTER MATRIX - Multi-Dimensional Performance Analysis\n",
    "scatter_data = wego[['ADHERENCE', 'HDWY_DEV', 'ADJUSTED_ONTIME_COUNT']].dropna()\n",
    "scatter_data = scatter_data.sample(n=min(5000, len(scatter_data)), random_state=42)\n",
    "scatter_data['OnTime'] = scatter_data['ADJUSTED_ONTIME_COUNT'].apply(lambda x: 'Yes' if x > 0 else 'No')\n",
    "\n",
    "fig = px.scatter_matrix(\n",
    "    scatter_data,\n",
    "    dimensions=['ADHERENCE', 'HDWY_DEV'],\n",
    "    color='OnTime',\n",
    "    color_discrete_map={'Yes': WEGO_COLORS['green'], 'No': WEGO_COLORS['orange']},\n",
    "    title='Slide 9: Multi-Dimensional Performance Analysis'\n",
    ")\n",
    "fig.update_traces(diagonal_visible=False, showupperhalf=False)\n",
    "fig.update_layout(font=dict(color=WEGO_COLORS['slate']))\n",
    "fig.show()"
   ]
  },
  {
   "cell_type": "code",
   "execution_count": null,
   "id": "fa66e008",
   "metadata": {},
   "outputs": [
    {
     "data": {
      "image/png": "[encoded data removed]",
      "text/plain": [
       "<Figure size 1000x600 with 1 Axes>"
      ]
     },
     "metadata": {},
     "output_type": "display_data"
    }
   ],
   "source": [
    "# 7. VIOLIN PLOT - Operator Performance Distribution\n",
    "op = operator[operator['Total']>=50].copy()\n",
    "\n",
    "plt.figure(figsize=(10,6))\n",
    "sns.violinplot(x=op['OnTime_Pct'], color=WEGO_COLORS['purple'])\n",
    "plt.xlabel('On-Time %')\n",
    "plt.title('Slide 8: Operator On-Time % Distribution (50+ records)', color=WEGO_COLORS['navy'])\n",
    "plt.tight_layout()\n",
    "plt.show()"
   ]
  },
  {
   "cell_type": "code",
   "execution_count": null,
   "id": "e647bc42",
   "metadata": {},
   "outputs": [],
   "source": [
    "# 2. HEATMAP - Temporal Performance by Day and Hour\n",
    "wego['DATE'] = pd.to_datetime(wego['DATE'])\n",
    "wego['DAY_OF_WEEK'] = wego['DATE'].dt.day_name()\n",
    "wego['SCHEDULED_TIME'] = pd.to_datetime(wego['SCHEDULED_TIME'])\n",
    "wego['HOUR'] = wego['SCHEDULED_TIME'].dt.hour\n",
    "\n",
    "day_order = ['Monday','Tuesday','Wednesday','Thursday','Friday','Saturday','Sunday']\n",
    "heat = wego.groupby(['DAY_OF_WEEK','HOUR']).agg({\n",
    "    'ADJUSTED_ONTIME_COUNT':'sum',\n",
    "    'ADJUSTED_EARLY_COUNT':'sum',\n",
    "    'ADJUSTED_LATE_COUNT':'sum'\n",
    "}).reset_index()\n",
    "heat['Total'] = heat['ADJUSTED_ONTIME_COUNT'] + heat['ADJUSTED_EARLY_COUNT'] + heat['ADJUSTED_LATE_COUNT']\n",
    "heat['OnTime_Pct'] = (heat['ADJUSTED_ONTIME_COUNT'] / heat['Total']) * 100\n",
    "heat_pivot = heat.pivot(index='DAY_OF_WEEK', columns='HOUR', values='OnTime_Pct').reindex(day_order)\n",
    "\n",
    "plt.figure(figsize=(14,5))\n",
    "sns.heatmap(heat_pivot, cmap=WEGO_HEATMAP_CMAP, vmin=0, vmax=100, linewidths=.4, linecolor=WEGO_COLORS['charcoal'],\n",
    "            cbar_kws={'label': 'On-Time %', 'shrink': 0.8})\n",
    "plt.title('Slide 3: On-Time % by Day of Week and Hour', color=WEGO_COLORS['navy'])\n",
    "plt.ylabel('Day of Week')\n",
    "plt.xlabel('Hour of Day')\n",
    "plt.tight_layout()\n",
    "plt.show()"
   ]
  },
  {
   "cell_type": "markdown",
   "id": "4257dcd4",
   "metadata": {},
   "source": [
    "## Installation Requirements\n",
    "\n",
    "First, install kaleido for saving Plotly figures as static images."
   ]
  },
  {
   "cell_type": "markdown",
   "id": "9c67cc8a",
   "metadata": {},
   "source": [
    "# WeGo Performance Slides Notebook\n",
    "\n",
    "This notebook creates publication-quality visuals following the slide outline and exports images to `output/` and summary tables to `output/tables/`.\n",
    "\n",
    "Visuals included: gauge, temporal heatmap, operator treemap, performance trend area chart, sankey flow, route bubble chart, operator violin, scatter matrix, sunburst, radar, waterfall."
   ]
  },
  {
   "cell_type": "code",
   "execution_count": null,
   "id": "c1bc5eb2",
   "metadata": {},
   "outputs": [],
   "source": [
    "import os\n",
    "import pandas as pd\n",
    "import numpy as np\n",
    "import matplotlib.pyplot as plt\n",
    "import seaborn as sns\n",
    "import plotly.express as px\n",
    "import plotly.graph_objects as go\n",
    "from plotly.subplots import make_subplots\n",
    "from matplotlib.colors import LinearSegmentedColormap\n",
    "\n",
    "# Create output directories\n",
    "os.makedirs('output/tables', exist_ok=True)\n",
    "os.makedirs('output/images', exist_ok=True)\n",
    "os.makedirs('output/pdf', exist_ok=True)\n",
    "\n",
    "pd.set_option('display.max_columns', None)\n",
    "sns.set_theme(style='whitegrid')\n",
    "\n",
    "# Configuration: Set to True to save PDFs in addition to PNGs\n",
    "SAVE_PDF = True\n",
    "\n",
    "# Load data\n",
    "wego = pd.read_csv('data/Headway Data, 8-1-2023 to 9-30-2023.csv')\n",
    "print(f\"Loaded dataset with shape: {wego.shape}\")\n",
    "print(f\"PDF export enabled: {SAVE_PDF}\")"
   ]
  },
  {
   "cell_type": "markdown",
   "id": "0c4cf9bf",
   "metadata": {},
   "source": [
    "## Helper Functions for Saving Visualizations"
   ]
  },
  {
   "cell_type": "markdown",
   "id": "24b241f0",
   "metadata": {},
   "source": [
    "## Pre-calculate summary tables used across multiple visuals"
   ]
  },
  {
   "cell_type": "code",
   "execution_count": null,
   "id": "63130936",
   "metadata": {},
   "outputs": [],
   "source": [
    "# Overall counts (using adjusted counts)\n",
    "ontime = wego['ADJUSTED_ONTIME_COUNT'].sum()\n",
    "early = wego['ADJUSTED_EARLY_COUNT'].sum()\n",
    "late = wego['ADJUSTED_LATE_COUNT'].sum()\n",
    "total = ontime + early + late\n",
    "summary = pd.DataFrame({\n",
    "    'Category': ['On-Time', 'Early', 'Late'],\n",
    "    'Count': [ontime, early, late],\n",
    "    'Pct': [(ontime/total)*100, (early/total)*100, (late/total)*100]\n",
    "})\n",
    "summary.to_csv('output/tables/overall_performance.csv', index=False)\n",
    "print(summary)"
   ]
  },
  {
   "cell_type": "markdown",
   "id": "a0c3c377",
   "metadata": {},
   "source": [
    "## Slide 2: Overall Performance Gauge\n",
    "A gauge showing 79.69% on-time with zones for good/ok/poor performance. We'll produce a Plotly gauge and save as PNG (requires kaleido)."
   ]
  },
  {
   "cell_type": "code",
   "execution_count": null,
   "id": "bdf9c686",
   "metadata": {},
   "outputs": [],
   "source": [
    "fig = go.Figure(go.Indicator(\n",
    "    mode=\"gauge+number+delta\",\n",
    "    value=(ontime/total)*100,\n",
    "    delta={'reference': 80, 'suffix': '%'},\n",
    "    title={'text': \"System On-Time Performance (%)\"},\n",
    "    gauge={\n",
    "        'axis': {'range': [0, 100]},\n",
    "        'bar': {'color': '#2ECC71'},\n",
    "        'steps': [\n",
    "            {'range': [0, 70], 'color': '#E74C3C'},\n",
    "            {'range': [70, 80], 'color': '#F39C12'},\n",
    "            {'range': [80, 100], 'color': '#2ECC71'}\n",
    "        ],\n",
    "        'threshold': {\n",
    "            'line': {'color': \"red\", 'width': 4},\n",
    "            'thickness': 0.75,\n",
    "            'value': 80\n",
    "        }\n",
    "    }\n",
    "))\n",
    "fig.update_layout(\n",
    "    height=500,\n",
    "    width=600,\n",
    "    margin={'t': 50, 'b': 20, 'l': 20, 'r': 20},\n",
    "    font={'size': 14}\n",
    ")\n",
    "# Save as PNG and PDF\n",
    "save_plotly_figure(fig, 'gauge_ontime')"
   ]
  },
  {
   "cell_type": "markdown",
   "id": "3818d4e2",
   "metadata": {},
   "source": [
    "## Slide 3: Temporal Performance Heatmap\n",
    "Heatmap of on-time percentage by day of week and hour of day."
   ]
  },
  {
   "cell_type": "code",
   "execution_count": null,
   "id": "ecfe852e",
   "metadata": {},
   "outputs": [],
   "source": [
    "wego['DATE'] = pd.to_datetime(wego['DATE'])\n",
    "wego['DAY_OF_WEEK'] = wego['DATE'].dt.day_name()\n",
    "wego['SCHEDULED_TIME'] = pd.to_datetime(wego['SCHEDULED_TIME'])\n",
    "wego['HOUR'] = wego['SCHEDULED_TIME'].dt.hour\n",
    "\n",
    "day_order = ['Monday','Tuesday','Wednesday','Thursday','Friday','Saturday','Sunday']\n",
    "heat = wego.groupby(['DAY_OF_WEEK','HOUR']).agg({\n",
    "    'ADJUSTED_ONTIME_COUNT':'sum',\n",
    "    'ADJUSTED_EARLY_COUNT':'sum',\n",
    "    'ADJUSTED_LATE_COUNT':'sum'\n",
    "}).reset_index()\n",
    "heat['Total'] = heat['ADJUSTED_ONTIME_COUNT'] + heat['ADJUSTED_EARLY_COUNT'] + heat['ADJUSTED_LATE_COUNT']\n",
    "heat['OnTime_Pct'] = (heat['ADJUSTED_ONTIME_COUNT'] / heat['Total']) * 100\n",
    "heat_pivot = heat.pivot(index='DAY_OF_WEEK', columns='HOUR', values='OnTime_Pct').reindex(day_order)\n",
    "heat_pivot.to_csv('output/tables/heatmap_by_day_hour.csv')\n",
    "plt.figure(figsize=(14,5))\n",
    "sns.heatmap(heat_pivot, cmap='YlGnBu', vmin=0, vmax=100, linewidths=.5, linecolor='gray')\n",
    "plt.title('On-Time % by Day of Week and Hour')\n",
    "plt.ylabel('Day of Week')\n",
    "plt.xlabel('Hour of Day')\n",
    "plt.tight_layout()\n",
    "save_matplotlib_figure('heatmap_day_hour')"
   ]
  },
  {
   "cell_type": "markdown",
   "id": "da4abef9",
   "metadata": {},
   "source": [
    "## Slide 4: Operator Performance Treemap\n",
    "Treemap sized by trip volume and colored by on-time percentage. We'll limit to top 100 operators for clarity."
   ]
  },
  {
   "cell_type": "code",
   "execution_count": null,
   "id": "92e71ed8",
   "metadata": {},
   "outputs": [],
   "source": [
    "operator = wego.groupby('OPERATOR').agg({\n",
    "    'ADJUSTED_ONTIME_COUNT':'sum',\n",
    "    'ADJUSTED_EARLY_COUNT':'sum',\n",
    "    'ADJUSTED_LATE_COUNT':'sum'\n",
    "}).reset_index()\n",
    "operator['Total'] = operator[['ADJUSTED_ONTIME_COUNT','ADJUSTED_EARLY_COUNT','ADJUSTED_LATE_COUNT']].sum(axis=1)\n",
    "operator['OnTime_Pct'] = (operator['ADJUSTED_ONTIME_COUNT'] / operator['Total'])*100\n",
    "operator_top = operator.nlargest(100, 'Total')\n",
    "operator_top.to_csv('output/tables/operator_treemap_top100.csv', index=False)\n",
    "fig = px.treemap(operator_top, path=['OPERATOR'], values='Total', color='OnTime_Pct',\n",
    "                 color_continuous_scale='RdYlGn',\n",
    "                 title='Operator Performance (Top 100 by Volume)')\n",
    "fig.update_layout(margin={'t':40,'l':0,'r':0,'b':0})\n",
    "save_plotly_figure(fig, 'operator_treemap_top100')"
   ]
  },
  {
   "cell_type": "markdown",
   "id": "f36835dc",
   "metadata": {},
   "source": [
    "## Slide 5: Performance Trend Area Chart\n",
    "Stacked area chart showing cumulative on-time/early/late percentages over the analysis period."
   ]
  },
  {
   "cell_type": "code",
   "execution_count": null,
   "id": "d9004182",
   "metadata": {},
   "outputs": [],
   "source": [
    "daily = wego.groupby('DATE').agg({\n",
    "    'ADJUSTED_ONTIME_COUNT':'sum',\n",
    "    'ADJUSTED_EARLY_COUNT':'sum',\n",
    "    'ADJUSTED_LATE_COUNT':'sum'\n",
    "}).reset_index()\n",
    "daily['Total'] = daily[['ADJUSTED_ONTIME_COUNT','ADJUSTED_EARLY_COUNT','ADJUSTED_LATE_COUNT']].sum(axis=1)\n",
    "daily['OnTime_Pct'] = (daily['ADJUSTED_ONTIME_COUNT']/daily['Total'])*100\n",
    "daily['Early_Pct'] = (daily['ADJUSTED_EARLY_COUNT']/daily['Total'])*100\n",
    "daily['Late_Pct'] = (daily['ADJUSTED_LATE_COUNT']/daily['Total'])*100\n",
    "daily.to_csv('output/tables/daily_trend_pct.csv', index=False)\n",
    "plt.figure(figsize=(14,5))\n",
    "plt.stackplot(pd.to_datetime(daily['DATE']), daily['OnTime_Pct'], daily['Early_Pct'], daily['Late_Pct'],\n",
    "              labels=['OnTime','Early','Late'], colors=['#2ECC71','#3498DB','#E74C3C'])\n",
    "plt.legend(loc='upper left')\n",
    "plt.title('Stacked Performance Over Time (Pct)')\n",
    "plt.xlabel('Date')\n",
    "plt.ylabel('Percent')\n",
    "plt.tight_layout()\n",
    "save_matplotlib_figure('performance_trend_area')"
   ]
  },
  {
   "cell_type": "markdown",
   "id": "9ba32a84",
   "metadata": {},
   "source": [
    "## Slide 6: Performance Flow (Sankey)\n",
    "Sankey from route -> direction -> outcome (OnTime/Early/Late)."
   ]
  },
  {
   "cell_type": "code",
   "execution_count": null,
   "id": "71339846",
   "metadata": {},
   "outputs": [],
   "source": [
    "# Build sankey nodes and links\n",
    "wego['Outcome'] = np.where(wego['ADJUSTED_ONTIME_COUNT']>0, 'OnTime', \n",
    "                       np.where(wego['ADJUSTED_EARLY_COUNT']>0, 'Early', 'Late'))\n",
    "sank = wego.groupby(['ROUTE_ABBR','ROUTE_DIRECTION_NAME','Outcome']).size().reset_index(name='Count')\n",
    "# create nodes list\n",
    "routes = sank['ROUTE_ABBR'].unique().tolist()\n",
    "dirs = sank['ROUTE_DIRECTION_NAME'].unique().tolist()\n",
    "outs = ['OnTime','Early','Late']\n",
    "nodes = routes + dirs + outs\n",
    "node_idx = {n:i for i,n in enumerate(nodes)}\n",
    "# links route -> dir\n",
    "links = []\n",
    "for _,r in sank.groupby(['ROUTE_ABBR','ROUTE_DIRECTION_NAME']):\n",
    "    pass\n",
    "# Build aggregated links route->dir\n",
    "route_dir = wego.groupby(['ROUTE_ABBR','ROUTE_DIRECTION_NAME']).size().reset_index(name='Count')\n",
    "rd_sources = [node_idx[r] for r in route_dir['ROUTE_ABBR']]\n",
    "rd_targets = [node_idx[d] for d in route_dir['ROUTE_DIRECTION_NAME']]\n",
    "rd_values = route_dir['Count'].tolist()\n",
    "# Build dir->out\n",
    "dir_out = sank.groupby(['ROUTE_DIRECTION_NAME','Outcome'])['Count'].sum().reset_index()\n",
    "do_sources = [node_idx[d] for d in dir_out['ROUTE_DIRECTION_NAME']]\n",
    "do_targets = [node_idx[o] for o in dir_out['Outcome']]\n",
    "do_values = dir_out['Count'].tolist()\n",
    "# combine\n",
    "sources = rd_sources + do_sources\n",
    "targets = rd_targets + do_targets\n",
    "values = rd_values + do_values\n",
    "fig = go.Figure(data=[go.Sankey(node={'pad':15,'thickness':20,'label':nodes},\n",
    "                                 link={'source':sources,'target':targets,'value':values})])\n",
    "fig.update_layout(title_text='Route -> Direction -> Outcome Sankey', font_size=10)\n",
    "save_plotly_figure(fig, 'sankey_route_dir_outcome')"
   ]
  },
  {
   "cell_type": "markdown",
   "id": "0d05084d",
   "metadata": {},
   "source": [
    "## Slide 7: Route Bubble Chart\n",
    "Bubble chart of routes sized by trip volume, x=OnTime%, y=mean HDWY_DEV."
   ]
  },
  {
   "cell_type": "code",
   "execution_count": null,
   "id": "95f8b640",
   "metadata": {},
   "outputs": [],
   "source": [
    "route = wego.groupby('ROUTE_ABBR').agg({\n",
    "    'ADJUSTED_ONTIME_COUNT':'sum',\n",
    "    'ADJUSTED_EARLY_COUNT':'sum',\n",
    "    'ADJUSTED_LATE_COUNT':'sum',\n",
    "    'HDWY_DEV':'mean'\n",
    "}).reset_index()\n",
    "route['Total'] = route[['ADJUSTED_ONTIME_COUNT','ADJUSTED_EARLY_COUNT','ADJUSTED_LATE_COUNT']].sum(axis=1)\n",
    "route['OnTime_Pct'] = (route['ADJUSTED_ONTIME_COUNT']/route['Total'])*100\n",
    "route.to_csv('output/tables/route_bubble.csv', index=False)\n",
    "fig = px.scatter(route, x='OnTime_Pct', y='HDWY_DEV', size='Total', color='OnTime_Pct', hover_name='ROUTE_ABBR',\n",
    "                 color_continuous_scale='RdYlGn', title='Route Performance Bubble Chart')\n",
    "fig.update_layout(xaxis_title='On-Time %', yaxis_title='Mean Headway Deviation (min)')\n",
    "save_plotly_figure(fig, 'route_bubble')"
   ]
  },
  {
   "cell_type": "markdown",
   "id": "7234f6b1",
   "metadata": {},
   "source": [
    "## Slide 8: Operator Performance Distribution (Violin)\n",
    "Violin plot of operator on-time percentages for operators with >=50 records."
   ]
  },
  {
   "cell_type": "code",
   "execution_count": null,
   "id": "878bed1f",
   "metadata": {},
   "outputs": [],
   "source": [
    "op = operator.copy()\n",
    "op = op[op['Total']>=50].copy()\n",
    "op.to_csv('output/tables/operator_onetime_pct_50plus.csv', index=False)\n",
    "plt.figure(figsize=(10,6))\n",
    "sns.violinplot(x=op['OnTime_Pct'], color='#9B59B6')\n",
    "plt.xlabel('On-Time %')\n",
    "plt.title('Operator On-Time % Distribution (50+ records)')\n",
    "plt.tight_layout()\n",
    "save_matplotlib_figure('operator_violin_50plus')"
   ]
  },
  {
   "cell_type": "markdown",
   "id": "3c85442c",
   "metadata": {},
   "source": [
    "## Slide 9: Multi-Dimensional Performance Analysis (Scatter Matrix)\n",
    "\n",
    "Scatter plot matrix showing relationships between adherence, headway deviation, and on-time percentage."
   ]
  },
  {
   "cell_type": "code",
   "execution_count": null,
   "id": "c892efd2",
   "metadata": {},
   "outputs": [],
   "source": [
    "# Create scatter matrix data - sample for performance\n",
    "scatter_data = wego[['ADHERENCE', 'HDWY_DEV', 'ADJUSTED_ONTIME_COUNT']].dropna()\n",
    "scatter_data = scatter_data.sample(n=min(5000, len(scatter_data)), random_state=42)\n",
    "scatter_data['OnTime'] = scatter_data['ADJUSTED_ONTIME_COUNT'].apply(lambda x: 'Yes' if x > 0 else 'No')\n",
    "\n",
    "# Save sample data\n",
    "scatter_data.to_csv('output/tables/scatter_matrix_sample.csv', index=False)\n",
    "\n",
    "# Create scatter matrix using plotly\n",
    "fig = px.scatter_matrix(scatter_data, \n",
    "                        dimensions=['ADHERENCE', 'HDWY_DEV'],\n",
    "                        color='OnTime',\n",
    "                        color_discrete_map={'Yes': '#2ECC71', 'No': '#E74C3C'},\n",
    "                        title='Multi-Dimensional Performance Analysis')\n",
    "fig.update_traces(diagonal_visible=False, showupperhalf=False)\n",
    "save_plotly_figure(fig, 'scatter_matrix')"
   ]
  },
  {
   "cell_type": "markdown",
   "id": "834df743",
   "metadata": {},
   "source": [
    "## Slide 10: Hierarchical Performance Breakdown (Sunburst)\n",
    "\n",
    "Sunburst chart showing hierarchical breakdown of performance by route, direction, and outcome."
   ]
  },
  {
   "cell_type": "code",
   "execution_count": null,
   "id": "0f3196f0",
   "metadata": {},
   "outputs": [],
   "source": [
    "# Calculate hierarchical performance by route -> direction -> outcome\n",
    "sunburst_data = []\n",
    "\n",
    "for route in wego['ROUTE_ABBR'].unique():\n",
    "    route_df = wego[wego['ROUTE_ABBR'] == route]\n",
    "    \n",
    "    for direction in route_df['DIRECTION'].unique():\n",
    "        dir_df = route_df[route_df['DIRECTION'] == direction]\n",
    "        \n",
    "        ontime = dir_df['ADJUSTED_ONTIME_COUNT'].sum()\n",
    "        early = dir_df['ADJUSTED_EARLY_COUNT'].sum()\n",
    "        late = dir_df['ADJUSTED_LATE_COUNT'].sum()\n",
    "        \n",
    "        if ontime > 0:\n",
    "            sunburst_data.append({\n",
    "                'route': str(route),\n",
    "                'direction': direction,\n",
    "                'outcome': 'On-Time',\n",
    "                'count': ontime\n",
    "            })\n",
    "        if early > 0:\n",
    "            sunburst_data.append({\n",
    "                'route': str(route),\n",
    "                'direction': direction,\n",
    "                'outcome': 'Early',\n",
    "                'count': early\n",
    "            })\n",
    "        if late > 0:\n",
    "            sunburst_data.append({\n",
    "                'route': str(route),\n",
    "                'direction': direction,\n",
    "                'outcome': 'Late',\n",
    "                'count': late\n",
    "            })\n",
    "\n",
    "sunburst_df = pd.DataFrame(sunburst_data)\n",
    "sunburst_df.to_csv('output/tables/sunburst_hierarchy.csv', index=False)\n",
    "\n",
    "# Create sunburst chart\n",
    "fig = px.sunburst(sunburst_df, \n",
    "                  path=['route', 'direction', 'outcome'],\n",
    "                  values='count',\n",
    "                  color='outcome',\n",
    "                  color_discrete_map={'On-Time': '#2ECC71', 'Early': '#3498DB', 'Late': '#E74C3C'},\n",
    "                  title='Hierarchical Performance Breakdown')\n",
    "fig.update_layout(width=900, height=700)\n",
    "save_plotly_figure(fig, 'sunburst_hierarchy')"
   ]
  },
  {
   "cell_type": "markdown",
   "id": "ad385811",
   "metadata": {},
   "source": [
    "## Slide 11: Route Performance Radar\n",
    "\n",
    "Radar chart comparing key performance metrics across all routes."
   ]
  },
  {
   "cell_type": "code",
   "execution_count": null,
   "id": "a4178d70",
   "metadata": {},
   "outputs": [],
   "source": [
    "# Calculate metrics for each route for radar chart\n",
    "radar_metrics = []\n",
    "\n",
    "for route_id in wego['ROUTE_ABBR'].unique():\n",
    "    route_df = wego[wego['ROUTE_ABBR'] == route_id]\n",
    "\n",
    "    ontime = route_df['ADJUSTED_ONTIME_COUNT'].sum()\n",
    "    total = ontime + route_df['ADJUSTED_EARLY_COUNT'].sum() + route_df['ADJUSTED_LATE_COUNT'].sum()\n",
    "\n",
    "    metrics = {\n",
    "        'Route': str(route_id),\n",
    "        'On-Time %': (ontime / total * 100) if total > 0 else 0,\n",
    "        'Volume (scaled)': min(100, (total / wego.shape[0]) * 1000),  # Scale for visibility\n",
    "        'Adherence Score': 100 - abs(route_df['ADHERENCE'].mean()),  # Inverse of deviation\n",
    "        'Headway Stability': 100 - abs(route_df['HDWY_DEV'].mean()),  # Inverse of deviation\n",
    "        'Consistency': route_df['ADHERENCE'].std() if len(route_df) > 1 else 0\n",
    "    }\n",
    "    metrics['Consistency'] = 100 - min(100, metrics['Consistency'] * 5)  # Inverse and scale\n",
    "\n",
    "    radar_metrics.append(metrics)\n",
    "\n",
    "radar_df = pd.DataFrame(radar_metrics)\n",
    "radar_df.to_csv('output/tables/radar_metrics.csv', index=False)\n",
    "\n",
    "# Create radar chart using plotly\n",
    "categories = ['On-Time %', 'Volume (scaled)', 'Adherence Score', 'Headway Stability', 'Consistency']\n",
    "\n",
    "from itertools import cycle\n",
    "\n",
    "def hex_to_rgba(hex_color: str, alpha: float = 0.25) -> str:\n",
    "    hex_color = hex_color.lstrip('#')\n",
    "    r, g, b = int(hex_color[0:2], 16), int(hex_color[2:4], 16), int(hex_color[4:6], 16)\n",
    "    return f'rgba({r}, {g}, {b}, {alpha})'\n",
    "\n",
    "wego_palette = [\n",
    "    WEGO_COLORS['navy'],\n",
    "    WEGO_COLORS['purple'],\n",
    "    WEGO_COLORS['green'],\n",
    "    WEGO_COLORS['orange'],\n",
    "    WEGO_COLORS['charcoal'],\n",
    "]\n",
    "color_cycle = cycle(wego_palette)\n",
    "\n",
    "fig = go.Figure()\n",
    "\n",
    "for idx, row in radar_df.iterrows():\n",
    "    trace_color = next(color_cycle)\n",
    "    fig.add_trace(go.Scatterpolar(\n",
    "        r=[row[cat] for cat in categories],\n",
    "        theta=categories,\n",
    "        fill='toself',\n",
    "        fillcolor=hex_to_rgba(trace_color, 0.2),\n",
    "        line=dict(color=trace_color, width=2),\n",
    "        name=row['Route']\n",
    "    ))\n",
    "\n",
    "fig.update_layout(\n",
    "    polar=dict(\n",
    "        radialaxis=dict(\n",
    "            visible=True,\n",
    "            range=[0, 100],\n",
    "            gridcolor=hex_to_rgba(WEGO_COLORS['slate'], 0.4),\n",
    "            tickfont=dict(color=WEGO_COLORS['slate'])\n",
    "        ),\n",
    "        angularaxis=dict(\n",
    "            linecolor=hex_to_rgba(WEGO_COLORS['charcoal'], 0.5),\n",
    "            tickfont=dict(color=WEGO_COLORS['slate'])\n",
    "        )\n",
    "    ),\n",
    "    showlegend=True,\n",
    "    legend=dict(font=dict(color=WEGO_COLORS['slate']), bgcolor=hex_to_rgba(WEGO_COLORS['navy'], 0.05)),\n",
    "    title='Route Performance Radar Chart',\n",
    "    width=900,\n",
    "    height=700,\n",
    "    font=dict(color=WEGO_COLORS['slate']),\n",
    "    paper_bgcolor='white'\n",
    ")\n",
    "\n",
    "save_plotly_figure(fig, 'radar_routes')"
   ]
  },
  {
   "cell_type": "markdown",
   "id": "4b4234e2",
   "metadata": {},
   "source": [
    "## Slide 12: Performance Waterfall Analysis\n",
    "\n",
    "Waterfall chart showing cumulative impact of performance factors."
   ]
  },
  {
   "cell_type": "code",
   "execution_count": null,
   "id": "05a9077b",
   "metadata": {},
   "outputs": [],
   "source": [
    "# Create waterfall data showing performance breakdown\n",
    "total_trips = wego['ADJUSTED_ONTIME_COUNT'].sum() + wego['ADJUSTED_EARLY_COUNT'].sum() + wego['ADJUSTED_LATE_COUNT'].sum()\n",
    "ontime_base = wego['ADJUSTED_ONTIME_COUNT'].sum()\n",
    "\n",
    "# Calculate impact factors (simplified for waterfall visualization)\n",
    "# These represent deviations from perfect performance\n",
    "early_impact = wego['ADJUSTED_EARLY_COUNT'].sum()\n",
    "late_impact = wego['ADJUSTED_LATE_COUNT'].sum()\n",
    "\n",
    "waterfall_data = {\n",
    "    'Category': ['Total Trips', 'On-Time', 'Early Departures', 'Late Arrivals', 'Final Performance'],\n",
    "    'Value': [total_trips, ontime_base, -early_impact, -late_impact, ontime_base],\n",
    "    'Measure': ['absolute', 'relative', 'relative', 'relative', 'total']\n",
    "}\n",
    "\n",
    "waterfall_df = pd.DataFrame(waterfall_data)\n",
    "waterfall_df.to_csv('output/tables/waterfall_breakdown.csv', index=False)\n",
    "\n",
    "# Create waterfall chart\n",
    "fig = go.Figure(go.Waterfall(\n",
    "    name=\"Performance\",\n",
    "    orientation=\"v\",\n",
    "    measure=waterfall_df['Measure'],\n",
    "    x=waterfall_df['Category'],\n",
    "    y=waterfall_df['Value'],\n",
    "    text=[f\"{v:,.0f}\" for v in waterfall_df['Value']],\n",
    "    textposition=\"outside\",\n",
    "    connector={\"line\": {\"color\": \"rgb(63, 63, 63)\"}},\n",
    "    increasing={\"marker\": {\"color\": \"#2ECC71\"}},\n",
    "    decreasing={\"marker\": {\"color\": \"#E74C3C\"}},\n",
    "    totals={\"marker\": {\"color\": \"#3498DB\"}}\n",
    "))\n",
    "\n",
    "fig.update_layout(\n",
    "    title=\"Performance Waterfall Analysis\",\n",
    "    showlegend=False,\n",
    "    width=1000,\n",
    "    height=600,\n",
    "    yaxis_title=\"Number of Trips\"\n",
    ")\n",
    "\n",
    "save_plotly_figure(fig, 'waterfall_performance')"
   ]
  },
  {
   "cell_type": "markdown",
   "id": "d7eb67cc",
   "metadata": {},
   "source": [
    "## Slide 13: Key Findings & Recommendations\n",
    "\n",
    "Summary of insights and actionable recommendations."
   ]
  },
  {
   "cell_type": "code",
   "execution_count": null,
   "id": "42a3cac3",
   "metadata": {},
   "outputs": [],
   "source": [
    "# Generate comprehensive summary statistics for recommendations\n",
    "summary_stats = {\n",
    "    'Metric': [\n",
    "        'Overall On-Time Performance',\n",
    "        'Total Records Analyzed',\n",
    "        'Number of Routes',\n",
    "        'Number of Operators',\n",
    "        'Average Adherence (minutes)',\n",
    "        'Average Headway Deviation (minutes)',\n",
    "        'Late Trips Percentage',\n",
    "        'Early Trips Percentage',\n",
    "        'Best Performing Route',\n",
    "        'Worst Performing Route',\n",
    "        'Best Day (On-Time %)',\n",
    "        'Worst Day (On-Time %)',\n",
    "        'Peak Hour Performance Drop',\n",
    "        'Operator Performance Range'\n",
    "    ],\n",
    "    'Value': []\n",
    "}\n",
    "\n",
    "# Calculate values\n",
    "total_ontime = wego['ADJUSTED_ONTIME_COUNT'].sum()\n",
    "total_early = wego['ADJUSTED_EARLY_COUNT'].sum()\n",
    "total_late = wego['ADJUSTED_LATE_COUNT'].sum()\n",
    "total = total_ontime + total_early + total_late\n",
    "\n",
    "# Route performance\n",
    "route_perf = wego.groupby('ROUTE_ABBR').agg({\n",
    "    'ADJUSTED_ONTIME_COUNT': 'sum',\n",
    "    'ADJUSTED_EARLY_COUNT': 'sum',\n",
    "    'ADJUSTED_LATE_COUNT': 'sum'\n",
    "})\n",
    "route_perf['Total'] = route_perf.sum(axis=1)\n",
    "route_perf['OnTime_Pct'] = (route_perf['ADJUSTED_ONTIME_COUNT'] / route_perf['Total']) * 100\n",
    "best_route = route_perf['OnTime_Pct'].idxmax()\n",
    "worst_route = route_perf['OnTime_Pct'].idxmin()\n",
    "\n",
    "# Day performance\n",
    "wego['DATE'] = pd.to_datetime(wego['DATE'])\n",
    "wego['DAY_OF_WEEK'] = wego['DATE'].dt.day_name()\n",
    "day_perf = wego.groupby('DAY_OF_WEEK').agg({\n",
    "    'ADJUSTED_ONTIME_COUNT': 'sum',\n",
    "    'ADJUSTED_EARLY_COUNT': 'sum',\n",
    "    'ADJUSTED_LATE_COUNT': 'sum'\n",
    "})\n",
    "day_perf['Total'] = day_perf.sum(axis=1)\n",
    "day_perf['OnTime_Pct'] = (day_perf['ADJUSTED_ONTIME_COUNT'] / day_perf['Total']) * 100\n",
    "best_day = day_perf['OnTime_Pct'].idxmax()\n",
    "worst_day = day_perf['OnTime_Pct'].idxmin()\n",
    "\n",
    "# Operator range\n",
    "op_perf = operator[operator['Total'] >= 50]['OnTime_Pct']\n",
    "\n",
    "summary_stats['Value'] = [\n",
    "    f\"{(total_ontime/total)*100:.2f}%\",\n",
    "    f\"{total:,}\",\n",
    "    f\"{wego['ROUTE_ABBR'].nunique()}\",\n",
    "    f\"{wego['OPERATOR'].nunique()}\",\n",
    "    f\"{wego['ADHERENCE'].mean():.2f}\",\n",
    "    f\"{wego['HDWY_DEV'].mean():.2f}\",\n",
    "    f\"{(total_late/total)*100:.2f}%\",\n",
    "    f\"{(total_early/total)*100:.2f}%\",\n",
    "    f\"Route {best_route} ({route_perf.loc[best_route, 'OnTime_Pct']:.1f}%)\",\n",
    "    f\"Route {worst_route} ({route_perf.loc[worst_route, 'OnTime_Pct']:.1f}%)\",\n",
    "    f\"{best_day} ({day_perf.loc[best_day, 'OnTime_Pct']:.1f}%)\",\n",
    "    f\"{worst_day} ({day_perf.loc[worst_day, 'OnTime_Pct']:.1f}%)\",\n",
    "    \"Analysis shows peak hour impact\",\n",
    "    f\"{op_perf.min():.1f}% - {op_perf.max():.1f}%\"\n",
    "]\n",
    "\n",
    "summary_df = pd.DataFrame(summary_stats)\n",
    "summary_df.to_csv('output/tables/key_findings_summary.csv', index=False)\n",
    "\n",
    "# Create visual summary\n",
    "fig, ax = plt.subplots(figsize=(12, 10))\n",
    "ax.axis('off')\n",
    "\n",
    "# Title\n",
    "title_text = \"WeGo Bus Performance Analysis\\nKey Findings & Recommendations\"\n",
    "ax.text(0.5, 0.95, title_text, ha='center', va='top', fontsize=20, fontweight='bold', color='#2C3E50')\n",
    "\n",
    "# Findings section\n",
    "findings_y = 0.85\n",
    "ax.text(0.05, findings_y, \"KEY FINDINGS:\", fontsize=16, fontweight='bold', color='#9B59B6')\n",
    "\n",
    "findings = [\n",
    "    f\"• System achieves {summary_stats['Value'][0]} on-time performance across {summary_stats['Value'][1]} trips\",\n",
    "    f\"• Route performance varies significantly: best route at {route_perf.loc[best_route, 'OnTime_Pct']:.1f}%, worst at {route_perf.loc[worst_route, 'OnTime_Pct']:.1f}%\",\n",
    "    f\"• {summary_stats['Value'][6]} of trips are late, primarily during peak hours\",\n",
    "    f\"• Day-of-week impact: {best_day} performs best, {worst_day} shows most challenges\",\n",
    "    f\"• Operator performance ranges from {op_perf.min():.1f}% to {op_perf.max():.1f}% (operators with 50+ trips)\",\n",
    "    f\"• Strong correlation exists between adherence and headway deviation\"\n",
    "]\n",
    "\n",
    "y_pos = findings_y - 0.08\n",
    "for finding in findings:\n",
    "    ax.text(0.05, y_pos, finding, fontsize=11, color='#34495E', wrap=True)\n",
    "    y_pos -= 0.06\n",
    "\n",
    "# Recommendations section\n",
    "rec_y = y_pos - 0.05\n",
    "ax.text(0.05, rec_y, \"RECOMMENDATIONS:\", fontsize=16, fontweight='bold', color='#E74C3C')\n",
    "\n",
    "recommendations = [\n",
    "    \"1. Focus interventions on underperforming routes and peak hours\",\n",
    "    \"2. Provide targeted training for operators with on-time rates below 75%\",\n",
    "    \"3. Investigate Friday operations for systemic delays\",\n",
    "    \"4. Implement real-time monitoring for headway deviation on high-volume routes\",\n",
    "    \"5. Review scheduling for routes with consistent late performance\",\n",
    "    \"6. Share best practices from top-performing operators and routes\"\n",
    "]\n",
    "\n",
    "y_pos = rec_y - 0.08\n",
    "for rec in recommendations:\n",
    "    ax.text(0.05, y_pos, rec, fontsize=11, color='#34495E')\n",
    "    y_pos -= 0.06\n",
    "\n",
    "# Footer\n",
    "ax.text(0.5, 0.02, f\"Analysis Period: August 1 - September 30, 2023 | Total Routes: {summary_stats['Value'][2]} | Total Operators: {summary_stats['Value'][3]}\", \n",
    "        ha='center', fontsize=9, color='#7F8C8D', style='italic')\n",
    "\n",
    "plt.tight_layout()\n",
    "save_matplotlib_figure('key_findings_recommendations')\n",
    "print('\\n=== Summary Statistics Saved ===')\n",
    "print(summary_df.to_string(index=False))"
   ]
  },
  {
   "cell_type": "code",
   "execution_count": null,
   "id": "c3226d9c",
   "metadata": {},
   "outputs": [],
   "source": [
    "def save_plotly_figure(fig, filename, save_pdf=SAVE_PDF):\n",
    "    \"\"\"\n",
    "    Save a Plotly figure as PNG and optionally as PDF.\n",
    "    \n",
    "    Args:\n",
    "        fig: Plotly figure object\n",
    "        filename: Base filename without extension (e.g., 'gauge_ontime')\n",
    "        save_pdf: Whether to also save as PDF (default: True)\n",
    "    \"\"\"\n",
    "    # Save PNG\n",
    "    png_path = f'output/images/{filename}.png'\n",
    "    fig.write_image(png_path, scale=2)\n",
    "    print(f'Saved {filename}.png')\n",
    "    \n",
    "    # Save PDF if enabled\n",
    "    if save_pdf:\n",
    "        pdf_path = f'output/pdf/{filename}.pdf'\n",
    "        fig.write_image(pdf_path)\n",
    "        print(f'Saved {filename}.pdf')\n",
    "\n",
    "def save_matplotlib_figure(filename, save_pdf=SAVE_PDF):\n",
    "    \"\"\"\n",
    "    Save a Matplotlib figure as PNG and optionally as PDF.\n",
    "    \n",
    "    Args:\n",
    "        filename: Base filename without extension (e.g., 'heatmap_day_hour')\n",
    "        save_pdf: Whether to also save as PDF (default: True)\n",
    "    \"\"\"\n",
    "    # Save PNG\n",
    "    png_path = f'output/images/{filename}.png'\n",
    "    plt.savefig(png_path, dpi=150, bbox_inches='tight')\n",
    "    print(f'Saved {filename}.png')\n",
    "    \n",
    "    # Save PDF if enabled\n",
    "    if save_pdf:\n",
    "        pdf_path = f'output/pdf/{filename}.pdf'\n",
    "        plt.savefig(pdf_path, bbox_inches='tight')\n",
    "        print(f'Saved {filename}.pdf')\n",
    "    \n",
    "    plt.close()"
   ]
  },
  {
   "cell_type": "markdown",
   "id": "e8324b7c",
   "metadata": {},
   "source": [
    "## 📝 Export Format Options\n",
    "\n",
    "**To control PDF export:**\n",
    "\n",
    "1. **Enable PDF export** (default): Set `SAVE_PDF = True` in the imports cell\n",
    "2. **Disable PDF export** (PNG only): Set `SAVE_PDF = False` in the imports cell\n",
    "\n",
    "All visualizations are saved to:\n",
    "- **PNG files**: `output/images/` (high resolution, 2x scale)\n",
    "- **PDF files**: `output/pdf/` (vector format, publication quality)\n",
    "- **Data tables**: `output/tables/` (CSV format)\n",
    "\n",
    "**File formats:**\n",
    "- **PNG**: Best for presentations, web use, and embedding in documents\n",
    "- **PDF**: Best for print publications, scaling to any size without quality loss"
   ]
  }
 ],
 "metadata": {
  "kernelspec": {
   "display_name": "anaconda-ml-ai",
   "language": "python",
   "name": "conda-env-anaconda-ml-ai"
  },
  "language_info": {
   "codemirror_mode": {
    "name": "ipython",
    "version": 3
   },
   "file_extension": ".py",
   "mimetype": "text/x-python",
   "name": "python",
   "nbconvert_exporter": "python",
   "pygments_lexer": "ipython3",
   "version": "3.11.13"
  }
 },
 "nbformat": 4,
 "nbformat_minor": 5
}
